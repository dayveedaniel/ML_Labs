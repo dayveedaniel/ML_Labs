{
  "cells": [
    {
      "cell_type": "markdown",
      "metadata": {
        "collapsed": true,
        "id": "w79b4QXDSQg7"
      },
      "source": [
        "# Week 6 : Artificial neural network in PyTorch\n",
        "```\n",
        "- Machine Learning, Innopolis University (Fall semester 2024)\n",
        "- Instructors: Adil Khan & Gcinizwe Dlamini\n",
        "```\n",
        "<hr>\n",
        "\n",
        "In this lab, you will practice simple deep learning model in Pytorch.\n",
        "```\n",
        "Lab Plan\n",
        "1. Theoretical issues with ANNs\n",
        "2. Deep learning frameworks\n",
        "3. Introduction to Pytorch : Linear Regression with Pytorch\n",
        "3. Simple ANN model for classification\n",
        "4. Training ANNs\n",
        "```\n",
        "\n",
        "<hr>\n"
      ]
    },
    {
      "cell_type": "markdown",
      "metadata": {
        "id": "d8rjVZMsSQg9"
      },
      "source": [
        "## 1. Theoretical issues\n",
        "Ordinary fully connected neural nets consists of Dense layers, activations, and output layer.\n",
        "\n",
        "1. What's the difference between deep learning and normal machine learning?\n",
        "2. How does a neural network with no hidden layers and one output neuron compare to a logistic/linear regression?\n",
        "3. Can the perceptron find a non-linear decision boundary?\n",
        "4. In multi-hidden layers network, what's the need of non-linear activation function?\n",
        "5. Is random weight assignment better than assigning same weights to the units in the hidden layer.\n",
        "---"
      ]
    },
    {
      "cell_type": "markdown",
      "metadata": {
        "id": "O78V5hblSQg-"
      },
      "source": [
        "## 2. Deep learning framework : PyTorch\n",
        "\n",
        "Getting started with Pytorch"
      ]
    },
    {
      "cell_type": "markdown",
      "metadata": {
        "collapsed": false,
        "id": "chXCKNSYSQg-"
      },
      "source": [
        "## 2.1 Linear Regression with Numpy"
      ]
    },
    {
      "cell_type": "code",
      "execution_count": 2,
      "metadata": {
        "id": "eOPVFJo-SQg_"
      },
      "outputs": [],
      "source": [
        "import numpy as np\n",
        "import pandas as pd\n",
        "from matplotlib import pyplot as plt\n",
        "from sqlalchemy import create_engine, text"
      ]
    },
    {
      "cell_type": "code",
      "execution_count": 3,
      "metadata": {
        "id": "qu3YB4HXnbHz"
      },
      "outputs": [],
      "source": [
        "QUERY = \"\"\"\n",
        "select\n",
        "    order_history.order_id,\n",
        "    order_history.STATUS_ID,\n",
        "    start_prepare.VALUE start_prepare_time,\n",
        "    order_ready.VALUE order_ready_time,\n",
        "    sale_basket.store_id,\n",
        "    sale_basket.product_id\n",
        "from order_history\n",
        "inner join main.order_props_value order_ready on order_history.order_id = order_ready.order_id and order_ready.ORDER_PROPS_ID = 95\n",
        "inner join main.order_props_value start_prepare on order_history.order_id = start_prepare.order_id and start_prepare.ORDER_PROPS_ID = 97\n",
        "inner join order_busket AS sale_basket ON sale_basket.order_id = order_history.order_id\n",
        "where sale_basket.store_id = 5863\n",
        "\"\"\"\n",
        "\n",
        "session_engine = create_engine('sqlite:////Users/dayveed/VscodeProjects/ML_labs/Assignment_1/F24.ML.Assignment.One.data.db')\n",
        "\n",
        "\n",
        "with session_engine.connect() as conn:\n",
        "    assignment_data = pd.read_sql_query(sql=text(QUERY), con=conn)\n",
        "\n",
        "for column in ['order_ready_time','start_prepare_time']:\n",
        "  assignment_data[column] = pd.to_datetime(assignment_data[column], errors=\"coerce\")\n",
        "\n",
        "\n",
        "assignment_data.dropna(axis=0, inplace=True)\n",
        "assignment_data.sort_values(by='start_prepare_time', inplace=True)\n",
        "assignment_data[\"prep_time\"] = (assignment_data.order_ready_time - assignment_data.start_prepare_time).dt.seconds // 60"
      ]
    },
    {
      "cell_type": "code",
      "execution_count": 4,
      "metadata": {
        "id": "rDLIR82HSQg_"
      },
      "outputs": [],
      "source": [
        "def generate_data(size=100, train_ratio=0.8, data_type='random'):\n",
        "  indices = np.arange(size)\n",
        "  if data_type == 'random':\n",
        "    # Generate random x values and corresponding y values with added noise\n",
        "    x = np.random.rand(size, 1)\n",
        "    y = 3 + 2.5 * x + 0.1 * np.random.randn(size, 1)\n",
        "\n",
        "    # Shuffle the indices to randomize the data\n",
        "    np.random.shuffle(indices)\n",
        "\n",
        "  else:\n",
        "    tot_items = assignment_data.groupby(\"order_id\").apply(lambda x: len(x)).reset_index().rename(columns={0: 'tot_items'})\n",
        "    prep_time = assignment_data.drop_duplicates(subset=['order_id'])[['order_id', 'prep_time']]\n",
        "    data = pd.merge(left=tot_items, right=prep_time, on='order_id').drop('order_id', axis=1).reset_index(drop=True)\n",
        "    x = data['tot_items'].values[:size]\n",
        "    y = data['prep_time'].values[:size]\n",
        "  # Split the indices based on the train-validation ratio\n",
        "  split_idx = int(size * train_ratio)\n",
        "  train_indices = indices[:split_idx]\n",
        "  val_indices = indices[split_idx:]\n",
        "\n",
        "  # Generate train and validation datasets\n",
        "  x_train, y_train = x[train_indices], y[train_indices]\n",
        "  x_val, y_val = x[val_indices], y[val_indices]\n",
        "\n",
        "  return x_train, y_train, x_val, y_val"
      ]
    },
    {
      "cell_type": "markdown",
      "metadata": {
        "collapsed": false,
        "id": "7-QM0a1ISQhA"
      },
      "source": [
        "## Generate Dataset"
      ]
    },
    {
      "cell_type": "code",
      "execution_count": 5,
      "metadata": {
        "colab": {
          "base_uri": "https://localhost:8080/",
          "height": 542
        },
        "id": "h9zQ7Gj5bRzb",
        "outputId": "92e189bf-168f-4262-a5ec-85c2d63c7e18"
      },
      "outputs": [
        {
          "data": {
            "application/vnd.plotly.v1+json": {
              "config": {
                "plotlyServerURL": "https://plot.ly"
              },
              "data": [
                {
                  "hovertemplate": "X Values=%{x}<br>Y Values=%{y}<extra></extra>",
                  "legendgroup": "",
                  "marker": {
                    "color": "blue",
                    "opacity": 0.7,
                    "symbol": "circle"
                  },
                  "mode": "markers",
                  "name": "",
                  "orientation": "v",
                  "showlegend": false,
                  "type": "scatter",
                  "x": [
                    0.11569194781779102,
                    0.42756827267968356,
                    0.9477037205211404,
                    0.46645601421960625,
                    0.8885845032820119,
                    0.22900871149625235,
                    0.3291795141602263,
                    0.1440204743277569,
                    0.39749854080187697,
                    0.9780349247822748,
                    0.42486612260967216,
                    0.845004878201502,
                    0.24921259992174016,
                    0.6125195085281008,
                    0.12414978836384472,
                    0.3018338820722344,
                    0.6821183875043164,
                    0.5196603998617592,
                    0.08856621916973995,
                    0.9567706020293429,
                    0.8636644526452036,
                    0.29977160717952833,
                    0.1548479925468439,
                    0.33912740857867274,
                    0.8604360222862248,
                    0.015025254489425488,
                    0.5815688433675886,
                    0.41706825205021003,
                    0.5996573752834287,
                    0.08915957926873741,
                    0.3964183891349007,
                    0.21831695377761018,
                    0.2023987856891195,
                    0.08424769026832024,
                    0.05731575048291637,
                    0.8925417946842618,
                    0.5778348275190475,
                    0.10926473138600035,
                    0.26496237501648556,
                    0.2830569164707648,
                    0.7789029037288513,
                    0.7140474823316469,
                    0.7763806025615777,
                    0.9130481925355264,
                    0.051216306633516506,
                    0.8241532228815563,
                    0.6782733060852302,
                    0.9117770465542931,
                    0.28125786246610385,
                    0.25508013236799876,
                    0.11566842435716507,
                    0.9326065710717565,
                    0.43948851329356486,
                    0.09718386641718457,
                    0.4004694695317075,
                    0.25372800439515664,
                    0.8210384858402549,
                    0.8096311404181366,
                    0.8498412036263843,
                    0.5842987630512841,
                    0.9447770012438761,
                    0.3738562289783649,
                    0.27075119623832655,
                    0.834463346658769,
                    0.7561478638333095,
                    0.1062733178452564,
                    0.8056497125388504,
                    0.7526106747081956,
                    0.7355123268201023,
                    0.22292656608124162,
                    0.40640603929161667,
                    0.3272303643578347,
                    0.16092191007273648,
                    0.38114127229612615,
                    0.43316035398610386,
                    0.11262837845821438,
                    0.5824134923438253,
                    0.29565595827762414,
                    0.7546701730433546,
                    0.33837869164436807
                  ],
                  "xaxis": "x",
                  "y": [
                    3.1978230836775627,
                    4.025252188603224,
                    5.37537628703713,
                    4.091500345712255,
                    5.1536136752249995,
                    3.62748984076317,
                    3.8011685103746258,
                    3.2843320153179127,
                    3.863009003681575,
                    5.367061182524711,
                    4.0981410393063955,
                    5.189043161307093,
                    3.4984067854902885,
                    4.474537091440409,
                    3.2588909238694788,
                    3.73834827420653,
                    4.597225062905982,
                    4.307165563186054,
                    2.9718539063606624,
                    5.567074784768918,
                    5.058933106923088,
                    3.650104774292842,
                    3.4263846113084853,
                    3.995433682305603,
                    5.234888819238598,
                    3.0277861077502566,
                    4.573080864567058,
                    3.996598426337306,
                    4.368779540228187,
                    3.1686469122915852,
                    3.8192240225469494,
                    3.4886643815455565,
                    3.478501187001826,
                    3.1682105800831577,
                    3.18101165223924,
                    5.3790714654254295,
                    4.638545634652982,
                    3.165192987071447,
                    3.6721935977283984,
                    3.675666893571518,
                    4.748302590131392,
                    4.672322000966345,
                    4.879443283692403,
                    5.456678749374995,
                    3.2310844898101223,
                    4.9474668817568945,
                    4.614976541445181,
                    5.221901759299918,
                    3.622377385937094,
                    3.763447985075132,
                    3.261560717865602,
                    5.4041978891997475,
                    4.0931829638361465,
                    3.2921121579846524,
                    4.083676619153112,
                    3.6526203351646345,
                    5.003247977900501,
                    5.055962179375744,
                    5.244009997959481,
                    4.275229469174119,
                    5.434279576851767,
                    3.929063519267727,
                    3.5552573668150655,
                    5.264432676464114,
                    4.793105419007471,
                    3.299620331588329,
                    5.2167680064467445,
                    4.975320189609126,
                    4.827818027025084,
                    3.728195071429231,
                    4.255886727208287,
                    3.747106118321098,
                    3.358326427581955,
                    4.006867438397863,
                    4.187470277514232,
                    3.303978468356185,
                    4.464944281622118,
                    3.763322915894067,
                    4.918533145250117,
                    3.9645284464684174
                  ],
                  "yaxis": "y"
                },
                {
                  "line": {
                    "color": "red",
                    "width": 2
                  },
                  "mode": "lines",
                  "name": "Linear Regression Prediction",
                  "type": "scatter",
                  "x": [
                    0.11569194781779102,
                    0.42756827267968356,
                    0.9477037205211404,
                    0.46645601421960625,
                    0.8885845032820119,
                    0.22900871149625235,
                    0.3291795141602263,
                    0.1440204743277569,
                    0.39749854080187697,
                    0.9780349247822748,
                    0.42486612260967216,
                    0.845004878201502,
                    0.24921259992174016,
                    0.6125195085281008,
                    0.12414978836384472,
                    0.3018338820722344,
                    0.6821183875043164,
                    0.5196603998617592,
                    0.08856621916973995,
                    0.9567706020293429,
                    0.8636644526452036,
                    0.29977160717952833,
                    0.1548479925468439,
                    0.33912740857867274,
                    0.8604360222862248,
                    0.015025254489425488,
                    0.5815688433675886,
                    0.41706825205021003,
                    0.5996573752834287,
                    0.08915957926873741,
                    0.3964183891349007,
                    0.21831695377761018,
                    0.2023987856891195,
                    0.08424769026832024,
                    0.05731575048291637,
                    0.8925417946842618,
                    0.5778348275190475,
                    0.10926473138600035,
                    0.26496237501648556,
                    0.2830569164707648,
                    0.7789029037288513,
                    0.7140474823316469,
                    0.7763806025615777,
                    0.9130481925355264,
                    0.051216306633516506,
                    0.8241532228815563,
                    0.6782733060852302,
                    0.9117770465542931,
                    0.28125786246610385,
                    0.25508013236799876,
                    0.11566842435716507,
                    0.9326065710717565,
                    0.43948851329356486,
                    0.09718386641718457,
                    0.4004694695317075,
                    0.25372800439515664,
                    0.8210384858402549,
                    0.8096311404181366,
                    0.8498412036263843,
                    0.5842987630512841,
                    0.9447770012438761,
                    0.3738562289783649,
                    0.27075119623832655,
                    0.834463346658769,
                    0.7561478638333095,
                    0.1062733178452564,
                    0.8056497125388504,
                    0.7526106747081956,
                    0.7355123268201023,
                    0.22292656608124162,
                    0.40640603929161667,
                    0.3272303643578347,
                    0.16092191007273648,
                    0.38114127229612615,
                    0.43316035398610386,
                    0.11262837845821438,
                    0.5824134923438253,
                    0.29565595827762414,
                    0.7546701730433546,
                    0.33837869164436807
                  ],
                  "y": [
                    3.268368447347635,
                    4.064750876559505,
                    5.392927138911624,
                    4.16405150185654,
                    5.241965036036868,
                    3.557725068337198,
                    3.8135132151193067,
                    3.340705906011706,
                    3.9879672151860373,
                    5.470378475242139,
                    4.057850882346083,
                    5.130683592339185,
                    3.6093161012600743,
                    4.537027554040314,
                    3.2899657122343995,
                    3.743685597007503,
                    4.714749682624606,
                    4.299909964024792,
                    3.199102357065075,
                    5.416079602068537,
                    5.178331188642352,
                    3.738419536848935,
                    3.368354190200866,
                    3.838915362351912,
                    5.170087327191942,
                    3.01131403384231,
                    4.457994411921666,
                    4.037938864011333,
                    4.504183839716136,
                    3.2006175139377433,
                    3.9852090263147124,
                    3.5304234512994586,
                    3.489776090918613,
                    3.188074907198025,
                    3.11930366064962,
                    5.2520700587294975,
                    4.448459527818187,
                    3.25195642172406,
                    3.64953346676561,
                    3.6957382400366017,
                    4.961890879299675,
                    4.796281264453992,
                    4.955450132854152,
                    5.30443355551755,
                    3.1037286088665854,
                    5.077438473703968,
                    4.7049311903668,
                    5.30118765884724,
                    3.6911443196768254,
                    3.624298962639822,
                    3.268308379720748,
                    5.354376266035976,
                    4.0951894492247325,
                    3.221107691558003,
                    3.9955535410795644,
                    3.6208462768353,
                    5.06948493041271,
                    5.040356045871222,
                    5.143033245978437,
                    4.46496531639868,
                    5.385453702738868,
                    3.9275960993902785,
                    3.664315337460555,
                    5.1037655808443,
                    4.903785430106475,
                    3.244317787456422,
                    5.03018939020205,
                    4.894753146975374,
                    4.8510921738872135,
                    3.5421941884521315,
                    4.010712690619613,
                    3.808536022139962,
                    3.383864060006613,
                    3.946198603113129,
                    4.079030367948053,
                    3.2605455617543826,
                    4.46015123996504,
                    3.727910145115744,
                    4.900012117138749,
                    3.8370034986950676
                  ]
                }
              ],
              "layout": {
                "legend": {
                  "tracegroupgap": 0
                },
                "template": {
                  "data": {
                    "bar": [
                      {
                        "error_x": {
                          "color": "#2a3f5f"
                        },
                        "error_y": {
                          "color": "#2a3f5f"
                        },
                        "marker": {
                          "line": {
                            "color": "#E5ECF6",
                            "width": 0.5
                          },
                          "pattern": {
                            "fillmode": "overlay",
                            "size": 10,
                            "solidity": 0.2
                          }
                        },
                        "type": "bar"
                      }
                    ],
                    "barpolar": [
                      {
                        "marker": {
                          "line": {
                            "color": "#E5ECF6",
                            "width": 0.5
                          },
                          "pattern": {
                            "fillmode": "overlay",
                            "size": 10,
                            "solidity": 0.2
                          }
                        },
                        "type": "barpolar"
                      }
                    ],
                    "carpet": [
                      {
                        "aaxis": {
                          "endlinecolor": "#2a3f5f",
                          "gridcolor": "white",
                          "linecolor": "white",
                          "minorgridcolor": "white",
                          "startlinecolor": "#2a3f5f"
                        },
                        "baxis": {
                          "endlinecolor": "#2a3f5f",
                          "gridcolor": "white",
                          "linecolor": "white",
                          "minorgridcolor": "white",
                          "startlinecolor": "#2a3f5f"
                        },
                        "type": "carpet"
                      }
                    ],
                    "choropleth": [
                      {
                        "colorbar": {
                          "outlinewidth": 0,
                          "ticks": ""
                        },
                        "type": "choropleth"
                      }
                    ],
                    "contour": [
                      {
                        "colorbar": {
                          "outlinewidth": 0,
                          "ticks": ""
                        },
                        "colorscale": [
                          [
                            0,
                            "#0d0887"
                          ],
                          [
                            0.1111111111111111,
                            "#46039f"
                          ],
                          [
                            0.2222222222222222,
                            "#7201a8"
                          ],
                          [
                            0.3333333333333333,
                            "#9c179e"
                          ],
                          [
                            0.4444444444444444,
                            "#bd3786"
                          ],
                          [
                            0.5555555555555556,
                            "#d8576b"
                          ],
                          [
                            0.6666666666666666,
                            "#ed7953"
                          ],
                          [
                            0.7777777777777778,
                            "#fb9f3a"
                          ],
                          [
                            0.8888888888888888,
                            "#fdca26"
                          ],
                          [
                            1,
                            "#f0f921"
                          ]
                        ],
                        "type": "contour"
                      }
                    ],
                    "contourcarpet": [
                      {
                        "colorbar": {
                          "outlinewidth": 0,
                          "ticks": ""
                        },
                        "type": "contourcarpet"
                      }
                    ],
                    "heatmap": [
                      {
                        "colorbar": {
                          "outlinewidth": 0,
                          "ticks": ""
                        },
                        "colorscale": [
                          [
                            0,
                            "#0d0887"
                          ],
                          [
                            0.1111111111111111,
                            "#46039f"
                          ],
                          [
                            0.2222222222222222,
                            "#7201a8"
                          ],
                          [
                            0.3333333333333333,
                            "#9c179e"
                          ],
                          [
                            0.4444444444444444,
                            "#bd3786"
                          ],
                          [
                            0.5555555555555556,
                            "#d8576b"
                          ],
                          [
                            0.6666666666666666,
                            "#ed7953"
                          ],
                          [
                            0.7777777777777778,
                            "#fb9f3a"
                          ],
                          [
                            0.8888888888888888,
                            "#fdca26"
                          ],
                          [
                            1,
                            "#f0f921"
                          ]
                        ],
                        "type": "heatmap"
                      }
                    ],
                    "heatmapgl": [
                      {
                        "colorbar": {
                          "outlinewidth": 0,
                          "ticks": ""
                        },
                        "colorscale": [
                          [
                            0,
                            "#0d0887"
                          ],
                          [
                            0.1111111111111111,
                            "#46039f"
                          ],
                          [
                            0.2222222222222222,
                            "#7201a8"
                          ],
                          [
                            0.3333333333333333,
                            "#9c179e"
                          ],
                          [
                            0.4444444444444444,
                            "#bd3786"
                          ],
                          [
                            0.5555555555555556,
                            "#d8576b"
                          ],
                          [
                            0.6666666666666666,
                            "#ed7953"
                          ],
                          [
                            0.7777777777777778,
                            "#fb9f3a"
                          ],
                          [
                            0.8888888888888888,
                            "#fdca26"
                          ],
                          [
                            1,
                            "#f0f921"
                          ]
                        ],
                        "type": "heatmapgl"
                      }
                    ],
                    "histogram": [
                      {
                        "marker": {
                          "pattern": {
                            "fillmode": "overlay",
                            "size": 10,
                            "solidity": 0.2
                          }
                        },
                        "type": "histogram"
                      }
                    ],
                    "histogram2d": [
                      {
                        "colorbar": {
                          "outlinewidth": 0,
                          "ticks": ""
                        },
                        "colorscale": [
                          [
                            0,
                            "#0d0887"
                          ],
                          [
                            0.1111111111111111,
                            "#46039f"
                          ],
                          [
                            0.2222222222222222,
                            "#7201a8"
                          ],
                          [
                            0.3333333333333333,
                            "#9c179e"
                          ],
                          [
                            0.4444444444444444,
                            "#bd3786"
                          ],
                          [
                            0.5555555555555556,
                            "#d8576b"
                          ],
                          [
                            0.6666666666666666,
                            "#ed7953"
                          ],
                          [
                            0.7777777777777778,
                            "#fb9f3a"
                          ],
                          [
                            0.8888888888888888,
                            "#fdca26"
                          ],
                          [
                            1,
                            "#f0f921"
                          ]
                        ],
                        "type": "histogram2d"
                      }
                    ],
                    "histogram2dcontour": [
                      {
                        "colorbar": {
                          "outlinewidth": 0,
                          "ticks": ""
                        },
                        "colorscale": [
                          [
                            0,
                            "#0d0887"
                          ],
                          [
                            0.1111111111111111,
                            "#46039f"
                          ],
                          [
                            0.2222222222222222,
                            "#7201a8"
                          ],
                          [
                            0.3333333333333333,
                            "#9c179e"
                          ],
                          [
                            0.4444444444444444,
                            "#bd3786"
                          ],
                          [
                            0.5555555555555556,
                            "#d8576b"
                          ],
                          [
                            0.6666666666666666,
                            "#ed7953"
                          ],
                          [
                            0.7777777777777778,
                            "#fb9f3a"
                          ],
                          [
                            0.8888888888888888,
                            "#fdca26"
                          ],
                          [
                            1,
                            "#f0f921"
                          ]
                        ],
                        "type": "histogram2dcontour"
                      }
                    ],
                    "mesh3d": [
                      {
                        "colorbar": {
                          "outlinewidth": 0,
                          "ticks": ""
                        },
                        "type": "mesh3d"
                      }
                    ],
                    "parcoords": [
                      {
                        "line": {
                          "colorbar": {
                            "outlinewidth": 0,
                            "ticks": ""
                          }
                        },
                        "type": "parcoords"
                      }
                    ],
                    "pie": [
                      {
                        "automargin": true,
                        "type": "pie"
                      }
                    ],
                    "scatter": [
                      {
                        "fillpattern": {
                          "fillmode": "overlay",
                          "size": 10,
                          "solidity": 0.2
                        },
                        "type": "scatter"
                      }
                    ],
                    "scatter3d": [
                      {
                        "line": {
                          "colorbar": {
                            "outlinewidth": 0,
                            "ticks": ""
                          }
                        },
                        "marker": {
                          "colorbar": {
                            "outlinewidth": 0,
                            "ticks": ""
                          }
                        },
                        "type": "scatter3d"
                      }
                    ],
                    "scattercarpet": [
                      {
                        "marker": {
                          "colorbar": {
                            "outlinewidth": 0,
                            "ticks": ""
                          }
                        },
                        "type": "scattercarpet"
                      }
                    ],
                    "scattergeo": [
                      {
                        "marker": {
                          "colorbar": {
                            "outlinewidth": 0,
                            "ticks": ""
                          }
                        },
                        "type": "scattergeo"
                      }
                    ],
                    "scattergl": [
                      {
                        "marker": {
                          "colorbar": {
                            "outlinewidth": 0,
                            "ticks": ""
                          }
                        },
                        "type": "scattergl"
                      }
                    ],
                    "scattermapbox": [
                      {
                        "marker": {
                          "colorbar": {
                            "outlinewidth": 0,
                            "ticks": ""
                          }
                        },
                        "type": "scattermapbox"
                      }
                    ],
                    "scatterpolar": [
                      {
                        "marker": {
                          "colorbar": {
                            "outlinewidth": 0,
                            "ticks": ""
                          }
                        },
                        "type": "scatterpolar"
                      }
                    ],
                    "scatterpolargl": [
                      {
                        "marker": {
                          "colorbar": {
                            "outlinewidth": 0,
                            "ticks": ""
                          }
                        },
                        "type": "scatterpolargl"
                      }
                    ],
                    "scatterternary": [
                      {
                        "marker": {
                          "colorbar": {
                            "outlinewidth": 0,
                            "ticks": ""
                          }
                        },
                        "type": "scatterternary"
                      }
                    ],
                    "surface": [
                      {
                        "colorbar": {
                          "outlinewidth": 0,
                          "ticks": ""
                        },
                        "colorscale": [
                          [
                            0,
                            "#0d0887"
                          ],
                          [
                            0.1111111111111111,
                            "#46039f"
                          ],
                          [
                            0.2222222222222222,
                            "#7201a8"
                          ],
                          [
                            0.3333333333333333,
                            "#9c179e"
                          ],
                          [
                            0.4444444444444444,
                            "#bd3786"
                          ],
                          [
                            0.5555555555555556,
                            "#d8576b"
                          ],
                          [
                            0.6666666666666666,
                            "#ed7953"
                          ],
                          [
                            0.7777777777777778,
                            "#fb9f3a"
                          ],
                          [
                            0.8888888888888888,
                            "#fdca26"
                          ],
                          [
                            1,
                            "#f0f921"
                          ]
                        ],
                        "type": "surface"
                      }
                    ],
                    "table": [
                      {
                        "cells": {
                          "fill": {
                            "color": "#EBF0F8"
                          },
                          "line": {
                            "color": "white"
                          }
                        },
                        "header": {
                          "fill": {
                            "color": "#C8D4E3"
                          },
                          "line": {
                            "color": "white"
                          }
                        },
                        "type": "table"
                      }
                    ]
                  },
                  "layout": {
                    "annotationdefaults": {
                      "arrowcolor": "#2a3f5f",
                      "arrowhead": 0,
                      "arrowwidth": 1
                    },
                    "autotypenumbers": "strict",
                    "coloraxis": {
                      "colorbar": {
                        "outlinewidth": 0,
                        "ticks": ""
                      }
                    },
                    "colorscale": {
                      "diverging": [
                        [
                          0,
                          "#8e0152"
                        ],
                        [
                          0.1,
                          "#c51b7d"
                        ],
                        [
                          0.2,
                          "#de77ae"
                        ],
                        [
                          0.3,
                          "#f1b6da"
                        ],
                        [
                          0.4,
                          "#fde0ef"
                        ],
                        [
                          0.5,
                          "#f7f7f7"
                        ],
                        [
                          0.6,
                          "#e6f5d0"
                        ],
                        [
                          0.7,
                          "#b8e186"
                        ],
                        [
                          0.8,
                          "#7fbc41"
                        ],
                        [
                          0.9,
                          "#4d9221"
                        ],
                        [
                          1,
                          "#276419"
                        ]
                      ],
                      "sequential": [
                        [
                          0,
                          "#0d0887"
                        ],
                        [
                          0.1111111111111111,
                          "#46039f"
                        ],
                        [
                          0.2222222222222222,
                          "#7201a8"
                        ],
                        [
                          0.3333333333333333,
                          "#9c179e"
                        ],
                        [
                          0.4444444444444444,
                          "#bd3786"
                        ],
                        [
                          0.5555555555555556,
                          "#d8576b"
                        ],
                        [
                          0.6666666666666666,
                          "#ed7953"
                        ],
                        [
                          0.7777777777777778,
                          "#fb9f3a"
                        ],
                        [
                          0.8888888888888888,
                          "#fdca26"
                        ],
                        [
                          1,
                          "#f0f921"
                        ]
                      ],
                      "sequentialminus": [
                        [
                          0,
                          "#0d0887"
                        ],
                        [
                          0.1111111111111111,
                          "#46039f"
                        ],
                        [
                          0.2222222222222222,
                          "#7201a8"
                        ],
                        [
                          0.3333333333333333,
                          "#9c179e"
                        ],
                        [
                          0.4444444444444444,
                          "#bd3786"
                        ],
                        [
                          0.5555555555555556,
                          "#d8576b"
                        ],
                        [
                          0.6666666666666666,
                          "#ed7953"
                        ],
                        [
                          0.7777777777777778,
                          "#fb9f3a"
                        ],
                        [
                          0.8888888888888888,
                          "#fdca26"
                        ],
                        [
                          1,
                          "#f0f921"
                        ]
                      ]
                    },
                    "colorway": [
                      "#636efa",
                      "#EF553B",
                      "#00cc96",
                      "#ab63fa",
                      "#FFA15A",
                      "#19d3f3",
                      "#FF6692",
                      "#B6E880",
                      "#FF97FF",
                      "#FECB52"
                    ],
                    "font": {
                      "color": "#2a3f5f"
                    },
                    "geo": {
                      "bgcolor": "white",
                      "lakecolor": "white",
                      "landcolor": "#E5ECF6",
                      "showlakes": true,
                      "showland": true,
                      "subunitcolor": "white"
                    },
                    "hoverlabel": {
                      "align": "left"
                    },
                    "hovermode": "closest",
                    "mapbox": {
                      "style": "light"
                    },
                    "paper_bgcolor": "white",
                    "plot_bgcolor": "#E5ECF6",
                    "polar": {
                      "angularaxis": {
                        "gridcolor": "white",
                        "linecolor": "white",
                        "ticks": ""
                      },
                      "bgcolor": "#E5ECF6",
                      "radialaxis": {
                        "gridcolor": "white",
                        "linecolor": "white",
                        "ticks": ""
                      }
                    },
                    "scene": {
                      "xaxis": {
                        "backgroundcolor": "#E5ECF6",
                        "gridcolor": "white",
                        "gridwidth": 2,
                        "linecolor": "white",
                        "showbackground": true,
                        "ticks": "",
                        "zerolinecolor": "white"
                      },
                      "yaxis": {
                        "backgroundcolor": "#E5ECF6",
                        "gridcolor": "white",
                        "gridwidth": 2,
                        "linecolor": "white",
                        "showbackground": true,
                        "ticks": "",
                        "zerolinecolor": "white"
                      },
                      "zaxis": {
                        "backgroundcolor": "#E5ECF6",
                        "gridcolor": "white",
                        "gridwidth": 2,
                        "linecolor": "white",
                        "showbackground": true,
                        "ticks": "",
                        "zerolinecolor": "white"
                      }
                    },
                    "shapedefaults": {
                      "line": {
                        "color": "#2a3f5f"
                      }
                    },
                    "ternary": {
                      "aaxis": {
                        "gridcolor": "white",
                        "linecolor": "white",
                        "ticks": ""
                      },
                      "baxis": {
                        "gridcolor": "white",
                        "linecolor": "white",
                        "ticks": ""
                      },
                      "bgcolor": "#E5ECF6",
                      "caxis": {
                        "gridcolor": "white",
                        "linecolor": "white",
                        "ticks": ""
                      }
                    },
                    "title": {
                      "x": 0.05
                    },
                    "xaxis": {
                      "automargin": true,
                      "gridcolor": "white",
                      "linecolor": "white",
                      "ticks": "",
                      "title": {
                        "standoff": 15
                      },
                      "zerolinecolor": "white",
                      "zerolinewidth": 2
                    },
                    "yaxis": {
                      "automargin": true,
                      "gridcolor": "white",
                      "linecolor": "white",
                      "ticks": "",
                      "title": {
                        "standoff": 15
                      },
                      "zerolinecolor": "white",
                      "zerolinewidth": 2
                    }
                  }
                },
                "title": {
                  "text": "Training Data with Linear Regression Prediction (MSE: 0.0101)"
                },
                "xaxis": {
                  "anchor": "y",
                  "domain": [
                    0,
                    1
                  ],
                  "title": {
                    "text": "X Values"
                  }
                },
                "yaxis": {
                  "anchor": "x",
                  "domain": [
                    0,
                    1
                  ],
                  "title": {
                    "text": "Y Values"
                  }
                }
              }
            }
          },
          "metadata": {},
          "output_type": "display_data"
        }
      ],
      "source": [
        "import numpy as np\n",
        "import plotly.express as px\n",
        "from sklearn.linear_model import LinearRegression\n",
        "from sklearn.metrics import mean_squared_error\n",
        "\n",
        "# Generate data\n",
        "x_train, y_train, x_val, y_val = generate_data(data_type='random')\n",
        "\n",
        "# Reshape x_train for sklearn\n",
        "x_train_reshaped = x_train.reshape(-1, 1)\n",
        "\n",
        "# Fit the linear regression model\n",
        "model = LinearRegression()\n",
        "model.fit(x_train_reshaped, y_train)\n",
        "\n",
        "# Make predictions\n",
        "y_pred = model.predict(x_train_reshaped)\n",
        "\n",
        "# Calculate Mean Squared Error (MSE)\n",
        "mse = mean_squared_error(y_train, y_pred)\n",
        "\n",
        "# Create a DataFrame for easier plotting\n",
        "data = {\n",
        "    'X Values': x_train.flatten(),  # Flatten in case it's a 2D array\n",
        "    'Y Values': y_train.flatten(),   # Flatten in case it's a 2D array\n",
        "    'Predicted Values': y_pred.flatten()\n",
        "}\n",
        "\n",
        "# Create the scatter plot for training data\n",
        "fig = px.scatter(data, x='X Values', y='Y Values',\n",
        "                 title=f'Training Data with Linear Regression Prediction (MSE: {mse:.4f})',\n",
        "                 labels={'X Values': 'X Values', 'Y Values': 'Y Values'},\n",
        "                 opacity=0.7, color_discrete_sequence=['blue'])\n",
        "\n",
        "# Add model predictions as a line\n",
        "fig.add_scatter(x=data['X Values'], y=data['Predicted Values'],\n",
        "                 mode='lines', name='Linear Regression Prediction',\n",
        "                 line=dict(color='red', width=2))\n",
        "\n",
        "# Show the plot\n",
        "fig.show()\n"
      ]
    },
    {
      "cell_type": "markdown",
      "metadata": {
        "collapsed": false,
        "id": "Fnh0_Fs_SQhA"
      },
      "source": [
        "## Gradient Descent algorithm\n",
        "\n",
        "Gradient descent consist of 3 basic steps :\n",
        "\n",
        "1. **Compute the Loss**\n",
        "\n",
        "$$ \\hat{y} = a + bx + \\epsilon $$\n",
        "\n",
        "$$ \\text{MSE} = \\frac{1}{N} \\sum_{i} (y_i - \\hat{y}_i)^2 $$\n",
        "\n",
        "$$ \\text{MSE} = \\frac{1}{N} \\sum_{i} (y_i - a - bx_i)^2 $$\n",
        "\n",
        "2. **Compute the Gradients** : A gradient is a partial derivative. Using the chain rule the final expression came to be :\n",
        "\n",
        "$$\\frac{\\partial \\text{MSE}}{\\partial a} = \\frac{\\partial \\text{MSE}}{\\partial \\hat{y}} * \\frac{\\partial \\hat{y}}{\\partial a} = -2 * \\frac{1}{N} \\sum_{i} (y_i - \\hat{y}_i)$$\n",
        "\n",
        "$$\\frac{\\partial \\text{MSE}}{\\partial b} = \\frac{\\partial \\text{MSE}}{\\partial \\hat{y}} * \\frac{\\partial \\hat{y}}{\\partial b} = -2 * \\frac{1}{N} \\sum_{i} x_i(y_i - \\hat{y}_i)$$\n",
        "\n",
        "3. **Update the Parameters**\n",
        "\n",
        "$$a = a - \\alpha \\frac{\\partial \\text{MSE}}{\\partial a}$$\n",
        "\n",
        "$$b = b - \\alpha \\frac{\\partial \\text{MSE}}{\\partial b}$$\n",
        "\n",
        "4. Repeat step 1 to 3 till convergence is reached"
      ]
    },
    {
      "cell_type": "markdown",
      "metadata": {
        "collapsed": false,
        "id": "UefqgdguSQhA"
      },
      "source": [
        "## Linear Regression model training"
      ]
    },
    {
      "cell_type": "code",
      "execution_count": 6,
      "metadata": {
        "colab": {
          "base_uri": "https://localhost:8080/"
        },
        "id": "ZIWtQHocSQhB",
        "outputId": "714b1e5a-db24-454f-baef-ba044df57e56"
      },
      "outputs": [
        {
          "name": "stdout",
          "output_type": "stream",
          "text": [
            "Initial values of [a, b]: [-0.8503, 0.1271]\n",
            "Epoch 0: Loss = 25.305032\n",
            "Epoch 10: Loss = 0.102156\n",
            "Epoch 20: Loss = 0.017309\n",
            "Epoch 30: Loss = 0.015371\n",
            "Epoch 40: Loss = 0.014103\n",
            "Epoch 50: Loss = 0.013141\n",
            "Epoch 60: Loss = 0.012411\n",
            "Epoch 70: Loss = 0.011856\n",
            "Epoch 80: Loss = 0.011434\n",
            "Epoch 90: Loss = 0.011114\n",
            "Final values of [a, b]: [3.0212, 2.4591]\n"
          ]
        }
      ],
      "source": [
        "# Initialize parameters \"a\" and \"b\" randomly\n",
        "a = np.random.randn(1)\n",
        "b = np.random.randn(1)\n",
        "\n",
        "print(f\"Initial values of [a, b]: [{a[0]:.4f}, {b[0]:.4f}]\")\n",
        "\n",
        "learning_rate = 1e-1  # Learning rate\n",
        "n_epochs = 100  # Number of iterations\n",
        "\n",
        "for epoch in range(n_epochs):\n",
        "    # Step 1: Compute predicted values (y_hat)\n",
        "    y_hat = a + b * x_train \n",
        "\n",
        "    # Step 2: Compute error and Mean Squared Error (MSE) Loss\n",
        "    error = y_train -  y_hat\n",
        "    loss = np.mean(error ** 2)\n",
        "\n",
        "    # Step 3: Compute gradients for parameters \"a\" and \"b\"\n",
        "    a_grad = -2 * np.mean(error)\n",
        "    b_grad = -2 * np.mean(x_train * error)\n",
        "\n",
        "    # Step 4: Update parameters using the gradients and learning rate\n",
        "    a -= learning_rate * a_grad\n",
        "    b -= learning_rate * b_grad\n",
        "\n",
        "    # Optional: Print loss every 100 epochs\n",
        "    if epoch % 10 == 0:\n",
        "        print(f\"Epoch {epoch}: Loss = {loss:.6f}\")\n",
        "\n",
        "# Final values of parameters after training\n",
        "print(f\"Final values of [a, b]: [{a[0]:.4f}, {b[0]:.4f}]\")"
      ]
    },
    {
      "cell_type": "markdown",
      "metadata": {
        "collapsed": false,
        "id": "Ro6CEFWVSQhB"
      },
      "source": [
        "## Pytorch basics\n",
        "\n",
        "### Tensors\n",
        "\n",
        "* How to create a Tensor\n",
        "* Operations on tensors\n",
        "* Data types for Tensors### Create a Tensor\n",
        "\n",
        "Create tensors from Numpy then see what operations can be applied.\n",
        "**Note:** By default a tensor resides in cpu but can be sent to the GPU for faster computations"
      ]
    },
    {
      "cell_type": "code",
      "execution_count": 7,
      "metadata": {
        "colab": {
          "base_uri": "https://localhost:8080/"
        },
        "id": "I1LvaUbhSQhB",
        "outputId": "9e50df13-68f1-46d4-edc9-c2e67bdace80"
      },
      "outputs": [
        {
          "name": "stdout",
          "output_type": "stream",
          "text": [
            "Original type: <class 'numpy.ndarray'>\n",
            "Tensor type: torch.FloatTensor, Device: cpu\n"
          ]
        }
      ],
      "source": [
        "import torch\n",
        "\n",
        "# Check device (GPU or CPU)\n",
        "device = torch.device('cuda' if torch.cuda.is_available() else 'cpu')\n",
        "\n",
        "# Convert numpy arrays to tensors and move to the selected device\n",
        "x_train_tensor = torch.from_numpy(x_train).float().to(device)\n",
        "y_train_tensor = torch.from_numpy(y_train).float().to(device)\n",
        "\n",
        "# Print type and device information\n",
        "print(f\"Original type: {type(x_train)}\")\n",
        "print(f\"Tensor type: {x_train_tensor.type()}, Device: {x_train_tensor.device}\")"
      ]
    },
    {
      "cell_type": "markdown",
      "metadata": {
        "collapsed": false,
        "id": "7L-egjQgSQhB"
      },
      "source": [
        "## Linear Regression (Numpy -> PyTorch)"
      ]
    },
    {
      "cell_type": "code",
      "execution_count": 8,
      "metadata": {},
      "outputs": [],
      "source": [
        "criterion = torch.nn.MSELoss()"
      ]
    },
    {
      "cell_type": "code",
      "execution_count": 19,
      "metadata": {
        "colab": {
          "base_uri": "https://localhost:8080/"
        },
        "id": "U975l4rwSQhC",
        "outputId": "7592adbb-1244-4367-ffd6-5ea418cbc0da"
      },
      "outputs": [
        {
          "name": "stdout",
          "output_type": "stream",
          "text": [
            "Epoch 0: Loss = 18.906734\n",
            "Epoch 10: Loss = 18.906734\n",
            "Epoch 20: Loss = 18.906734\n",
            "Epoch 30: Loss = 18.906734\n",
            "Epoch 40: Loss = 18.906734\n",
            "Epoch 50: Loss = 18.906734\n",
            "Epoch 60: Loss = 18.906734\n",
            "Epoch 70: Loss = 18.906734\n",
            "Epoch 80: Loss = 18.906734\n",
            "Epoch 90: Loss = 18.906734\n",
            "Final values of [a, b]: [-0.5426, 0.8671]\n"
          ]
        }
      ],
      "source": [
        "import torch\n",
        "\n",
        "# Initialize parameters \"a\" and \"b\" on the correct device\n",
        "a = torch.randn(1, device=device, requires_grad=True)\n",
        "b = torch.randn(1, device=device, requires_grad=True)\n",
        "\n",
        "model =  torch.nn.Sequential(torch.nn.Linear(1,1, bias=True)).to(device)\n",
        "# optimizer = torch.optim.SGD([a,b], lr=learning_rate)\n",
        "optimizer = torch.optim.SGD(model.parameters(), lr=learning_rate)\n",
        "\n",
        "# Convert numpy arrays to tensors and move to the selected device\n",
        "x_train_tensor = torch.from_numpy(x_train).float().to(device)\n",
        "y_train_tensor = torch.from_numpy(y_train).float().to(device)\n",
        "\n",
        "learning_rate = 1e-1  # Learning rate\n",
        "n_epochs = 100  # Number of iterations\n",
        "\n",
        "for epoch in range(n_epochs):\n",
        "    # Step 1: Compute predicted values (yhat)\n",
        "    yhat = a + b * x_train_tensor\n",
        "\n",
        "    # Step 2: Compute error and MSE loss\n",
        "    # error = y_train_tensor - y_hat\n",
        "    # loss = torch.mean(error ** 2)\n",
        "    loss = criterion(y_train_tensor, yhat)\n",
        "\n",
        "    # Step 3: Compute gradients (partial derivatives for \"a\" and \"b\")\n",
        "    loss.backward()\n",
        "    # a_grad =  -2 * error.mean()\n",
        "    # b_grad =  -2 * (x_train_tensor * error).mean()\n",
        "\n",
        "    # Step 4: Update parameters using gradients and learning rate\n",
        "    # with torch.no_grad():\n",
        "    #     a -= learning_rate * a.grad\n",
        "    #     b -= learning_rate * b.grad\n",
        "    optimizer.step()\n",
        "\n",
        "    # a.grad = None\n",
        "    # b.grad = None\n",
        "\n",
        "    # Optional: Print loss every 10 epochs\n",
        "    if epoch % 10 == 0:\n",
        "        print(f\"Epoch {epoch}: Loss = {loss.item():.6f}\")\n",
        "\n",
        "# Print final values of \"a\" and \"b\"\n",
        "print(f\"Final values of [a, b]: [{a.item():.4f}, {b.item():.4f}]\")"
      ]
    },
    {
      "cell_type": "markdown",
      "metadata": {
        "id": "xtOJk2nmSQhC"
      },
      "source": [
        "### 2.1 Feed Forward Neural Network\n",
        "An artificial neural network wherein connections between the nodes do not form a cycle.\n",
        "<!--![alt text](https://upload.wikimedia.org/wikipedia/en/5/54/Feed_forward_neural_net.gif)\n",
        "![](https://upload.wikimedia.org/wikipedia/commons/thumb/e/e4/Artificial_neural_network.svg/2294px-Artificial_neural_network.svg.png)-->\n",
        "\n",
        "<div>\n",
        "<img src=\"https://upload.wikimedia.org/wikipedia/commons/thumb/e/e4/Artificial_neural_network.svg/2294px-Artificial_neural_network.svg.png\" width=\"1000\"/>\n",
        "</div>\n",
        "\n",
        "\n",
        "### Model Design in Pytorch\n",
        "we have three simple parts that we need to build:\n",
        "1. Data Loading process.\n",
        "2. Model building.\n",
        "3. the training loops.\n",
        "\n",
        "<strong>Data Loading</strong>\n",
        "\n",
        "Data Loading in pytorch is very easy and broken into 3 steps:\n",
        "1. Data Source\n",
        "2. Data Transformations\n",
        "3. Data Loader\n",
        "\n",
        "\n",
        "\n",
        "## 3. Loading data\n",
        "\n",
        "Pytorch uses data loading utility which is called `DataLoader` that supports:\n",
        "automatic batching, transformation, single- and multi-process data loading and more.."
      ]
    },
    {
      "cell_type": "code",
      "execution_count": 12,
      "metadata": {
        "colab": {
          "base_uri": "https://localhost:8080/"
        },
        "id": "yQXvRx06SQhC",
        "outputId": "96d3d413-68da-42a7-871e-641ec6bfdfba"
      },
      "outputs": [
        {
          "name": "stdout",
          "output_type": "stream",
          "text": [
            "Downloading http://yann.lecun.com/exdb/mnist/train-images-idx3-ubyte.gz\n",
            "Failed to download (trying next):\n",
            "HTTP Error 403: Forbidden\n",
            "\n",
            "Downloading https://ossci-datasets.s3.amazonaws.com/mnist/train-images-idx3-ubyte.gz\n",
            "Downloading https://ossci-datasets.s3.amazonaws.com/mnist/train-images-idx3-ubyte.gz to ./data/MNIST/raw/train-images-idx3-ubyte.gz\n"
          ]
        },
        {
          "name": "stderr",
          "output_type": "stream",
          "text": [
            "100%|██████████| 9912422/9912422 [00:19<00:00, 518702.97it/s] \n"
          ]
        },
        {
          "name": "stdout",
          "output_type": "stream",
          "text": [
            "Extracting ./data/MNIST/raw/train-images-idx3-ubyte.gz to ./data/MNIST/raw\n",
            "\n",
            "Downloading http://yann.lecun.com/exdb/mnist/train-labels-idx1-ubyte.gz\n",
            "Failed to download (trying next):\n",
            "HTTP Error 403: Forbidden\n",
            "\n",
            "Downloading https://ossci-datasets.s3.amazonaws.com/mnist/train-labels-idx1-ubyte.gz\n",
            "Downloading https://ossci-datasets.s3.amazonaws.com/mnist/train-labels-idx1-ubyte.gz to ./data/MNIST/raw/train-labels-idx1-ubyte.gz\n"
          ]
        },
        {
          "name": "stderr",
          "output_type": "stream",
          "text": [
            "100%|██████████| 28881/28881 [00:00<00:00, 193200.41it/s]\n"
          ]
        },
        {
          "name": "stdout",
          "output_type": "stream",
          "text": [
            "Extracting ./data/MNIST/raw/train-labels-idx1-ubyte.gz to ./data/MNIST/raw\n",
            "\n",
            "Downloading http://yann.lecun.com/exdb/mnist/t10k-images-idx3-ubyte.gz\n",
            "Failed to download (trying next):\n",
            "HTTP Error 403: Forbidden\n",
            "\n",
            "Downloading https://ossci-datasets.s3.amazonaws.com/mnist/t10k-images-idx3-ubyte.gz\n",
            "Downloading https://ossci-datasets.s3.amazonaws.com/mnist/t10k-images-idx3-ubyte.gz to ./data/MNIST/raw/t10k-images-idx3-ubyte.gz\n"
          ]
        },
        {
          "name": "stderr",
          "output_type": "stream",
          "text": [
            "100%|██████████| 1648877/1648877 [00:02<00:00, 618541.22it/s]\n"
          ]
        },
        {
          "name": "stdout",
          "output_type": "stream",
          "text": [
            "Extracting ./data/MNIST/raw/t10k-images-idx3-ubyte.gz to ./data/MNIST/raw\n",
            "\n",
            "Downloading http://yann.lecun.com/exdb/mnist/t10k-labels-idx1-ubyte.gz\n",
            "Failed to download (trying next):\n",
            "HTTP Error 403: Forbidden\n",
            "\n",
            "Downloading https://ossci-datasets.s3.amazonaws.com/mnist/t10k-labels-idx1-ubyte.gz\n",
            "Downloading https://ossci-datasets.s3.amazonaws.com/mnist/t10k-labels-idx1-ubyte.gz to ./data/MNIST/raw/t10k-labels-idx1-ubyte.gz\n"
          ]
        },
        {
          "name": "stderr",
          "output_type": "stream",
          "text": [
            "100%|██████████| 4542/4542 [00:00<00:00, 1911743.98it/s]"
          ]
        },
        {
          "name": "stdout",
          "output_type": "stream",
          "text": [
            "Extracting ./data/MNIST/raw/t10k-labels-idx1-ubyte.gz to ./data/MNIST/raw\n",
            "\n",
            "Training data: 60000 samples\n",
            "Test data: 10000 samples\n"
          ]
        },
        {
          "name": "stderr",
          "output_type": "stream",
          "text": [
            "\n"
          ]
        }
      ],
      "source": [
        "import torch\n",
        "from torchvision import datasets, transforms\n",
        "from torch.utils.data import DataLoader\n",
        "\n",
        "# Set batch sizes\n",
        "batch_size = 32\n",
        "test_batch_size = 100\n",
        "\n",
        "# Define data transformations: convert to tensor and normalize\n",
        "data_transforms = transforms.Compose([\n",
        "    transforms.ToTensor(),\n",
        "    transforms.Normalize((0.1307,), (0.3081,))  # Normalize with mean and std of MNIST dataset\n",
        "])\n",
        "\n",
        "# Download and load the MNIST dataset\n",
        "train_dataset = datasets.MNIST(root='./data', train=True, download=True, transform=data_transforms)\n",
        "test_dataset = datasets.MNIST(root='./data', train=False, download=True, transform=data_transforms)\n",
        "\n",
        "# Create DataLoader for training and testing datasets\n",
        "train_loader = DataLoader(dataset=train_dataset, batch_size=batch_size, shuffle=True, num_workers=2, pin_memory=True)\n",
        "test_loader = DataLoader(dataset=test_dataset, batch_size=test_batch_size, shuffle=False, num_workers=2, pin_memory=True)\n",
        "\n",
        "# Print to verify data loading\n",
        "print(f\"Training data: {len(train_loader.dataset)} samples\")\n",
        "print(f\"Test data: {len(test_loader.dataset)} samples\")"
      ]
    },
    {
      "cell_type": "code",
      "execution_count": 13,
      "metadata": {
        "colab": {
          "base_uri": "https://localhost:8080/",
          "height": 447
        },
        "id": "dvN-j_kVSQhC",
        "outputId": "8dd94cf6-8185-4b91-8e6b-b3c391bcb212"
      },
      "outputs": [
        {
          "data": {
            "text/plain": [
              "<matplotlib.image.AxesImage at 0x316a93680>"
            ]
          },
          "execution_count": 13,
          "metadata": {},
          "output_type": "execute_result"
        },
        {
          "data": {
            "image/png": "[encoded data removed]",
            "text/plain": [
              "<Figure size 640x480 with 1 Axes>"
            ]
          },
          "metadata": {},
          "output_type": "display_data"
        }
      ],
      "source": [
        "import matplotlib.pyplot as plt\n",
        "images, labels = next(iter(train_loader))\n",
        "plt.imshow(images[0].reshape(28,28), cmap=\"gray\")"
      ]
    },
    {
      "cell_type": "markdown",
      "metadata": {
        "id": "SaurDv-USQhD"
      },
      "source": [
        "## 4. Model building\n",
        "1. Defining components: <br/>\n",
        "This step is done in the constructor, where you will define the layers that will be used accordingly in the next step.\n",
        "2. Network flow: <br/>\n",
        "This step is done in the forward function. Where you will get the input batch as an argument then you will use the defined layers in the previous step to define the flow of the network then you will return the output batch.\n",
        "\n",
        "\n",
        "Pytorch is a dynamic framework, where you can use primitive python keywords with it.\n",
        "You can use if and while statements. Also, it can accepts and returns more than one batch."
      ]
    },
    {
      "cell_type": "code",
      "execution_count": null,
      "metadata": {
        "id": "BEe-D8JBfmGi"
      },
      "outputs": [],
      "source": [
        "import torch\n",
        "import torch.nn as nn\n",
        "import torch.nn.functional as F\n",
        "\n",
        "class Net(nn.Module):\n",
        "    def __init__(self):\n",
        "        super(Net, self).__init__()\n",
        "        self.fc1 = nn.Linear(28 * 28, 500)  # First hidden layer\n",
        "        self.fc2 = nn.Linear(500, 250)       # Second hidden layer\n",
        "        self.fc3 = nn.Linear(250, 100)       # Third hidden layer\n",
        "        self.fc4 = nn.Linear(100, 10)        # Output layer (10 classes)\n",
        "        self.dropout = nn.Dropout(0.5)       # Dropout layer for regularization\n",
        "\n",
        "    def forward(self, x):\n",
        "        # Flatten the input\n",
        "        x = x.view(-1, 28 * 28)\n",
        "        # Pass through the first layer and apply ReLU activation\n",
        "        x = F.relu(self.fc1(x))\n",
        "        # Apply dropout\n",
        "        x = self.dropout(x)\n",
        "        # Pass through the second layer and apply ReLU activation\n",
        "        x = F.relu(self.fc2(x))\n",
        "        # Apply dropout\n",
        "        x = self.dropout(x)\n",
        "        # Pass through the third layer and apply ReLU activation\n",
        "        x = F.relu(self.fc3(x))\n",
        "        # Pass through the output layer with log softmax\n",
        "        x = F.log_softmax(self.fc4(x), dim=1)\n",
        "        return x\n",
        "\n",
        "# Check for CUDA availability\n",
        "use_cuda = torch.cuda.is_available()\n",
        "device = torch.device(\"cuda\" if use_cuda else \"cpu\")\n",
        "model = Net().to(device)"
      ]
    },
    {
      "cell_type": "markdown",
      "metadata": {
        "id": "V0ebnqOTSQhD"
      },
      "source": [
        "## 5. Training loops\n",
        "After that we should define the loops over tha batches and run the training on."
      ]
    },
    {
      "cell_type": "code",
      "execution_count": null,
      "metadata": {
        "id": "W7az4Y97SQhD"
      },
      "outputs": [],
      "source": [
        "# Define training params\n",
        "epochs = 5\n",
        "lr = 0.01\n",
        "momentum = 0.5"
      ]
    },
    {
      "cell_type": "markdown",
      "metadata": {
        "id": "Es_XmwAKSQhD"
      },
      "source": [
        "## 5.1 Define the training procedure"
      ]
    },
    {
      "cell_type": "code",
      "execution_count": null,
      "metadata": {
        "id": "NjZYYf4jSQhE"
      },
      "outputs": [],
      "source": [
        "import torch\n",
        "\n",
        "def train(model, device, train_loader, optimizer, epoch, criterion=torch.nn.functional.nll_loss):\n",
        "    model.train()  # Set model to training mode\n",
        "    total_loss = 0  # To track total loss for the epoch\n",
        "\n",
        "    for batch_idx, (data, target) in enumerate(train_loader):\n",
        "        # Move data and targets to the specified device (CPU/GPU)\n",
        "        data, target = data.to(device), target.to(device)\n",
        "\n",
        "        # Reset gradients from the previous iteration\n",
        "        optimizer.zero_grad()\n",
        "\n",
        "        # Forward pass: Compute model predictions\n",
        "        output = model(data)\n",
        "\n",
        "        # Compute loss\n",
        "        loss = criterion(output, target)\n",
        "\n",
        "        # Backward pass: Compute gradients\n",
        "        loss.backward()\n",
        "\n",
        "        # Update model parameters\n",
        "        optimizer.step()\n",
        "\n",
        "        # Accumulate loss for the entire epoch\n",
        "        total_loss += loss.item()\n",
        "\n",
        "    # Print average loss for the epoch\n",
        "    avg_loss = total_loss / len(train_loader)\n",
        "    print(f'====> Epoch: {epoch} Average Training loss: {avg_loss:.6f}')\n"
      ]
    },
    {
      "cell_type": "markdown",
      "metadata": {
        "id": "qcMvMbgISQhE"
      },
      "source": [
        "## 5.2 Define the evaluation procedure"
      ]
    },
    {
      "cell_type": "code",
      "execution_count": null,
      "metadata": {
        "id": "b0Bs_xI9SQhE"
      },
      "outputs": [],
      "source": [
        "def test(model, device, test_loader):\n",
        "    model.eval()  # Set the model to evaluation mode\n",
        "    test_loss = 0\n",
        "    correct = 0\n",
        "\n",
        "    with torch.no_grad():  # Disable gradient calculation for testing\n",
        "        for data, target in test_loader:\n",
        "            # Move the data and target tensors to the specified device (CPU or GPU)\n",
        "            data, target = data.to(device), target.to(device)\n",
        "\n",
        "            # Get the model's output predictions\n",
        "            output = model(data)\n",
        "\n",
        "            # Compute the loss using negative log likelihood\n",
        "            test_loss += F.nll_loss(output, target, reduction='sum').item()  # Sum up batch loss\n",
        "\n",
        "            # Get the index of the max log-probability for predicted classes\n",
        "            pred = output.argmax(dim=1, keepdim=True)\n",
        "\n",
        "            # Count the number of correct predictions\n",
        "            correct += pred.eq(target.view_as(pred)).sum().item()\n",
        "\n",
        "    # Average loss across the entire test dataset\n",
        "    test_loss /= len(test_loader.dataset)\n",
        "\n",
        "    # Print the average loss and accuracy\n",
        "    print('Test set: Average loss: {:.4f}, Accuracy: {}/{} ({:.0f}%)\\n'.format(\n",
        "        test_loss, correct, len(test_loader.dataset),\n",
        "        100. * correct / len(test_loader.dataset)))\n"
      ]
    },
    {
      "cell_type": "markdown",
      "metadata": {
        "id": "r6Jeqm6nSQhE"
      },
      "source": [
        "## 5.3 Training Model"
      ]
    },
    {
      "cell_type": "code",
      "execution_count": null,
      "metadata": {
        "colab": {
          "base_uri": "https://localhost:8080/"
        },
        "id": "Rd__6EACSQhE",
        "outputId": "46e1b5f2-b7f7-4642-d14a-68ceacd13966"
      },
      "outputs": [
        {
          "name": "stdout",
          "output_type": "stream",
          "text": [
            "====> Epoch: 1 Average Training loss: 0.680782\n",
            "Test set: Average loss: 0.2062, Accuracy: 9361/10000 (94%)\n",
            "\n",
            "====> Epoch: 2 Average Training loss: 0.248885\n",
            "Test set: Average loss: 0.1327, Accuracy: 9583/10000 (96%)\n",
            "\n",
            "====> Epoch: 3 Average Training loss: 0.181109\n",
            "Test set: Average loss: 0.1066, Accuracy: 9672/10000 (97%)\n",
            "\n",
            "====> Epoch: 4 Average Training loss: 0.149861\n",
            "Test set: Average loss: 0.0908, Accuracy: 9719/10000 (97%)\n",
            "\n",
            "====> Epoch: 5 Average Training loss: 0.130228\n",
            "Test set: Average loss: 0.0852, Accuracy: 9738/10000 (97%)\n",
            "\n"
          ]
        }
      ],
      "source": [
        "import torch.optim as optim\n",
        "\n",
        "optimizer = optim.SGD(model.parameters(), lr=lr, momentum=momentum)\n",
        "\n",
        "for epoch in range(1, epochs + 1):\n",
        "    train(model, device, train_loader, optimizer, epoch)\n",
        "    test(model, device, test_loader)"
      ]
    },
    {
      "cell_type": "markdown",
      "metadata": {
        "id": "fRhqpK_tSQhE"
      },
      "source": [
        "## 6. Save model"
      ]
    },
    {
      "cell_type": "code",
      "execution_count": null,
      "metadata": {
        "colab": {
          "base_uri": "https://localhost:8080/"
        },
        "id": "CDE7eguTSQhE",
        "outputId": "fa9f8f9f-0ae9-4056-a956-5688e73d31b6"
      },
      "outputs": [
        {
          "name": "stdout",
          "output_type": "stream",
          "text": [
            "Model saved to model.pth\n"
          ]
        }
      ],
      "source": [
        "model_save_path = 'model.pth'  # Specify the filename for saving the model\n",
        "torch.save(model.state_dict(), model_save_path)  # Save the model's state dict\n",
        "print(f'Model saved to {model_save_path}')"
      ]
    },
    {
      "cell_type": "markdown",
      "metadata": {
        "id": "FI_BfhqRSQhE"
      },
      "source": [
        "## <center>Self-practice <center>\n",
        "\n",
        "Using Dataset from assignment 1\n",
        "1. Define, train and evaluate an ANN for Regression and Classification\n",
        "1. Plot the loss and accuracy of the model for each training iteration\n",
        "    \n",
        "ANN should be implemented in PyTorch"
      ]
    },
    {
      "cell_type": "code",
      "execution_count": null,
      "metadata": {
        "id": "WlzbkhaJSQhE"
      },
      "outputs": [],
      "source": []
    }
  ],
  "metadata": {
    "accelerator": "GPU",
    "colab": {
      "gpuType": "T4",
      "provenance": []
    },
    "kernelspec": {
      "display_name": "Python 3",
      "name": "python3"
    },
    "language_info": {
      "codemirror_mode": {
        "name": "ipython",
        "version": 3
      },
      "file_extension": ".py",
      "mimetype": "text/x-python",
      "name": "python",
      "nbconvert_exporter": "python",
      "pygments_lexer": "ipython3",
      "version": "3.12.1"
    }
  },
  "nbformat": 4,
  "nbformat_minor": 0
}
