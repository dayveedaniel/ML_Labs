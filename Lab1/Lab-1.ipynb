{
 "cells": [
  {
   "cell_type": "markdown",
   "metadata": {
    "collapsed": true,
    "jupyter": {
     "outputs_hidden": true
    },
    "pycharm": {
     "name": "#%% md\n"
    }
   },
   "source": [
    "## Week 1 : Data Manipulation and Exploration\n",
    "```\n",
    "- Machine Learning, Innopolis University (Fall semester 2024)\n",
    "- Instructors: Adil Khan & Gcinizwe Dlamini\n",
    "```\n",
    "<hr>\n",
    "\n",
    "\n",
    "### Content\n",
    "```\n",
    "Lab Plan\n",
    "1. Data exploration\n",
    "2. Dealing with categorical features\n",
    "3. Dealing with missing data\n",
    "4. Features Scaling\n",
    "5. Trainset splitting\n",
    "6. Data Visualization\n",
    "\n",
    "```\n",
    "\n",
    "<hr>\n",
    "\n",
    "\n",
    "![](https://www.gosmar.eu/machinelearning/wp-content/uploads/2021/01/MLOps_pipeline_scaling3.png)"
   ]
  },
  {
   "cell_type": "markdown",
   "metadata": {},
   "source": [
    "## Test for libraries installation "
   ]
  },
  {
   "cell_type": "code",
<<<<<<< HEAD
   "execution_count": 1,
=======
   "execution_count": 188,
>>>>>>> 125518d54b4c7f37fd1c8b4fde032a96caf23bae
   "metadata": {},
   "outputs": [],
   "source": [
    "import pandas as pd\n",
    "import numpy as np\n",
    "import sklearn\n",
    "\n",
    "import matplotlib.pyplot as plt\n",
    "%matplotlib inline\n",
    "\n",
    "import warnings\n",
    "warnings.filterwarnings('ignore')"
   ]
  },
  {
   "cell_type": "markdown",
   "metadata": {},
   "source": [
    "## 1. Read Data with Pandas"
   ]
  },
  {
   "cell_type": "code",
<<<<<<< HEAD
   "execution_count": 2,
=======
   "execution_count": 189,
>>>>>>> 125518d54b4c7f37fd1c8b4fde032a96caf23bae
   "metadata": {
    "pycharm": {
     "name": "#%%\n"
    }
   },
   "outputs": [],
   "source": [
    "football_df = pd.read_csv('./football_data.csv', low_memory=False)\n",
    "\n",
    "\n",
    "football_df.drop(['Date', 'time'], axis=1, inplace=True)"
   ]
  },
  {
   "cell_type": "markdown",
   "metadata": {},
   "source": [
    "## 2. Data exploration"
   ]
  },
  {
   "cell_type": "code",
<<<<<<< HEAD
   "execution_count": 3,
=======
   "execution_count": 190,
>>>>>>> 125518d54b4c7f37fd1c8b4fde032a96caf23bae
   "metadata": {
    "pycharm": {
     "name": "#%%\n"
    }
   },
   "outputs": [
    {
     "data": {
      "text/html": [
       "<div>\n",
       "<style scoped>\n",
       "    .dataframe tbody tr th:only-of-type {\n",
       "        vertical-align: middle;\n",
       "    }\n",
       "\n",
       "    .dataframe tbody tr th {\n",
       "        vertical-align: top;\n",
       "    }\n",
       "\n",
       "    .dataframe thead th {\n",
       "        text-align: right;\n",
       "    }\n",
       "</style>\n",
       "<table border=\"1\" class=\"dataframe\">\n",
       "  <thead>\n",
       "    <tr style=\"text-align: right;\">\n",
       "      <th></th>\n",
       "      <th>GameID</th>\n",
       "      <th>Drive</th>\n",
       "      <th>qtr</th>\n",
       "      <th>down</th>\n",
       "      <th>TimeUnder</th>\n",
       "      <th>TimeSecs</th>\n",
       "      <th>PlayTimeDiff</th>\n",
       "      <th>SideofField</th>\n",
       "      <th>yrdln</th>\n",
       "      <th>yrdline100</th>\n",
       "      <th>...</th>\n",
       "      <th>yacEPA</th>\n",
       "      <th>Home_WP_pre</th>\n",
       "      <th>Away_WP_pre</th>\n",
       "      <th>Home_WP_post</th>\n",
       "      <th>Away_WP_post</th>\n",
       "      <th>Win_Prob</th>\n",
       "      <th>WPA</th>\n",
       "      <th>airWPA</th>\n",
       "      <th>yacWPA</th>\n",
       "      <th>Season</th>\n",
       "    </tr>\n",
       "  </thead>\n",
       "  <tbody>\n",
       "    <tr>\n",
       "      <th>0</th>\n",
       "      <td>2016121101</td>\n",
       "      <td>13</td>\n",
       "      <td>2</td>\n",
       "      <td>NaN</td>\n",
       "      <td>2</td>\n",
       "      <td>1920.0</td>\n",
       "      <td>5.0</td>\n",
       "      <td>SD</td>\n",
       "      <td>44.0</td>\n",
       "      <td>44.0</td>\n",
       "      <td>...</td>\n",
       "      <td>NaN</td>\n",
       "      <td>NaN</td>\n",
       "      <td>NaN</td>\n",
       "      <td>NaN</td>\n",
       "      <td>NaN</td>\n",
       "      <td>0.000000</td>\n",
       "      <td>NaN</td>\n",
       "      <td>NaN</td>\n",
       "      <td>NaN</td>\n",
       "      <td>2016</td>\n",
       "    </tr>\n",
       "    <tr>\n",
       "      <th>1</th>\n",
       "      <td>2016121101</td>\n",
       "      <td>13</td>\n",
       "      <td>2</td>\n",
       "      <td>1.0</td>\n",
       "      <td>2</td>\n",
       "      <td>1920.0</td>\n",
       "      <td>0.0</td>\n",
       "      <td>SD</td>\n",
       "      <td>47.0</td>\n",
       "      <td>53.0</td>\n",
       "      <td>...</td>\n",
       "      <td>0.330475</td>\n",
       "      <td>0.968025</td>\n",
       "      <td>0.031975</td>\n",
       "      <td>0.940170</td>\n",
       "      <td>0.059830</td>\n",
       "      <td>0.031975</td>\n",
       "      <td>0.027855</td>\n",
       "      <td>0.024299</td>\n",
       "      <td>0.003556</td>\n",
       "      <td>2016</td>\n",
       "    </tr>\n",
       "    <tr>\n",
       "      <th>2</th>\n",
       "      <td>2016121101</td>\n",
       "      <td>13</td>\n",
       "      <td>2</td>\n",
       "      <td>1.0</td>\n",
       "      <td>2</td>\n",
       "      <td>1910.0</td>\n",
       "      <td>10.0</td>\n",
       "      <td>CAR</td>\n",
       "      <td>7.0</td>\n",
       "      <td>7.0</td>\n",
       "      <td>...</td>\n",
       "      <td>NaN</td>\n",
       "      <td>0.940170</td>\n",
       "      <td>0.059830</td>\n",
       "      <td>0.947575</td>\n",
       "      <td>0.052425</td>\n",
       "      <td>0.059830</td>\n",
       "      <td>-0.007405</td>\n",
       "      <td>NaN</td>\n",
       "      <td>NaN</td>\n",
       "      <td>2016</td>\n",
       "    </tr>\n",
       "    <tr>\n",
       "      <th>3</th>\n",
       "      <td>2016121101</td>\n",
       "      <td>13</td>\n",
       "      <td>2</td>\n",
       "      <td>2.0</td>\n",
       "      <td>2</td>\n",
       "      <td>1877.0</td>\n",
       "      <td>33.0</td>\n",
       "      <td>CAR</td>\n",
       "      <td>9.0</td>\n",
       "      <td>9.0</td>\n",
       "      <td>...</td>\n",
       "      <td>-3.766159</td>\n",
       "      <td>0.947575</td>\n",
       "      <td>0.052425</td>\n",
       "      <td>0.953601</td>\n",
       "      <td>0.046399</td>\n",
       "      <td>0.052425</td>\n",
       "      <td>-0.006025</td>\n",
       "      <td>0.036136</td>\n",
       "      <td>-0.042161</td>\n",
       "      <td>2016</td>\n",
       "    </tr>\n",
       "    <tr>\n",
       "      <th>4</th>\n",
       "      <td>2016121101</td>\n",
       "      <td>13</td>\n",
       "      <td>2</td>\n",
       "      <td>3.0</td>\n",
       "      <td>2</td>\n",
       "      <td>1868.0</td>\n",
       "      <td>9.0</td>\n",
       "      <td>CAR</td>\n",
       "      <td>9.0</td>\n",
       "      <td>9.0</td>\n",
       "      <td>...</td>\n",
       "      <td>0.000000</td>\n",
       "      <td>0.953601</td>\n",
       "      <td>0.046399</td>\n",
       "      <td>0.912354</td>\n",
       "      <td>0.087646</td>\n",
       "      <td>0.046399</td>\n",
       "      <td>0.041247</td>\n",
       "      <td>0.041247</td>\n",
       "      <td>0.000000</td>\n",
       "      <td>2016</td>\n",
       "    </tr>\n",
       "  </tbody>\n",
       "</table>\n",
       "<p>5 rows × 100 columns</p>\n",
       "</div>"
      ],
      "text/plain": [
       "       GameID  Drive  qtr  down  TimeUnder  TimeSecs  PlayTimeDiff  \\\n",
       "0  2016121101     13    2   NaN          2    1920.0           5.0   \n",
       "1  2016121101     13    2   1.0          2    1920.0           0.0   \n",
       "2  2016121101     13    2   1.0          2    1910.0          10.0   \n",
       "3  2016121101     13    2   2.0          2    1877.0          33.0   \n",
       "4  2016121101     13    2   3.0          2    1868.0           9.0   \n",
       "\n",
       "  SideofField  yrdln  yrdline100  ...    yacEPA  Home_WP_pre  Away_WP_pre  \\\n",
       "0          SD   44.0        44.0  ...       NaN          NaN          NaN   \n",
       "1          SD   47.0        53.0  ...  0.330475     0.968025     0.031975   \n",
       "2         CAR    7.0         7.0  ...       NaN     0.940170     0.059830   \n",
       "3         CAR    9.0         9.0  ... -3.766159     0.947575     0.052425   \n",
       "4         CAR    9.0         9.0  ...  0.000000     0.953601     0.046399   \n",
       "\n",
       "   Home_WP_post Away_WP_post  Win_Prob       WPA    airWPA    yacWPA  Season  \n",
       "0           NaN          NaN  0.000000       NaN       NaN       NaN    2016  \n",
       "1      0.940170     0.059830  0.031975  0.027855  0.024299  0.003556    2016  \n",
       "2      0.947575     0.052425  0.059830 -0.007405       NaN       NaN    2016  \n",
       "3      0.953601     0.046399  0.052425 -0.006025  0.036136 -0.042161    2016  \n",
       "4      0.912354     0.087646  0.046399  0.041247  0.041247  0.000000    2016  \n",
       "\n",
       "[5 rows x 100 columns]"
      ]
     },
<<<<<<< HEAD
     "execution_count": 3,
=======
     "execution_count": 190,
>>>>>>> 125518d54b4c7f37fd1c8b4fde032a96caf23bae
     "metadata": {},
     "output_type": "execute_result"
    }
   ],
   "source": [
    "football_df.head(5)"
   ]
  },
  {
   "cell_type": "code",
<<<<<<< HEAD
   "execution_count": 4,
=======
   "execution_count": 191,
>>>>>>> 125518d54b4c7f37fd1c8b4fde032a96caf23bae
   "metadata": {
    "pycharm": {
     "name": "#%%\n"
    }
   },
   "outputs": [
    {
     "name": "stdout",
     "output_type": "stream",
     "text": [
      "Number categorical featues: 36\n",
      "[dtype('int64'), dtype('int64'), dtype('int64'), dtype('float64'), dtype('int64'), dtype('float64'), dtype('float64'), dtype('O'), dtype('float64'), dtype('float64'), dtype('int64'), dtype('int64'), dtype('float64'), dtype('float64'), dtype('O'), dtype('O'), dtype('O'), dtype('int64'), dtype('int64'), dtype('int64'), dtype('int64'), dtype('O'), dtype('O'), dtype('O'), dtype('int64'), dtype('int64'), dtype('O'), dtype('O'), dtype('O'), dtype('O'), dtype('int64'), dtype('O'), dtype('O'), dtype('int64'), dtype('int64'), dtype('int64'), dtype('O'), dtype('int64'), dtype('O'), dtype('O'), dtype('O'), dtype('int64'), dtype('O'), dtype('O'), dtype('O'), dtype('O'), dtype('int64'), dtype('O'), dtype('O'), dtype('O'), dtype('O'), dtype('O'), dtype('O'), dtype('float64'), dtype('int64'), dtype('O'), dtype('O'), dtype('int64'), dtype('int64'), dtype('O'), dtype('int64'), dtype('O'), dtype('O'), dtype('O'), dtype('int64'), dtype('float64'), dtype('float64'), dtype('float64'), dtype('float64'), dtype('O'), dtype('O'), dtype('int64'), dtype('O'), dtype('int64'), dtype('int64'), dtype('int64'), dtype('int64'), dtype('int64'), dtype('float64'), dtype('float64'), dtype('float64'), dtype('float64'), dtype('float64'), dtype('float64'), dtype('float64'), dtype('float64'), dtype('float64'), dtype('float64'), dtype('float64'), dtype('float64'), dtype('float64'), dtype('float64'), dtype('float64'), dtype('float64'), dtype('float64'), dtype('float64'), dtype('float64'), dtype('float64'), dtype('float64'), dtype('int64')]\n"
     ]
    }
   ],
   "source": [
    "types = football_df.dtypes\n",
    "print(\"Number categorical featues:\", sum(types=='object'))\n",
    "print(list(types))"
   ]
  },
  {
   "cell_type": "code",
<<<<<<< HEAD
   "execution_count": 5,
=======
   "execution_count": 192,
>>>>>>> 125518d54b4c7f37fd1c8b4fde032a96caf23bae
   "metadata": {
    "pycharm": {
     "name": "#%%\n"
    }
   },
   "outputs": [
    {
     "data": {
      "text/html": [
       "<div>\n",
       "<style scoped>\n",
       "    .dataframe tbody tr th:only-of-type {\n",
       "        vertical-align: middle;\n",
       "    }\n",
       "\n",
       "    .dataframe tbody tr th {\n",
       "        vertical-align: top;\n",
       "    }\n",
       "\n",
       "    .dataframe thead th {\n",
       "        text-align: right;\n",
       "    }\n",
       "</style>\n",
       "<table border=\"1\" class=\"dataframe\">\n",
       "  <thead>\n",
       "    <tr style=\"text-align: right;\">\n",
       "      <th></th>\n",
       "      <th>GameID</th>\n",
       "      <th>Drive</th>\n",
       "      <th>qtr</th>\n",
       "      <th>down</th>\n",
       "      <th>TimeUnder</th>\n",
       "      <th>TimeSecs</th>\n",
       "      <th>PlayTimeDiff</th>\n",
       "      <th>yrdln</th>\n",
       "      <th>yrdline100</th>\n",
       "      <th>ydstogo</th>\n",
       "      <th>...</th>\n",
       "      <th>yacEPA</th>\n",
       "      <th>Home_WP_pre</th>\n",
       "      <th>Away_WP_pre</th>\n",
       "      <th>Home_WP_post</th>\n",
       "      <th>Away_WP_post</th>\n",
       "      <th>Win_Prob</th>\n",
       "      <th>WPA</th>\n",
       "      <th>airWPA</th>\n",
       "      <th>yacWPA</th>\n",
       "      <th>Season</th>\n",
       "    </tr>\n",
       "  </thead>\n",
       "  <tbody>\n",
       "    <tr>\n",
       "      <th>count</th>\n",
       "      <td>1.000000e+04</td>\n",
       "      <td>10000.000000</td>\n",
       "      <td>10000.000000</td>\n",
       "      <td>8448.000000</td>\n",
       "      <td>10000.000000</td>\n",
       "      <td>9992.000000</td>\n",
       "      <td>9984.000000</td>\n",
       "      <td>9980.000000</td>\n",
       "      <td>9980.000000</td>\n",
       "      <td>10000.000000</td>\n",
       "      <td>...</td>\n",
       "      <td>3929.000000</td>\n",
       "      <td>9357.000000</td>\n",
       "      <td>9357.000000</td>\n",
       "      <td>9309.000000</td>\n",
       "      <td>9309.000000</td>\n",
       "      <td>10000.000000</td>\n",
       "      <td>9.845000e+03</td>\n",
       "      <td>3930.000000</td>\n",
       "      <td>3923.000000</td>\n",
       "      <td>10000.0</td>\n",
       "    </tr>\n",
       "    <tr>\n",
       "      <th>mean</th>\n",
       "      <td>2.016372e+09</td>\n",
       "      <td>12.444900</td>\n",
       "      <td>2.584500</td>\n",
       "      <td>1.991951</td>\n",
       "      <td>7.322400</td>\n",
       "      <td>1686.264011</td>\n",
       "      <td>20.739283</td>\n",
       "      <td>28.566433</td>\n",
       "      <td>47.859218</td>\n",
       "      <td>7.158400</td>\n",
       "      <td>...</td>\n",
       "      <td>-0.400785</td>\n",
       "      <td>0.547408</td>\n",
       "      <td>0.453126</td>\n",
       "      <td>0.547667</td>\n",
       "      <td>0.452708</td>\n",
       "      <td>0.470946</td>\n",
       "      <td>1.673133e-03</td>\n",
       "      <td>0.014596</td>\n",
       "      <td>-0.009764</td>\n",
       "      <td>2016.0</td>\n",
       "    </tr>\n",
       "    <tr>\n",
       "      <th>std</th>\n",
       "      <td>3.996451e+05</td>\n",
       "      <td>7.075561</td>\n",
       "      <td>1.131542</td>\n",
       "      <td>1.006399</td>\n",
       "      <td>4.685216</td>\n",
       "      <td>1064.437980</td>\n",
       "      <td>20.795996</td>\n",
       "      <td>12.533362</td>\n",
       "      <td>24.737534</td>\n",
       "      <td>4.844632</td>\n",
       "      <td>...</td>\n",
       "      <td>2.008014</td>\n",
       "      <td>0.300660</td>\n",
       "      <td>0.300744</td>\n",
       "      <td>0.302591</td>\n",
       "      <td>0.302650</td>\n",
       "      <td>0.319106</td>\n",
       "      <td>4.684680e-02</td>\n",
       "      <td>0.056720</td>\n",
       "      <td>0.065689</td>\n",
       "      <td>0.0</td>\n",
       "    </tr>\n",
       "    <tr>\n",
       "      <th>min</th>\n",
       "      <td>2.016121e+09</td>\n",
       "      <td>1.000000</td>\n",
       "      <td>1.000000</td>\n",
       "      <td>1.000000</td>\n",
       "      <td>0.000000</td>\n",
       "      <td>-849.000000</td>\n",
       "      <td>0.000000</td>\n",
       "      <td>1.000000</td>\n",
       "      <td>1.000000</td>\n",
       "      <td>0.000000</td>\n",
       "      <td>...</td>\n",
       "      <td>-12.156367</td>\n",
       "      <td>0.000000</td>\n",
       "      <td>0.000000</td>\n",
       "      <td>0.000000</td>\n",
       "      <td>0.000000</td>\n",
       "      <td>0.000000</td>\n",
       "      <td>-9.719480e-01</td>\n",
       "      <td>-0.943119</td>\n",
       "      <td>-0.939447</td>\n",
       "      <td>2016.0</td>\n",
       "    </tr>\n",
       "    <tr>\n",
       "      <th>25%</th>\n",
       "      <td>2.016122e+09</td>\n",
       "      <td>6.000000</td>\n",
       "      <td>2.000000</td>\n",
       "      <td>1.000000</td>\n",
       "      <td>3.000000</td>\n",
       "      <td>772.000000</td>\n",
       "      <td>5.000000</td>\n",
       "      <td>19.000000</td>\n",
       "      <td>29.000000</td>\n",
       "      <td>3.000000</td>\n",
       "      <td>...</td>\n",
       "      <td>-0.950799</td>\n",
       "      <td>0.298087</td>\n",
       "      <td>0.183309</td>\n",
       "      <td>0.295898</td>\n",
       "      <td>0.179571</td>\n",
       "      <td>0.172491</td>\n",
       "      <td>-1.375776e-02</td>\n",
       "      <td>-0.009758</td>\n",
       "      <td>-0.017638</td>\n",
       "      <td>2016.0</td>\n",
       "    </tr>\n",
       "    <tr>\n",
       "      <th>50%</th>\n",
       "      <td>2.016122e+09</td>\n",
       "      <td>12.000000</td>\n",
       "      <td>3.000000</td>\n",
       "      <td>2.000000</td>\n",
       "      <td>7.000000</td>\n",
       "      <td>1800.000000</td>\n",
       "      <td>18.000000</td>\n",
       "      <td>30.000000</td>\n",
       "      <td>48.000000</td>\n",
       "      <td>9.000000</td>\n",
       "      <td>...</td>\n",
       "      <td>0.000000</td>\n",
       "      <td>0.565156</td>\n",
       "      <td>0.435096</td>\n",
       "      <td>0.568334</td>\n",
       "      <td>0.431754</td>\n",
       "      <td>0.486653</td>\n",
       "      <td>-7.985673e-07</td>\n",
       "      <td>0.004151</td>\n",
       "      <td>0.000000</td>\n",
       "      <td>2016.0</td>\n",
       "    </tr>\n",
       "    <tr>\n",
       "      <th>75%</th>\n",
       "      <td>2.017010e+09</td>\n",
       "      <td>18.000000</td>\n",
       "      <td>4.000000</td>\n",
       "      <td>3.000000</td>\n",
       "      <td>11.000000</td>\n",
       "      <td>2575.000000</td>\n",
       "      <td>37.000000</td>\n",
       "      <td>38.000000</td>\n",
       "      <td>69.000000</td>\n",
       "      <td>10.000000</td>\n",
       "      <td>...</td>\n",
       "      <td>0.469628</td>\n",
       "      <td>0.817714</td>\n",
       "      <td>0.702465</td>\n",
       "      <td>0.820549</td>\n",
       "      <td>0.705156</td>\n",
       "      <td>0.750169</td>\n",
       "      <td>1.278280e-02</td>\n",
       "      <td>0.033391</td>\n",
       "      <td>0.009991</td>\n",
       "      <td>2016.0</td>\n",
       "    </tr>\n",
       "    <tr>\n",
       "      <th>max</th>\n",
       "      <td>2.017010e+09</td>\n",
       "      <td>30.000000</td>\n",
       "      <td>5.000000</td>\n",
       "      <td>4.000000</td>\n",
       "      <td>15.000000</td>\n",
       "      <td>3600.000000</td>\n",
       "      <td>908.000000</td>\n",
       "      <td>50.000000</td>\n",
       "      <td>99.000000</td>\n",
       "      <td>36.000000</td>\n",
       "      <td>...</td>\n",
       "      <td>8.079540</td>\n",
       "      <td>1.000000</td>\n",
       "      <td>1.000000</td>\n",
       "      <td>1.000000</td>\n",
       "      <td>1.000000</td>\n",
       "      <td>1.000000</td>\n",
       "      <td>9.739204e-01</td>\n",
       "      <td>0.898214</td>\n",
       "      <td>0.932194</td>\n",
       "      <td>2016.0</td>\n",
       "    </tr>\n",
       "  </tbody>\n",
       "</table>\n",
       "<p>8 rows × 64 columns</p>\n",
       "</div>"
      ],
      "text/plain": [
       "             GameID         Drive           qtr         down     TimeUnder  \\\n",
       "count  1.000000e+04  10000.000000  10000.000000  8448.000000  10000.000000   \n",
       "mean   2.016372e+09     12.444900      2.584500     1.991951      7.322400   \n",
       "std    3.996451e+05      7.075561      1.131542     1.006399      4.685216   \n",
       "min    2.016121e+09      1.000000      1.000000     1.000000      0.000000   \n",
       "25%    2.016122e+09      6.000000      2.000000     1.000000      3.000000   \n",
       "50%    2.016122e+09     12.000000      3.000000     2.000000      7.000000   \n",
       "75%    2.017010e+09     18.000000      4.000000     3.000000     11.000000   \n",
       "max    2.017010e+09     30.000000      5.000000     4.000000     15.000000   \n",
       "\n",
       "          TimeSecs  PlayTimeDiff        yrdln   yrdline100       ydstogo  ...  \\\n",
       "count  9992.000000   9984.000000  9980.000000  9980.000000  10000.000000  ...   \n",
       "mean   1686.264011     20.739283    28.566433    47.859218      7.158400  ...   \n",
       "std    1064.437980     20.795996    12.533362    24.737534      4.844632  ...   \n",
       "min    -849.000000      0.000000     1.000000     1.000000      0.000000  ...   \n",
       "25%     772.000000      5.000000    19.000000    29.000000      3.000000  ...   \n",
       "50%    1800.000000     18.000000    30.000000    48.000000      9.000000  ...   \n",
       "75%    2575.000000     37.000000    38.000000    69.000000     10.000000  ...   \n",
       "max    3600.000000    908.000000    50.000000    99.000000     36.000000  ...   \n",
       "\n",
       "            yacEPA  Home_WP_pre  Away_WP_pre  Home_WP_post  Away_WP_post  \\\n",
       "count  3929.000000  9357.000000  9357.000000   9309.000000   9309.000000   \n",
       "mean     -0.400785     0.547408     0.453126      0.547667      0.452708   \n",
       "std       2.008014     0.300660     0.300744      0.302591      0.302650   \n",
       "min     -12.156367     0.000000     0.000000      0.000000      0.000000   \n",
       "25%      -0.950799     0.298087     0.183309      0.295898      0.179571   \n",
       "50%       0.000000     0.565156     0.435096      0.568334      0.431754   \n",
       "75%       0.469628     0.817714     0.702465      0.820549      0.705156   \n",
       "max       8.079540     1.000000     1.000000      1.000000      1.000000   \n",
       "\n",
       "           Win_Prob           WPA       airWPA       yacWPA   Season  \n",
       "count  10000.000000  9.845000e+03  3930.000000  3923.000000  10000.0  \n",
       "mean       0.470946  1.673133e-03     0.014596    -0.009764   2016.0  \n",
       "std        0.319106  4.684680e-02     0.056720     0.065689      0.0  \n",
       "min        0.000000 -9.719480e-01    -0.943119    -0.939447   2016.0  \n",
       "25%        0.172491 -1.375776e-02    -0.009758    -0.017638   2016.0  \n",
       "50%        0.486653 -7.985673e-07     0.004151     0.000000   2016.0  \n",
       "75%        0.750169  1.278280e-02     0.033391     0.009991   2016.0  \n",
       "max        1.000000  9.739204e-01     0.898214     0.932194   2016.0  \n",
       "\n",
       "[8 rows x 64 columns]"
      ]
     },
<<<<<<< HEAD
     "execution_count": 5,
=======
     "execution_count": 192,
>>>>>>> 125518d54b4c7f37fd1c8b4fde032a96caf23bae
     "metadata": {},
     "output_type": "execute_result"
    }
   ],
   "source": [
    "football_df.describe()"
   ]
  },
  {
   "cell_type": "markdown",
   "metadata": {},
   "source": [
    "## 3. Profiling the data"
   ]
  },
  {
   "cell_type": "code",
<<<<<<< HEAD
   "execution_count": 6,
=======
   "execution_count": 193,
>>>>>>> 125518d54b4c7f37fd1c8b4fde032a96caf23bae
   "metadata": {},
   "outputs": [],
   "source": [
    "from ydata_profiling import ProfileReport\n",
    "# pip install ydata-profiling\n",
    "\n",
    "#report = ProfileReport(football_df)\n",
    "#report.to_file('data_profile_report.html')"
   ]
  },
  {
   "cell_type": "markdown",
   "metadata": {},
   "source": [
    "### One-hot-encoding of categorical feature\n",
    "1. Why to encode the categorical feature?\n",
    "2. Why one-hot-encoding form? why not give each category in the feature a specific code value?\n",
    "3. How many new features will be added? What if we have some missing values, which is the case in this dataset?\n",
    "4. When is it appropriate to give each category an encoding value?\n",
    "\n",
    "\n",
    "<span style=\"color:red\"> Task : In the next cell, implement the function that take a dataframe, name of the categorical feature, and the encoder object. Then, adds new features that represent the one-hot-encoding form of this feature and ignore the missing values in it (encode them to zeros)."
   ]
  },
  {
   "cell_type": "code",
<<<<<<< HEAD
   "execution_count": 7,
=======
   "execution_count": 194,
>>>>>>> 125518d54b4c7f37fd1c8b4fde032a96caf23bae
   "metadata": {
    "pycharm": {
     "name": "#%%\n"
    }
   },
   "outputs": [
    {
     "data": {
      "text/html": [
       "<div>\n",
       "<style scoped>\n",
       "    .dataframe tbody tr th:only-of-type {\n",
       "        vertical-align: middle;\n",
       "    }\n",
       "\n",
       "    .dataframe tbody tr th {\n",
       "        vertical-align: top;\n",
       "    }\n",
       "\n",
       "    .dataframe thead th {\n",
       "        text-align: right;\n",
       "    }\n",
       "</style>\n",
       "<table border=\"1\" class=\"dataframe\">\n",
       "  <thead>\n",
       "    <tr style=\"text-align: right;\">\n",
       "      <th></th>\n",
       "      <th>GameID</th>\n",
       "      <th>Drive</th>\n",
       "      <th>qtr</th>\n",
       "      <th>down</th>\n",
       "      <th>TimeUnder</th>\n",
       "      <th>TimeSecs</th>\n",
       "      <th>PlayTimeDiff</th>\n",
       "      <th>SideofField_1</th>\n",
       "      <th>SideofField_2</th>\n",
       "      <th>SideofField_3</th>\n",
       "      <th>...</th>\n",
       "      <th>yacEPA</th>\n",
       "      <th>Home_WP_pre</th>\n",
       "      <th>Away_WP_pre</th>\n",
       "      <th>Home_WP_post</th>\n",
       "      <th>Away_WP_post</th>\n",
       "      <th>Win_Prob</th>\n",
       "      <th>WPA</th>\n",
       "      <th>airWPA</th>\n",
       "      <th>yacWPA</th>\n",
       "      <th>Season</th>\n",
       "    </tr>\n",
       "  </thead>\n",
       "  <tbody>\n",
       "    <tr>\n",
       "      <th>count</th>\n",
       "      <td>1.000000e+04</td>\n",
       "      <td>10000.000000</td>\n",
       "      <td>10000.000000</td>\n",
       "      <td>8448.000000</td>\n",
       "      <td>10000.000000</td>\n",
       "      <td>9992.000000</td>\n",
       "      <td>9984.000000</td>\n",
       "      <td>10000.000000</td>\n",
       "      <td>10000.000000</td>\n",
       "      <td>10000.000000</td>\n",
       "      <td>...</td>\n",
       "      <td>3929.000000</td>\n",
       "      <td>9357.000000</td>\n",
       "      <td>9357.000000</td>\n",
       "      <td>9309.000000</td>\n",
       "      <td>9309.000000</td>\n",
       "      <td>10000.000000</td>\n",
       "      <td>9.845000e+03</td>\n",
       "      <td>3930.000000</td>\n",
       "      <td>3923.000000</td>\n",
       "      <td>10000.0</td>\n",
       "    </tr>\n",
       "    <tr>\n",
       "      <th>mean</th>\n",
       "      <td>2.016372e+09</td>\n",
       "      <td>12.444900</td>\n",
       "      <td>2.584500</td>\n",
       "      <td>1.991951</td>\n",
       "      <td>7.322400</td>\n",
       "      <td>1686.264011</td>\n",
       "      <td>20.739283</td>\n",
       "      <td>0.035000</td>\n",
       "      <td>0.030100</td>\n",
       "      <td>0.008600</td>\n",
       "      <td>...</td>\n",
       "      <td>-0.400785</td>\n",
       "      <td>0.547408</td>\n",
       "      <td>0.453126</td>\n",
       "      <td>0.547667</td>\n",
       "      <td>0.452708</td>\n",
       "      <td>0.470946</td>\n",
       "      <td>1.673133e-03</td>\n",
       "      <td>0.014596</td>\n",
       "      <td>-0.009764</td>\n",
       "      <td>2016.0</td>\n",
       "    </tr>\n",
       "    <tr>\n",
       "      <th>std</th>\n",
       "      <td>3.996451e+05</td>\n",
       "      <td>7.075561</td>\n",
       "      <td>1.131542</td>\n",
       "      <td>1.006399</td>\n",
       "      <td>4.685216</td>\n",
       "      <td>1064.437980</td>\n",
       "      <td>20.795996</td>\n",
       "      <td>0.183789</td>\n",
       "      <td>0.170871</td>\n",
       "      <td>0.092341</td>\n",
       "      <td>...</td>\n",
       "      <td>2.008014</td>\n",
       "      <td>0.300660</td>\n",
       "      <td>0.300744</td>\n",
       "      <td>0.302591</td>\n",
       "      <td>0.302650</td>\n",
       "      <td>0.319106</td>\n",
       "      <td>4.684680e-02</td>\n",
       "      <td>0.056720</td>\n",
       "      <td>0.065689</td>\n",
       "      <td>0.0</td>\n",
       "    </tr>\n",
       "    <tr>\n",
       "      <th>min</th>\n",
       "      <td>2.016121e+09</td>\n",
       "      <td>1.000000</td>\n",
       "      <td>1.000000</td>\n",
       "      <td>1.000000</td>\n",
       "      <td>0.000000</td>\n",
       "      <td>-849.000000</td>\n",
       "      <td>0.000000</td>\n",
       "      <td>0.000000</td>\n",
       "      <td>0.000000</td>\n",
       "      <td>0.000000</td>\n",
       "      <td>...</td>\n",
       "      <td>-12.156367</td>\n",
       "      <td>0.000000</td>\n",
       "      <td>0.000000</td>\n",
       "      <td>0.000000</td>\n",
       "      <td>0.000000</td>\n",
       "      <td>0.000000</td>\n",
       "      <td>-9.719480e-01</td>\n",
       "      <td>-0.943119</td>\n",
       "      <td>-0.939447</td>\n",
       "      <td>2016.0</td>\n",
       "    </tr>\n",
       "    <tr>\n",
       "      <th>25%</th>\n",
       "      <td>2.016122e+09</td>\n",
       "      <td>6.000000</td>\n",
       "      <td>2.000000</td>\n",
       "      <td>1.000000</td>\n",
       "      <td>3.000000</td>\n",
       "      <td>772.000000</td>\n",
       "      <td>5.000000</td>\n",
       "      <td>0.000000</td>\n",
       "      <td>0.000000</td>\n",
       "      <td>0.000000</td>\n",
       "      <td>...</td>\n",
       "      <td>-0.950799</td>\n",
       "      <td>0.298087</td>\n",
       "      <td>0.183309</td>\n",
       "      <td>0.295898</td>\n",
       "      <td>0.179571</td>\n",
       "      <td>0.172491</td>\n",
       "      <td>-1.375776e-02</td>\n",
       "      <td>-0.009758</td>\n",
       "      <td>-0.017638</td>\n",
       "      <td>2016.0</td>\n",
       "    </tr>\n",
       "    <tr>\n",
       "      <th>50%</th>\n",
       "      <td>2.016122e+09</td>\n",
       "      <td>12.000000</td>\n",
       "      <td>3.000000</td>\n",
       "      <td>2.000000</td>\n",
       "      <td>7.000000</td>\n",
       "      <td>1800.000000</td>\n",
       "      <td>18.000000</td>\n",
       "      <td>0.000000</td>\n",
       "      <td>0.000000</td>\n",
       "      <td>0.000000</td>\n",
       "      <td>...</td>\n",
       "      <td>0.000000</td>\n",
       "      <td>0.565156</td>\n",
       "      <td>0.435096</td>\n",
       "      <td>0.568334</td>\n",
       "      <td>0.431754</td>\n",
       "      <td>0.486653</td>\n",
       "      <td>-7.985673e-07</td>\n",
       "      <td>0.004151</td>\n",
       "      <td>0.000000</td>\n",
       "      <td>2016.0</td>\n",
       "    </tr>\n",
       "    <tr>\n",
       "      <th>75%</th>\n",
       "      <td>2.017010e+09</td>\n",
       "      <td>18.000000</td>\n",
       "      <td>4.000000</td>\n",
       "      <td>3.000000</td>\n",
       "      <td>11.000000</td>\n",
       "      <td>2575.000000</td>\n",
       "      <td>37.000000</td>\n",
       "      <td>0.000000</td>\n",
       "      <td>0.000000</td>\n",
       "      <td>0.000000</td>\n",
       "      <td>...</td>\n",
       "      <td>0.469628</td>\n",
       "      <td>0.817714</td>\n",
       "      <td>0.702465</td>\n",
       "      <td>0.820549</td>\n",
       "      <td>0.705156</td>\n",
       "      <td>0.750169</td>\n",
       "      <td>1.278280e-02</td>\n",
       "      <td>0.033391</td>\n",
       "      <td>0.009991</td>\n",
       "      <td>2016.0</td>\n",
       "    </tr>\n",
       "    <tr>\n",
       "      <th>max</th>\n",
       "      <td>2.017010e+09</td>\n",
       "      <td>30.000000</td>\n",
       "      <td>5.000000</td>\n",
       "      <td>4.000000</td>\n",
       "      <td>15.000000</td>\n",
       "      <td>3600.000000</td>\n",
       "      <td>908.000000</td>\n",
       "      <td>1.000000</td>\n",
       "      <td>1.000000</td>\n",
       "      <td>1.000000</td>\n",
       "      <td>...</td>\n",
       "      <td>8.079540</td>\n",
       "      <td>1.000000</td>\n",
       "      <td>1.000000</td>\n",
       "      <td>1.000000</td>\n",
       "      <td>1.000000</td>\n",
       "      <td>1.000000</td>\n",
       "      <td>9.739204e-01</td>\n",
       "      <td>0.898214</td>\n",
       "      <td>0.932194</td>\n",
       "      <td>2016.0</td>\n",
       "    </tr>\n",
       "  </tbody>\n",
       "</table>\n",
       "<p>8 rows × 13035 columns</p>\n",
       "</div>"
      ],
      "text/plain": [
       "             GameID         Drive           qtr         down     TimeUnder  \\\n",
       "count  1.000000e+04  10000.000000  10000.000000  8448.000000  10000.000000   \n",
       "mean   2.016372e+09     12.444900      2.584500     1.991951      7.322400   \n",
       "std    3.996451e+05      7.075561      1.131542     1.006399      4.685216   \n",
       "min    2.016121e+09      1.000000      1.000000     1.000000      0.000000   \n",
       "25%    2.016122e+09      6.000000      2.000000     1.000000      3.000000   \n",
       "50%    2.016122e+09     12.000000      3.000000     2.000000      7.000000   \n",
       "75%    2.017010e+09     18.000000      4.000000     3.000000     11.000000   \n",
       "max    2.017010e+09     30.000000      5.000000     4.000000     15.000000   \n",
       "\n",
       "          TimeSecs  PlayTimeDiff  SideofField_1  SideofField_2  SideofField_3  \\\n",
       "count  9992.000000   9984.000000   10000.000000   10000.000000   10000.000000   \n",
       "mean   1686.264011     20.739283       0.035000       0.030100       0.008600   \n",
       "std    1064.437980     20.795996       0.183789       0.170871       0.092341   \n",
       "min    -849.000000      0.000000       0.000000       0.000000       0.000000   \n",
       "25%     772.000000      5.000000       0.000000       0.000000       0.000000   \n",
       "50%    1800.000000     18.000000       0.000000       0.000000       0.000000   \n",
       "75%    2575.000000     37.000000       0.000000       0.000000       0.000000   \n",
       "max    3600.000000    908.000000       1.000000       1.000000       1.000000   \n",
       "\n",
       "       ...       yacEPA  Home_WP_pre  Away_WP_pre  Home_WP_post  Away_WP_post  \\\n",
       "count  ...  3929.000000  9357.000000  9357.000000   9309.000000   9309.000000   \n",
       "mean   ...    -0.400785     0.547408     0.453126      0.547667      0.452708   \n",
       "std    ...     2.008014     0.300660     0.300744      0.302591      0.302650   \n",
       "min    ...   -12.156367     0.000000     0.000000      0.000000      0.000000   \n",
       "25%    ...    -0.950799     0.298087     0.183309      0.295898      0.179571   \n",
       "50%    ...     0.000000     0.565156     0.435096      0.568334      0.431754   \n",
       "75%    ...     0.469628     0.817714     0.702465      0.820549      0.705156   \n",
       "max    ...     8.079540     1.000000     1.000000      1.000000      1.000000   \n",
       "\n",
       "           Win_Prob           WPA       airWPA       yacWPA   Season  \n",
       "count  10000.000000  9.845000e+03  3930.000000  3923.000000  10000.0  \n",
       "mean       0.470946  1.673133e-03     0.014596    -0.009764   2016.0  \n",
       "std        0.319106  4.684680e-02     0.056720     0.065689      0.0  \n",
       "min        0.000000 -9.719480e-01    -0.943119    -0.939447   2016.0  \n",
       "25%        0.172491 -1.375776e-02    -0.009758    -0.017638   2016.0  \n",
       "50%        0.486653 -7.985673e-07     0.004151     0.000000   2016.0  \n",
       "75%        0.750169  1.278280e-02     0.033391     0.009991   2016.0  \n",
       "max        1.000000  9.739204e-01     0.898214     0.932194   2016.0  \n",
       "\n",
       "[8 rows x 13035 columns]"
      ]
     },
<<<<<<< HEAD
     "execution_count": 7,
=======
     "execution_count": 194,
>>>>>>> 125518d54b4c7f37fd1c8b4fde032a96caf23bae
     "metadata": {},
     "output_type": "execute_result"
    }
   ],
   "source": [
    "from category_encoders import OneHotEncoder\n",
    "# !pip install category-encoders\n",
    "\n",
    "cat_feats = football_df.select_dtypes(include=['object']).columns.tolist()\n",
    "encoder = OneHotEncoder(cols=cat_feats, handle_unknown='ignore')\n",
    "\n",
    "encoder.fit(football_df)\n",
    "\n",
    "# Write your code here (1 line)\n",
    "\n",
    "# Transform the data \n",
    "encoded_data = encoder.transform(football_df)\n",
    "encoded_data.describe()"
   ]
  },
  {
   "cell_type": "markdown",
   "metadata": {},
   "source": [
    "## 4. Data Imputation\n",
    "#### Imputation is filling the missing values in the dataset.\n",
    "Several issues to address:\n",
    "1. Why we should fill them? Why not remove the rows that has missing values?\n",
    "2. Filling it with constant value for each value, but what's it?\n",
    "3. (Advanced) Estimate the filling value, each row for its own.\n",
    "4. How to choose the imputation strategy?\n",
    "5. (Not related only to imputations) Why we fit the imputer to the training data not the concatenation of both train and test set?\n",
    "\n",
    "\n",
    "<span style=\"color:red\">Task :  In the next cell, implement a function that returns the count of nan/empty cells in a dataframe.</span><br>\n",
    "<span style=\"color:red\">Task : Use SimpleImputer object, fit it to the trainset, then transform both the train and test sets.</span>"
   ]
  },
  {
   "cell_type": "code",
<<<<<<< HEAD
   "execution_count": 8,
=======
   "execution_count": 195,
>>>>>>> 125518d54b4c7f37fd1c8b4fde032a96caf23bae
   "metadata": {
    "pycharm": {
     "name": "#%%\n"
    }
   },
   "outputs": [
    {
     "name": "stdout",
     "output_type": "stream",
     "text": [
      "#Empty missing data cells in the dataset =  42015\n",
      "After Imputing:\n",
      "#Empty cells in dataset = 0\n"
     ]
    }
   ],
   "source": [
    "from sklearn.impute import SimpleImputer\n",
    "import numpy as np\n",
    "\n",
    "\n",
    "#TODO: Complete a function that returns number of empty cells \n",
    "def count_nans(df):\n",
    "    # 1 or 2 lines.\n",
    "    return df.isna().sum().sum()\n",
    "\n",
    "# Print number of empty cells (1 line)\n",
    "print(\"#Empty missing data cells in the dataset = \", count_nans(encoded_data))\n",
    "\n",
    "# Write your code here (3-4 lines):\n",
    "# create the imputer object.\n",
    "inputer = SimpleImputer()\n",
    "# fit the imputer.\n",
    "inputer.fit(encoded_data)\n",
    "# transform the data\n",
    "imputed_data = inputer.transform(encoded_data)\n",
    "\n",
    "print(\"After Imputing:\")\n",
    "# Print number of empty cells in the data(1 line)\n",
    "print(\"#Empty cells in dataset =\", count_nans(pd.DataFrame(imputed_data, columns=encoded_data.columns)))"
   ]
  },
  {
   "cell_type": "markdown",
   "metadata": {},
   "source": [
    "## 5. Features Scaling\n",
    "1. Why we need to make all the features have same range of values?\n",
    "<span style=\"color:blue\"> This has something to do with some machine learning algorithms.\n",
    "First, gradient-related algorithms (e.g., linear regression, logisitic regression, deep learning algorithms): feature scaling is important for the congergence of the algorithms as the gradient in one direction/feature could need more/long steps than the others and the scaling solves this issue and make the training stable and relatively faster.\n",
    "Second, distance related algorithms (e.g., KNN, K-means). These algorithms depends on the distance between samples both in training and testing. Having features with different ranges would affect the distance measure and produce biased prediciton to the features with larger range.\n",
    "for example: having two features (length in KM [10: 10000] and temperature in C° [20: 40]). The distance value will be much affected by the length feature.</span>\n",
    "\n",
    "1. What are the different strategies to scale the features? <br>\n",
    "    * <span style=\"color:blue\">Min-Max scaling: transform all features to fall in this range: [0, 1].</span><br>\n",
    "$$x_i = \\frac{x_i - min(\\mathbf{x})}{max(\\mathbf{x}) - min(\\mathbf{x})}$$\n",
    "    * <span style=\"color:blue\">Standard scaling: transform all features to have mean = 0 and standard deviation = 1. And by assuming that all features follow normal distribution, we can say that standard scaling turns featrues to be $\\sim N(0,1)$.</span> <br>\n",
    "$$x_i = \\frac{x_i - mean(\\mathbf{x})}{stdev(\\mathbf{x})}$$ <br>\n",
    "    * <span style=\"color:blue\">Robust scaling: robust to the outliers that may affect the previous methods in calculating their mean, stdev, min, or max. It uses the interquartile range to scale the features according to it.\n",
    "Interquartile is the range between the 1st quartile and 3rd quartile.</span> <br>\n",
    "$$x_i = \\frac{x_i - Q_1(\\mathbf{x})}{Q_3(\\mathbf{x}) - Q_1(\\mathbf{x})}$$ \n",
    "\n",
    "3. How to choose the strategy?\n",
    "<span style=\"color:blue\">Same as in imputation strategy, using a validation set or using cross-validation.\n",
    "\n",
    "<span style=\"color:red\">  In the following cell, scale all the features with a scaler from your choice. Fit the scaler on the full data set and transform both it.</span>"
   ]
  },
  {
   "cell_type": "code",
<<<<<<< HEAD
   "execution_count": 9,
=======
   "execution_count": 196,
>>>>>>> 125518d54b4c7f37fd1c8b4fde032a96caf23bae
   "metadata": {
    "pycharm": {
     "name": "#%%\n"
    }
   },
   "outputs": [],
   "source": [
    "from sklearn.preprocessing import RobustScaler\n",
    "\n",
    "# Write your code here (4 lines):\n",
    "# choose the scaler class.\n",
    "# create the scaler object.\n",
    "# fit it to the data.\n",
    "transformer = RobustScaler().fit(imputed_data)\n",
    "# transform the data\n",
    "transformed_data = transformer.transform(imputed_data)"
   ]
  },
  {
   "cell_type": "markdown",
   "metadata": {
    "pycharm": {
     "name": "#%% md\n"
    }
   },
   "source": [
    "## 6. Trainset splitting\n",
    "Issues that lead to trainset splitting:\n",
    "1. How we will measure the performance of our model?\n",
    "<span style=\"color:blue\"> Measuring performance on the trainset is not a good idea intuitively, as to estimate the generalization error, we need to evaluate the model on a data that wasn't seen before.\n",
    "So we need to split the dataset that we have to two parts trainset and testset.\n",
    "2. How we will tune the hyperparamters? Can it be done with testset?\n",
    "<span style=\"color:blue\"> If we tuned the hyperparamters on the testset, this will be considered as Data leakage as the hyperparams were tuned on the set that represent the evaluation, so there's a high chance that it will overfit the testset and fails to generalize (i.e., get high test accuracy but fails in production for example).\n",
    "So, it is a must to split the data into 3 parts:\n",
    "(70%) trainset to train the params , (10%) validation set to tune the hyperparameters (it can be used for other stuff like early stopping (tbe)), and (20%) testset to evaluate the model finally.\n",
    "\n",
    "Issues to think of:\n",
    "1. Is is the best strategy to get the best estimate for the true risk/performance of the system?\n",
    "<span style=\"color:blue\"> There's a chance that the testset is biased. So, a better way to estimate the true generalization error is to use cross validation.\n",
    "Cross validation is a method where the dataset, is divided into k equally sized folds then we train on k-1 folds and test on the left one and repeat this process k times for each fold and get k estimates, finally we average all of these k accuracies to represent the final accuracy.\n",
    "2. (Advanced) How to choose between two models?\n",
    "If you have two models one with test accuracy 90% and the other with 91% (averaged from cross valdiation), which one to choose?\n",
    "<span style=\"color:blue\"> The naive/fast approach is to use the model with higher accuracy. But what if these estimates are not significantly different (we got them by chance), then a hypothesis test needs to be done.\n",
    "After testing each model for each fold from the k-folds we can use \"Paired t-test\" to test if they are significantly different or not.\n",
    "<br />(more advanced way, which is used in industry: A/B testing, watch about it [here](https://www.youtube.com/watch?v=zFMgpxG-chM))\n",
    "\n",
    "<span style=\"color:red\"> TASK : In the next task, you will split your data into 3 parts, train, test, and validation by ratios: 70%, 20%, and 10% respectively.</span>"
   ]
  },
  {
   "cell_type": "code",
<<<<<<< HEAD
   "execution_count": 10,
=======
   "execution_count": 197,
>>>>>>> 125518d54b4c7f37fd1c8b4fde032a96caf23bae
   "metadata": {
    "pycharm": {
     "name": "#%%\n"
    }
   },
   "outputs": [
    {
     "name": "stdout",
     "output_type": "stream",
     "text": [
      "(7000, 13035) (2000, 13035) (1000, 13035)\n"
     ]
    }
   ],
   "source": [
    "from sklearn.model_selection import train_test_split\n",
    "\n",
    "# TODO: Write your code here (2 lines)\n",
    "\n",
    "x_train,x_test =  train_test_split(transformed_data, test_size=0.2)\n",
    "\n",
    "x_train,x_val = train_test_split(x_train, test_size=0.125)\n",
    "\n",
    "print(x_train.shape, x_test.shape, x_val.shape)"
   ]
  },
  {
   "cell_type": "markdown",
   "metadata": {},
   "source": [
    "## 7. Data Visualization\n",
    "Visualization is key-issue to get some insights and intuition about your dataset.\n",
    "How to plot 259 features (259-dimensional data)? what we can plot -at maximum- is 2d or 3d data.\n",
    "\n",
    "Hint: We should reduce the dimension. Read this [article](https://towardsdatascience.com/dimensionality-reduction-ways-and-intuitions-1b5e97592d8e).\n",
    "\n",
    "So, Let's use UMAP to reduce the dimension of this dataset to be 2D."
   ]
  },
  {
   "cell_type": "code",
<<<<<<< HEAD
   "execution_count": 11,
=======
   "execution_count": 198,
>>>>>>> 125518d54b4c7f37fd1c8b4fde032a96caf23bae
   "metadata": {
    "pycharm": {
     "name": "#%%\n"
    }
   },
   "outputs": [
    {
     "name": "stdout",
     "output_type": "stream",
     "text": [
      "(7000, 2)\n"
     ]
    }
   ],
   "source": [
    "from sklearn.decomposition import PCA\n",
    "\n",
    "dim_reducer = PCA(n_components=2)\n",
    "\n",
    "x_train_reduced = dim_reducer.fit_transform(x_train)\n",
    "\n",
    "print(x_train_reduced.shape)"
   ]
  },
  {
   "cell_type": "markdown",
   "metadata": {},
   "source": [
    "Let's plot the reduced dataset on a 2D plane.\n",
    "Use matplotlib to make a scatter plot for the reduced dataset."
   ]
  },
  {
   "cell_type": "code",
<<<<<<< HEAD
   "execution_count": 12,
=======
   "execution_count": 199,
>>>>>>> 125518d54b4c7f37fd1c8b4fde032a96caf23bae
   "metadata": {
    "pycharm": {
     "name": "#%%\n"
    }
   },
   "outputs": [
    {
     "data": {
<<<<<<< HEAD
      "image/png": "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",
=======
      "image/png": "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",
>>>>>>> 125518d54b4c7f37fd1c8b4fde032a96caf23bae
      "text/plain": [
       "<Figure size 640x480 with 1 Axes>"
      ]
     },
     "metadata": {},
     "output_type": "display_data"
    }
   ],
   "source": [
    "import matplotlib.pyplot as plt\n",
    "%matplotlib inline\n",
    "plt.scatter(x_train_reduced[:,0],x_train_reduced[:,1])\n",
    "plt.show()\n",
    "\n",
    "# Write code to plot the reduced dataset in a scatter plot."
   ]
  },
  {
   "cell_type": "markdown",
   "metadata": {},
   "source": [
    "## 8. Self Practice task\n",
    "\n",
    "Using the Football dataset follow the steps below:\n",
    "1. Select `Win_Prob` as target variable \n",
    "1. Remove columns with constant value (i.e all the values in the column are equal to zero)\n",
    "1. Extract features from `Date` and `time` column\n",
    "1. Remove all columns with more than 99% missing values\n",
    "1. Remove all columns with 99% distinct values\n",
    "1. Split the data into train (80%) and test(20%) sets. \n",
    "1. Split the train data into train (80%) and validation sets. \n",
    "1. Encode categorical data using a different encoder (not One Hot encoder) : see [Category Encoders](https://contrib.scikit-learn.org/category_encoders/index.html) for a full list. remember that you fit the encoder on train data only and then transform test data\n",
    "1. Impute missing values\n",
    "\n",
    "<span style=\"color:red\"> NOTE : Make use of the insights from pandas profiling report</span>"
   ]
  },
  {
   "cell_type": "markdown",
   "metadata": {},
   "source": [
    "1. Select `Win_Prob` as target variable "
   ]
  },
  {
   "cell_type": "code",
<<<<<<< HEAD
   "execution_count": 13,
=======
   "execution_count": 200,
>>>>>>> 125518d54b4c7f37fd1c8b4fde032a96caf23bae
   "metadata": {},
   "outputs": [],
   "source": [
    "import pandas as pd\n",
    "import numpy as np\n",
    "from sklearn.model_selection import train_test_split\n",
    "\n",
    "import matplotlib.pyplot as plt\n",
    "\n",
    "football_df = pd.read_csv('./football_data.csv', low_memory=False)\n",
    "\n",
    "target = 'Win_Prob'\n",
    "y = football_df[target]\n",
    "football_df = football_df.drop(columns=[target])"
   ]
  },
  {
   "cell_type": "markdown",
   "metadata": {},
   "source": [
    "2. Remove columns with constant value (i.e all the values in the column are equal to zero)"
   ]
  },
  {
   "cell_type": "code",
<<<<<<< HEAD
   "execution_count": 14,
=======
   "execution_count": 201,
>>>>>>> 125518d54b4c7f37fd1c8b4fde032a96caf23bae
   "metadata": {},
   "outputs": [
    {
     "name": "stdout",
     "output_type": "stream",
     "text": [
      "['PlayAttempted', 'DefTwoPoint', 'Season']\n"
     ]
    }
   ],
   "source": [
    "cont_cols =  [col for col in football_df.columns if football_df[col].nunique() == 1]\n",
    "print(cont_cols)\n",
    "football_df =  football_df.drop(columns=cont_cols)"
   ]
  },
  {
   "cell_type": "markdown",
   "metadata": {},
   "source": [
    "3. Extract features from `Date` and `time` column"
   ]
  },
  {
   "cell_type": "code",
<<<<<<< HEAD
   "execution_count": 15,
=======
   "execution_count": 202,
>>>>>>> 125518d54b4c7f37fd1c8b4fde032a96caf23bae
   "metadata": {},
   "outputs": [
    {
     "name": "stdout",
     "output_type": "stream",
     "text": [
      "0       2.0\n",
      "1       2.0\n",
      "2       1.0\n",
      "3       1.0\n",
      "4       1.0\n",
      "       ... \n",
      "9995    0.0\n",
      "9996    0.0\n",
      "9997    0.0\n",
      "9998    0.0\n",
      "9999    0.0\n",
<<<<<<< HEAD
      "Name: timeHour, Length: 10000, dtype: float64\n"
=======
      "Name: time, Length: 10000, dtype: float64\n"
>>>>>>> 125518d54b4c7f37fd1c8b4fde032a96caf23bae
     ]
    }
   ],
   "source": [
    "#football_df.Date.describe()\n",
    "#football_df.time.describe()\n",
    "date_series  = pd.to_datetime(football_df.Date)\n",
    "time_series  = pd.to_datetime(football_df.time)\n",
    "football_df = football_df.drop(columns=['Date','time'])\n",
    "\n",
    "#print(date_series)\n",
    "\n",
<<<<<<< HEAD
    "football_df['DateYear'] = date_series.dt.year\n",
    "football_df['DateMonth'] = date_series.dt.month\n",
    "football_df['DateDay'] = date_series.dt.day\n",
    "\n",
    "football_df['timeHour'] = time_series.dt.hour\n",
    "football_df['timeMin'] = time_series.dt.minute\n",
=======
    "football_df.DateYear = date_series.dt.year\n",
    "football_df.DateMonth = date_series.dt.month\n",
    "football_df.DateDay = date_series.dt.day\n",
    "\n",
    "football_df.timeHour = time_series.dt.hour\n",
    "football_df.timeMin = time_series.dt.minute\n",
>>>>>>> 125518d54b4c7f37fd1c8b4fde032a96caf23bae
    "\n",
    "\n",
    "\n",
    "print(football_df.timeHour)\n"
   ]
  },
  {
   "cell_type": "markdown",
   "metadata": {},
   "source": [
    "4. Remove all columns with more than 99% missing values"
   ]
  },
  {
   "cell_type": "code",
<<<<<<< HEAD
   "execution_count": 16,
=======
   "execution_count": 207,
>>>>>>> 125518d54b4c7f37fd1c8b4fde032a96caf23bae
   "metadata": {},
   "outputs": [
    {
     "name": "stdout",
     "output_type": "stream",
     "text": [
<<<<<<< HEAD
      "['TwoPointConv', 'BlockingPlayer', 'RecFumbTeam', 'RecFumbPlayer', 'ChalReplayResult']\n"
=======
      "[]\n"
>>>>>>> 125518d54b4c7f37fd1c8b4fde032a96caf23bae
     ]
    }
   ],
   "source": [
    "\n",
    "missing_val_cols =  [col for col in football_df if football_df[col].isna().mean()  > .99]\n",
    "print(missing_val_cols)\n",
    "\n",
    "football_df =  football_df.drop(columns=missing_val_cols)"
   ]
  },
  {
   "cell_type": "markdown",
   "metadata": {},
   "source": [
<<<<<<< HEAD
    "5. Remove all columns with 99% distinct values (same as point 2)\n",
    "\n",
    "    distinct or unique?"
=======
    "5. Remove all columns with 99% distinct values (same as point 2)"
>>>>>>> 125518d54b4c7f37fd1c8b4fde032a96caf23bae
   ]
  },
  {
   "cell_type": "markdown",
   "metadata": {},
   "source": [
    "6. Split the data into train (80%) and test(20%) sets."
   ]
  },
  {
   "cell_type": "code",
<<<<<<< HEAD
   "execution_count": 17,
=======
   "execution_count": 208,
>>>>>>> 125518d54b4c7f37fd1c8b4fde032a96caf23bae
   "metadata": {},
   "outputs": [],
   "source": [
    "x_train,x_test =  train_test_split(football_df, test_size=0.2)"
   ]
  },
  {
   "cell_type": "markdown",
   "metadata": {},
   "source": [
    "7. Split the train data into train (80%) and validation sets. "
   ]
  },
  {
   "cell_type": "code",
<<<<<<< HEAD
   "execution_count": 18,
=======
   "execution_count": 209,
>>>>>>> 125518d54b4c7f37fd1c8b4fde032a96caf23bae
   "metadata": {},
   "outputs": [],
   "source": [
    "x_train,x_val = train_test_split(x_train, test_size=0.125)"
   ]
  },
  {
   "cell_type": "markdown",
   "metadata": {},
   "source": [
    "8. Encode categorical data using a different encoder (not One Hot encoder) : see [Category Encoders]"
   ]
  },
  {
   "cell_type": "code",
<<<<<<< HEAD
   "execution_count": 19,
=======
   "execution_count": 213,
>>>>>>> 125518d54b4c7f37fd1c8b4fde032a96caf23bae
   "metadata": {},
   "outputs": [
    {
     "name": "stdout",
     "output_type": "stream",
     "text": [
      "['SideofField', 'posteam', 'DefensiveTeam', 'desc', 'ExPointResult', 'PuntResult', 'PlayType', 'Passer', 'Passer_ID', 'PassOutcome', 'PassLength', 'PassLocation', 'Interceptor', 'Rusher', 'Rusher_ID', 'RunLocation', 'RunGap', 'Receiver', 'Receiver_ID', 'ReturnResult', 'Returner', 'Tackler1', 'Tackler2', 'FieldGoalResult', 'PenalizedTeam', 'PenaltyType', 'PenalizedPlayer', 'HomeTeam', 'AwayTeam', 'Timeout_Team']\n"
     ]
    },
    {
     "data": {
      "text/html": [
       "<div>\n",
       "<style scoped>\n",
       "    .dataframe tbody tr th:only-of-type {\n",
       "        vertical-align: middle;\n",
       "    }\n",
       "\n",
       "    .dataframe tbody tr th {\n",
       "        vertical-align: top;\n",
       "    }\n",
       "\n",
       "    .dataframe thead th {\n",
       "        text-align: right;\n",
       "    }\n",
       "</style>\n",
       "<table border=\"1\" class=\"dataframe\">\n",
       "  <thead>\n",
       "    <tr style=\"text-align: right;\">\n",
       "      <th></th>\n",
       "      <th>GameID</th>\n",
       "      <th>Drive</th>\n",
       "      <th>qtr</th>\n",
       "      <th>down</th>\n",
       "      <th>TimeUnder</th>\n",
       "      <th>TimeSecs</th>\n",
       "      <th>PlayTimeDiff</th>\n",
<<<<<<< HEAD
       "      <th>SideofField_1</th>\n",
       "      <th>SideofField_2</th>\n",
       "      <th>SideofField_3</th>\n",
       "      <th>...</th>\n",
=======
       "      <th>SideofField_0</th>\n",
       "      <th>SideofField_1</th>\n",
       "      <th>SideofField_2</th>\n",
       "      <th>...</th>\n",
       "      <th>EPA</th>\n",
       "      <th>airEPA</th>\n",
>>>>>>> 125518d54b4c7f37fd1c8b4fde032a96caf23bae
       "      <th>yacEPA</th>\n",
       "      <th>Home_WP_pre</th>\n",
       "      <th>Away_WP_pre</th>\n",
       "      <th>Home_WP_post</th>\n",
       "      <th>Away_WP_post</th>\n",
<<<<<<< HEAD
       "      <th>Win_Prob</th>\n",
       "      <th>WPA</th>\n",
       "      <th>airWPA</th>\n",
       "      <th>yacWPA</th>\n",
       "      <th>Season</th>\n",
=======
       "      <th>WPA</th>\n",
       "      <th>airWPA</th>\n",
       "      <th>yacWPA</th>\n",
>>>>>>> 125518d54b4c7f37fd1c8b4fde032a96caf23bae
       "    </tr>\n",
       "  </thead>\n",
       "  <tbody>\n",
       "    <tr>\n",
       "      <th>count</th>\n",
<<<<<<< HEAD
       "      <td>1.000000e+04</td>\n",
       "      <td>10000.000000</td>\n",
       "      <td>10000.000000</td>\n",
       "      <td>8448.000000</td>\n",
       "      <td>10000.000000</td>\n",
       "      <td>9992.000000</td>\n",
       "      <td>9984.000000</td>\n",
       "      <td>10000.000000</td>\n",
       "      <td>10000.000000</td>\n",
       "      <td>10000.000000</td>\n",
       "      <td>...</td>\n",
       "      <td>3929.000000</td>\n",
       "      <td>9357.000000</td>\n",
       "      <td>9357.000000</td>\n",
       "      <td>9309.000000</td>\n",
       "      <td>9309.000000</td>\n",
       "      <td>10000.000000</td>\n",
       "      <td>9.845000e+03</td>\n",
       "      <td>3930.000000</td>\n",
       "      <td>3923.000000</td>\n",
       "      <td>10000.0</td>\n",
       "    </tr>\n",
       "    <tr>\n",
       "      <th>mean</th>\n",
       "      <td>2.016372e+09</td>\n",
       "      <td>12.444900</td>\n",
       "      <td>2.584500</td>\n",
       "      <td>1.991951</td>\n",
       "      <td>7.322400</td>\n",
       "      <td>1686.264011</td>\n",
       "      <td>20.739283</td>\n",
       "      <td>0.035000</td>\n",
       "      <td>0.030100</td>\n",
       "      <td>0.008600</td>\n",
       "      <td>...</td>\n",
       "      <td>-0.400785</td>\n",
       "      <td>0.547408</td>\n",
       "      <td>0.453126</td>\n",
       "      <td>0.547667</td>\n",
       "      <td>0.452708</td>\n",
       "      <td>0.470946</td>\n",
       "      <td>1.673133e-03</td>\n",
       "      <td>0.014596</td>\n",
       "      <td>-0.009764</td>\n",
       "      <td>2016.0</td>\n",
       "    </tr>\n",
       "    <tr>\n",
       "      <th>std</th>\n",
       "      <td>3.996451e+05</td>\n",
       "      <td>7.075561</td>\n",
       "      <td>1.131542</td>\n",
       "      <td>1.006399</td>\n",
       "      <td>4.685216</td>\n",
       "      <td>1064.437980</td>\n",
       "      <td>20.795996</td>\n",
       "      <td>0.183789</td>\n",
       "      <td>0.170871</td>\n",
       "      <td>0.092341</td>\n",
       "      <td>...</td>\n",
       "      <td>2.008014</td>\n",
       "      <td>0.300660</td>\n",
       "      <td>0.300744</td>\n",
       "      <td>0.302591</td>\n",
       "      <td>0.302650</td>\n",
       "      <td>0.319106</td>\n",
       "      <td>4.684680e-02</td>\n",
       "      <td>0.056720</td>\n",
       "      <td>0.065689</td>\n",
       "      <td>0.0</td>\n",
=======
       "      <td>7.000000e+03</td>\n",
       "      <td>7000.000000</td>\n",
       "      <td>7000.000000</td>\n",
       "      <td>5889.000000</td>\n",
       "      <td>7000.000000</td>\n",
       "      <td>6994.000000</td>\n",
       "      <td>6988.000000</td>\n",
       "      <td>7000.000000</td>\n",
       "      <td>7000.00000</td>\n",
       "      <td>7000.000000</td>\n",
       "      <td>...</td>\n",
       "      <td>6992.000000</td>\n",
       "      <td>2680.000000</td>\n",
       "      <td>2677.000000</td>\n",
       "      <td>6553.000000</td>\n",
       "      <td>6553.000000</td>\n",
       "      <td>6521.000000</td>\n",
       "      <td>6521.000000</td>\n",
       "      <td>6888.000000</td>\n",
       "      <td>2679.000000</td>\n",
       "      <td>2671.000000</td>\n",
       "    </tr>\n",
       "    <tr>\n",
       "      <th>mean</th>\n",
       "      <td>2.016369e+09</td>\n",
       "      <td>12.482429</td>\n",
       "      <td>2.591571</td>\n",
       "      <td>2.000170</td>\n",
       "      <td>7.292857</td>\n",
       "      <td>1677.711038</td>\n",
       "      <td>20.486119</td>\n",
       "      <td>0.069286</td>\n",
       "      <td>0.46200</td>\n",
       "      <td>0.499714</td>\n",
       "      <td>...</td>\n",
       "      <td>0.032551</td>\n",
       "      <td>0.566723</td>\n",
       "      <td>-0.417601</td>\n",
       "      <td>0.548009</td>\n",
       "      <td>0.452601</td>\n",
       "      <td>0.548463</td>\n",
       "      <td>0.451917</td>\n",
       "      <td>0.002121</td>\n",
       "      <td>0.014567</td>\n",
       "      <td>-0.009549</td>\n",
       "    </tr>\n",
       "    <tr>\n",
       "      <th>std</th>\n",
       "      <td>3.982083e+05</td>\n",
       "      <td>7.040509</td>\n",
       "      <td>1.130018</td>\n",
       "      <td>1.013747</td>\n",
       "      <td>4.669467</td>\n",
       "      <td>1062.479326</td>\n",
       "      <td>22.275162</td>\n",
       "      <td>0.253958</td>\n",
       "      <td>0.49859</td>\n",
       "      <td>0.500036</td>\n",
       "      <td>...</td>\n",
       "      <td>1.296633</td>\n",
       "      <td>1.391585</td>\n",
       "      <td>1.992330</td>\n",
       "      <td>0.301498</td>\n",
       "      <td>0.301595</td>\n",
       "      <td>0.303864</td>\n",
       "      <td>0.303924</td>\n",
       "      <td>0.047699</td>\n",
       "      <td>0.059294</td>\n",
       "      <td>0.066416</td>\n",
>>>>>>> 125518d54b4c7f37fd1c8b4fde032a96caf23bae
       "    </tr>\n",
       "    <tr>\n",
       "      <th>min</th>\n",
       "      <td>2.016121e+09</td>\n",
       "      <td>1.000000</td>\n",
       "      <td>1.000000</td>\n",
       "      <td>1.000000</td>\n",
       "      <td>0.000000</td>\n",
       "      <td>-849.000000</td>\n",
       "      <td>0.000000</td>\n",
       "      <td>0.000000</td>\n",
<<<<<<< HEAD
       "      <td>0.000000</td>\n",
       "      <td>0.000000</td>\n",
       "      <td>...</td>\n",
       "      <td>-12.156367</td>\n",
=======
       "      <td>0.00000</td>\n",
       "      <td>0.000000</td>\n",
       "      <td>...</td>\n",
       "      <td>-9.630645</td>\n",
       "      <td>-3.501091</td>\n",
       "      <td>-9.856938</td>\n",
>>>>>>> 125518d54b4c7f37fd1c8b4fde032a96caf23bae
       "      <td>0.000000</td>\n",
       "      <td>0.000000</td>\n",
       "      <td>0.000000</td>\n",
       "      <td>0.000000</td>\n",
<<<<<<< HEAD
       "      <td>0.000000</td>\n",
       "      <td>-9.719480e-01</td>\n",
       "      <td>-0.943119</td>\n",
       "      <td>-0.939447</td>\n",
       "      <td>2016.0</td>\n",
=======
       "      <td>-0.971948</td>\n",
       "      <td>-0.943119</td>\n",
       "      <td>-0.939447</td>\n",
>>>>>>> 125518d54b4c7f37fd1c8b4fde032a96caf23bae
       "    </tr>\n",
       "    <tr>\n",
       "      <th>25%</th>\n",
       "      <td>2.016122e+09</td>\n",
<<<<<<< HEAD
       "      <td>6.000000</td>\n",
       "      <td>2.000000</td>\n",
       "      <td>1.000000</td>\n",
       "      <td>3.000000</td>\n",
       "      <td>772.000000</td>\n",
       "      <td>5.000000</td>\n",
       "      <td>0.000000</td>\n",
       "      <td>0.000000</td>\n",
       "      <td>0.000000</td>\n",
       "      <td>...</td>\n",
       "      <td>-0.950799</td>\n",
       "      <td>0.298087</td>\n",
       "      <td>0.183309</td>\n",
       "      <td>0.295898</td>\n",
       "      <td>0.179571</td>\n",
       "      <td>0.172491</td>\n",
       "      <td>-1.375776e-02</td>\n",
       "      <td>-0.009758</td>\n",
       "      <td>-0.017638</td>\n",
       "      <td>2016.0</td>\n",
=======
       "      <td>7.000000</td>\n",
       "      <td>2.000000</td>\n",
       "      <td>1.000000</td>\n",
       "      <td>3.000000</td>\n",
       "      <td>761.250000</td>\n",
       "      <td>5.000000</td>\n",
       "      <td>0.000000</td>\n",
       "      <td>0.00000</td>\n",
       "      <td>0.000000</td>\n",
       "      <td>...</td>\n",
       "      <td>-0.588861</td>\n",
       "      <td>-0.454539</td>\n",
       "      <td>-0.987866</td>\n",
       "      <td>0.298871</td>\n",
       "      <td>0.177296</td>\n",
       "      <td>0.297023</td>\n",
       "      <td>0.175795</td>\n",
       "      <td>-0.013600</td>\n",
       "      <td>-0.009008</td>\n",
       "      <td>-0.017885</td>\n",
>>>>>>> 125518d54b4c7f37fd1c8b4fde032a96caf23bae
       "    </tr>\n",
       "    <tr>\n",
       "      <th>50%</th>\n",
       "      <td>2.016122e+09</td>\n",
       "      <td>12.000000</td>\n",
       "      <td>3.000000</td>\n",
       "      <td>2.000000</td>\n",
       "      <td>7.000000</td>\n",
<<<<<<< HEAD
       "      <td>1800.000000</td>\n",
       "      <td>18.000000</td>\n",
       "      <td>0.000000</td>\n",
       "      <td>0.000000</td>\n",
       "      <td>0.000000</td>\n",
       "      <td>...</td>\n",
       "      <td>0.000000</td>\n",
       "      <td>0.565156</td>\n",
       "      <td>0.435096</td>\n",
       "      <td>0.568334</td>\n",
       "      <td>0.431754</td>\n",
       "      <td>0.486653</td>\n",
       "      <td>-7.985673e-07</td>\n",
       "      <td>0.004151</td>\n",
       "      <td>0.000000</td>\n",
       "      <td>2016.0</td>\n",
=======
       "      <td>1798.000000</td>\n",
       "      <td>16.000000</td>\n",
       "      <td>0.000000</td>\n",
       "      <td>0.00000</td>\n",
       "      <td>0.000000</td>\n",
       "      <td>...</td>\n",
       "      <td>0.000000</td>\n",
       "      <td>0.375941</td>\n",
       "      <td>0.000000</td>\n",
       "      <td>0.562473</td>\n",
       "      <td>0.438158</td>\n",
       "      <td>0.568334</td>\n",
       "      <td>0.431795</td>\n",
       "      <td>0.000000</td>\n",
       "      <td>0.004666</td>\n",
       "      <td>0.000000</td>\n",
>>>>>>> 125518d54b4c7f37fd1c8b4fde032a96caf23bae
       "    </tr>\n",
       "    <tr>\n",
       "      <th>75%</th>\n",
       "      <td>2.017010e+09</td>\n",
       "      <td>18.000000</td>\n",
       "      <td>4.000000</td>\n",
       "      <td>3.000000</td>\n",
       "      <td>11.000000</td>\n",
<<<<<<< HEAD
       "      <td>2575.000000</td>\n",
       "      <td>37.000000</td>\n",
       "      <td>0.000000</td>\n",
       "      <td>0.000000</td>\n",
       "      <td>0.000000</td>\n",
       "      <td>...</td>\n",
       "      <td>0.469628</td>\n",
       "      <td>0.817714</td>\n",
       "      <td>0.702465</td>\n",
       "      <td>0.820549</td>\n",
       "      <td>0.705156</td>\n",
       "      <td>0.750169</td>\n",
       "      <td>1.278280e-02</td>\n",
       "      <td>0.033391</td>\n",
       "      <td>0.009991</td>\n",
       "      <td>2016.0</td>\n",
=======
       "      <td>2561.000000</td>\n",
       "      <td>37.000000</td>\n",
       "      <td>0.000000</td>\n",
       "      <td>1.00000</td>\n",
       "      <td>1.000000</td>\n",
       "      <td>...</td>\n",
       "      <td>0.589180</td>\n",
       "      <td>1.389900</td>\n",
       "      <td>0.470994</td>\n",
       "      <td>0.822840</td>\n",
       "      <td>0.701490</td>\n",
       "      <td>0.824286</td>\n",
       "      <td>0.703235</td>\n",
       "      <td>0.012687</td>\n",
       "      <td>0.034338</td>\n",
       "      <td>0.009913</td>\n",
>>>>>>> 125518d54b4c7f37fd1c8b4fde032a96caf23bae
       "    </tr>\n",
       "    <tr>\n",
       "      <th>max</th>\n",
       "      <td>2.017010e+09</td>\n",
       "      <td>30.000000</td>\n",
       "      <td>5.000000</td>\n",
       "      <td>4.000000</td>\n",
       "      <td>15.000000</td>\n",
       "      <td>3600.000000</td>\n",
       "      <td>908.000000</td>\n",
       "      <td>1.000000</td>\n",
<<<<<<< HEAD
       "      <td>1.000000</td>\n",
       "      <td>1.000000</td>\n",
       "      <td>...</td>\n",
=======
       "      <td>1.00000</td>\n",
       "      <td>1.000000</td>\n",
       "      <td>...</td>\n",
       "      <td>8.051846</td>\n",
       "      <td>5.656051</td>\n",
>>>>>>> 125518d54b4c7f37fd1c8b4fde032a96caf23bae
       "      <td>8.079540</td>\n",
       "      <td>1.000000</td>\n",
       "      <td>1.000000</td>\n",
       "      <td>1.000000</td>\n",
       "      <td>1.000000</td>\n",
<<<<<<< HEAD
       "      <td>1.000000</td>\n",
       "      <td>9.739204e-01</td>\n",
       "      <td>0.898214</td>\n",
       "      <td>0.932194</td>\n",
       "      <td>2016.0</td>\n",
       "    </tr>\n",
       "  </tbody>\n",
       "</table>\n",
       "<p>8 rows × 13035 columns</p>\n",
       "</div>"
      ],
      "text/plain": [
       "             GameID         Drive           qtr         down     TimeUnder  \\\n",
       "count  1.000000e+04  10000.000000  10000.000000  8448.000000  10000.000000   \n",
       "mean   2.016372e+09     12.444900      2.584500     1.991951      7.322400   \n",
       "std    3.996451e+05      7.075561      1.131542     1.006399      4.685216   \n",
       "min    2.016121e+09      1.000000      1.000000     1.000000      0.000000   \n",
       "25%    2.016122e+09      6.000000      2.000000     1.000000      3.000000   \n",
       "50%    2.016122e+09     12.000000      3.000000     2.000000      7.000000   \n",
       "75%    2.017010e+09     18.000000      4.000000     3.000000     11.000000   \n",
       "max    2.017010e+09     30.000000      5.000000     4.000000     15.000000   \n",
       "\n",
       "          TimeSecs  PlayTimeDiff  SideofField_1  SideofField_2  SideofField_3  \\\n",
       "count  9992.000000   9984.000000   10000.000000   10000.000000   10000.000000   \n",
       "mean   1686.264011     20.739283       0.035000       0.030100       0.008600   \n",
       "std    1064.437980     20.795996       0.183789       0.170871       0.092341   \n",
       "min    -849.000000      0.000000       0.000000       0.000000       0.000000   \n",
       "25%     772.000000      5.000000       0.000000       0.000000       0.000000   \n",
       "50%    1800.000000     18.000000       0.000000       0.000000       0.000000   \n",
       "75%    2575.000000     37.000000       0.000000       0.000000       0.000000   \n",
       "max    3600.000000    908.000000       1.000000       1.000000       1.000000   \n",
       "\n",
       "       ...       yacEPA  Home_WP_pre  Away_WP_pre  Home_WP_post  Away_WP_post  \\\n",
       "count  ...  3929.000000  9357.000000  9357.000000   9309.000000   9309.000000   \n",
       "mean   ...    -0.400785     0.547408     0.453126      0.547667      0.452708   \n",
       "std    ...     2.008014     0.300660     0.300744      0.302591      0.302650   \n",
       "min    ...   -12.156367     0.000000     0.000000      0.000000      0.000000   \n",
       "25%    ...    -0.950799     0.298087     0.183309      0.295898      0.179571   \n",
       "50%    ...     0.000000     0.565156     0.435096      0.568334      0.431754   \n",
       "75%    ...     0.469628     0.817714     0.702465      0.820549      0.705156   \n",
       "max    ...     8.079540     1.000000     1.000000      1.000000      1.000000   \n",
       "\n",
       "           Win_Prob           WPA       airWPA       yacWPA   Season  \n",
       "count  10000.000000  9.845000e+03  3930.000000  3923.000000  10000.0  \n",
       "mean       0.470946  1.673133e-03     0.014596    -0.009764   2016.0  \n",
       "std        0.319106  4.684680e-02     0.056720     0.065689      0.0  \n",
       "min        0.000000 -9.719480e-01    -0.943119    -0.939447   2016.0  \n",
       "25%        0.172491 -1.375776e-02    -0.009758    -0.017638   2016.0  \n",
       "50%        0.486653 -7.985673e-07     0.004151     0.000000   2016.0  \n",
       "75%        0.750169  1.278280e-02     0.033391     0.009991   2016.0  \n",
       "max        1.000000  9.739204e-01     0.898214     0.932194   2016.0  \n",
       "\n",
       "[8 rows x 13035 columns]"
      ]
     },
     "execution_count": 19,
=======
       "      <td>0.973920</td>\n",
       "      <td>0.898214</td>\n",
       "      <td>0.932194</td>\n",
       "    </tr>\n",
       "  </tbody>\n",
       "</table>\n",
       "<p>8 rows × 236 columns</p>\n",
       "</div>"
      ],
      "text/plain": [
       "             GameID        Drive          qtr         down    TimeUnder  \\\n",
       "count  7.000000e+03  7000.000000  7000.000000  5889.000000  7000.000000   \n",
       "mean   2.016369e+09    12.482429     2.591571     2.000170     7.292857   \n",
       "std    3.982083e+05     7.040509     1.130018     1.013747     4.669467   \n",
       "min    2.016121e+09     1.000000     1.000000     1.000000     0.000000   \n",
       "25%    2.016122e+09     7.000000     2.000000     1.000000     3.000000   \n",
       "50%    2.016122e+09    12.000000     3.000000     2.000000     7.000000   \n",
       "75%    2.017010e+09    18.000000     4.000000     3.000000    11.000000   \n",
       "max    2.017010e+09    30.000000     5.000000     4.000000    15.000000   \n",
       "\n",
       "          TimeSecs  PlayTimeDiff  SideofField_0  SideofField_1  SideofField_2  \\\n",
       "count  6994.000000   6988.000000    7000.000000     7000.00000    7000.000000   \n",
       "mean   1677.711038     20.486119       0.069286        0.46200       0.499714   \n",
       "std    1062.479326     22.275162       0.253958        0.49859       0.500036   \n",
       "min    -849.000000      0.000000       0.000000        0.00000       0.000000   \n",
       "25%     761.250000      5.000000       0.000000        0.00000       0.000000   \n",
       "50%    1798.000000     16.000000       0.000000        0.00000       0.000000   \n",
       "75%    2561.000000     37.000000       0.000000        1.00000       1.000000   \n",
       "max    3600.000000    908.000000       1.000000        1.00000       1.000000   \n",
       "\n",
       "       ...          EPA       airEPA       yacEPA  Home_WP_pre  Away_WP_pre  \\\n",
       "count  ...  6992.000000  2680.000000  2677.000000  6553.000000  6553.000000   \n",
       "mean   ...     0.032551     0.566723    -0.417601     0.548009     0.452601   \n",
       "std    ...     1.296633     1.391585     1.992330     0.301498     0.301595   \n",
       "min    ...    -9.630645    -3.501091    -9.856938     0.000000     0.000000   \n",
       "25%    ...    -0.588861    -0.454539    -0.987866     0.298871     0.177296   \n",
       "50%    ...     0.000000     0.375941     0.000000     0.562473     0.438158   \n",
       "75%    ...     0.589180     1.389900     0.470994     0.822840     0.701490   \n",
       "max    ...     8.051846     5.656051     8.079540     1.000000     1.000000   \n",
       "\n",
       "       Home_WP_post  Away_WP_post          WPA       airWPA       yacWPA  \n",
       "count   6521.000000   6521.000000  6888.000000  2679.000000  2671.000000  \n",
       "mean       0.548463      0.451917     0.002121     0.014567    -0.009549  \n",
       "std        0.303864      0.303924     0.047699     0.059294     0.066416  \n",
       "min        0.000000      0.000000    -0.971948    -0.943119    -0.939447  \n",
       "25%        0.297023      0.175795    -0.013600    -0.009008    -0.017885  \n",
       "50%        0.568334      0.431795     0.000000     0.004666     0.000000  \n",
       "75%        0.824286      0.703235     0.012687     0.034338     0.009913  \n",
       "max        1.000000      1.000000     0.973920     0.898214     0.932194  \n",
       "\n",
       "[8 rows x 236 columns]"
      ]
     },
     "execution_count": 213,
>>>>>>> 125518d54b4c7f37fd1c8b4fde032a96caf23bae
     "metadata": {},
     "output_type": "execute_result"
    }
   ],
   "source": [
    "from category_encoders import BinaryEncoder\n",
    "\n",
    "''' maybe encode similar columns differently ie PasserID, RusherID, Receiver_ID can be \n",
<<<<<<< HEAD
    "    converted directly to int desc can be removed '''\n",
=======
    "    converted directly to int  desc can be removed '''\n",
>>>>>>> 125518d54b4c7f37fd1c8b4fde032a96caf23bae
    "# BinaryEncoder gives similar results to One-Hot encoder good when data is not so complex\n",
    "\n",
    "cat_feats = x_train.select_dtypes(include=['object']).columns.tolist()\n",
    "print(cat_feats)\n",
<<<<<<< HEAD
    "encoder = BinaryEncoder(cols=cat_feats, handle_unknown='ignore')\n",
    "encoder.fit(x_train)\n",
    "x_train = encoder.transform(x_train)\n",
    "x_test = encoder.transform(x_test)\n",
=======
    "encoded_data = BinaryEncoder(cols=cat_feats, handle_unknown='ignore').fit_transform(x_train)\n",
>>>>>>> 125518d54b4c7f37fd1c8b4fde032a96caf23bae
    "encoded_data.describe()"
   ]
  },
  {
   "cell_type": "markdown",
   "metadata": {},
   "source": [
    "9. Impute missing values"
   ]
  },
  {
   "cell_type": "code",
<<<<<<< HEAD
   "execution_count": 20,
=======
   "execution_count": 214,
>>>>>>> 125518d54b4c7f37fd1c8b4fde032a96caf23bae
   "metadata": {},
   "outputs": [],
   "source": [
    "from sklearn.impute import SimpleImputer\n",
    "\n",
<<<<<<< HEAD
    "imputer  = SimpleImputer().fit(x_train)\n",
    "x_train = imputer.transform(x_train)\n",
    "x_test = imputer.transform(x_test)"
=======
    "imputed_data = SimpleImputer().fit_transform(encoded_data)"
>>>>>>> 125518d54b4c7f37fd1c8b4fde032a96caf23bae
   ]
  }
 ],
 "metadata": {
  "kernelspec": {
<<<<<<< HEAD
   "display_name": "Python 3",
=======
   "display_name": "Python 3 (ipykernel)",
>>>>>>> 125518d54b4c7f37fd1c8b4fde032a96caf23bae
   "language": "python",
   "name": "python3"
  },
  "language_info": {
   "codemirror_mode": {
    "name": "ipython",
    "version": 3
   },
   "file_extension": ".py",
   "mimetype": "text/x-python",
   "name": "python",
   "nbconvert_exporter": "python",
   "pygments_lexer": "ipython3",
   "version": "3.12.1"
  }
 },
 "nbformat": 4,
 "nbformat_minor": 4
}
