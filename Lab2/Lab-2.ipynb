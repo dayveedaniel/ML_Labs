{
 "cells": [
  {
   "cell_type": "markdown",
   "id": "encouraging-navigator",
   "metadata": {
    "pycharm": {
     "name": "#%% md\n"
    }
   },
   "source": [
    "## Week 2 : Linear Regression\n",
    "```\n",
    "- Machine Learning, Innopolis University (Fall semester 2024)\n",
    "- Instructors: Adil Khan & Gcinizwe Dlamini\n",
    "```\n",
    "<hr>\n",
    "\n",
    "\n",
    "```\n",
    "Lab Plan\n",
    "1. Linear Regression\n",
    "2. Multiple Linear Regression\n",
    "3. Polynomial Regression\n",
    "3.1 Overfitting & underfitting\n",
    "```\n",
    "\n",
    "<hr>"
   ]
  },
  {
   "cell_type": "markdown",
   "id": "narrow-tomato",
   "metadata": {
    "pycharm": {
     "name": "#%% md\n"
    }
   },
   "source": [
    "<img src=\"https://www.alpharithms.com/wp-content/uploads/1156/slope-intercept-vs-linear-regression-equations.jpg\"/>\n",
    "\n",
    "\n",
    "\n",
    "## Typical ML model Training Procedure\n",
    "\n",
    "1. Define the Task (Supervised or unsupervised Learning, Classification or Regression)  \n",
    "1. Import necessary libraries\n",
    "1. Load and Explore the dataset (visualization) \n",
    "1. Preprocess the Data & split to train/test  (feature selection, scaling, normalization, etc..)\n",
    "1. Build, Train and Test Model\n",
    "1. Evaluate model using appropiate evaluation metrics (MSE, $R^2$, accuracy, f-score, precision, recall, etc.. )"
   ]
  },
  {
   "cell_type": "markdown",
   "id": "charged-victim",
   "metadata": {
    "pycharm": {
     "name": "#%% md\n"
    }
   },
   "source": [
    "## 1. Linear Regression\n",
    "\n",
    "In this regression task we will predict the percentage of marks that a student is expected to score based upon the number of hours they studied.\n",
    "<br>\n",
    "<br>\n",
    "<center><b>Simple Linear Regression</b></center>\n",
    "$$y = \\beta_0 + \\beta_1x_1 $$"
   ]
  },
  {
   "cell_type": "markdown",
   "id": "collectible-conclusion",
   "metadata": {
    "pycharm": {
     "name": "#%% md\n"
    }
   },
   "source": [
    "### 1.2 Import necessary libraries"
   ]
  },
  {
   "cell_type": "code",
<<<<<<< HEAD
   "execution_count": 1,
   "id": "f4592863",
   "metadata": {},
   "outputs": [
    {
     "data": {
      "text/html": [
       "<style>.container { width:100% !important; }</style>"
      ],
      "text/plain": [
       "<IPython.core.display.HTML object>"
      ]
     },
     "metadata": {},
     "output_type": "display_data"
    }
   ],
=======
   "execution_count": null,
   "id": "f4592863",
   "metadata": {},
   "outputs": [],
>>>>>>> 125518d54b4c7f37fd1c8b4fde032a96caf23bae
   "source": [
    "from IPython.display import display, HTML\n",
    "display(HTML(\"<style>.container { width:100% !important; }</style>\"))"
   ]
  },
  {
   "cell_type": "code",
<<<<<<< HEAD
   "execution_count": 2,
=======
   "execution_count": null,
>>>>>>> 125518d54b4c7f37fd1c8b4fde032a96caf23bae
   "id": "bored-afghanistan",
   "metadata": {
    "pycharm": {
     "name": "#%%\n"
    }
   },
   "outputs": [],
   "source": [
    "import pandas as pd \n",
    "import numpy as np\n",
    "import matplotlib.pyplot as plt\n",
    "%matplotlib inline\n",
    "\n",
    "from sklearn.model_selection import train_test_split\n",
    "from sklearn.linear_model import LinearRegression\n",
    "from sklearn import metrics"
   ]
  },
  {
   "cell_type": "markdown",
   "id": "afraid-participant",
   "metadata": {
    "pycharm": {
     "name": "#%% md\n"
    }
   },
   "source": [
    "### 1.3 Load from database and Explore the dataset"
   ]
  },
  {
   "cell_type": "code",
<<<<<<< HEAD
   "execution_count": 3,
=======
   "execution_count": null,
>>>>>>> 125518d54b4c7f37fd1c8b4fde032a96caf23bae
   "id": "unexpected-hormone",
   "metadata": {
    "pycharm": {
     "name": "#%%\n"
    }
   },
<<<<<<< HEAD
   "outputs": [
    {
     "data": {
      "text/html": [
       "<div>\n",
       "<style scoped>\n",
       "    .dataframe tbody tr th:only-of-type {\n",
       "        vertical-align: middle;\n",
       "    }\n",
       "\n",
       "    .dataframe tbody tr th {\n",
       "        vertical-align: top;\n",
       "    }\n",
       "\n",
       "    .dataframe thead th {\n",
       "        text-align: right;\n",
       "    }\n",
       "</style>\n",
       "<table border=\"1\" class=\"dataframe\">\n",
       "  <thead>\n",
       "    <tr style=\"text-align: right;\">\n",
       "      <th></th>\n",
       "      <th>Hours</th>\n",
       "      <th>Scores</th>\n",
       "    </tr>\n",
       "  </thead>\n",
       "  <tbody>\n",
       "    <tr>\n",
       "      <th>0</th>\n",
       "      <td>2.5</td>\n",
       "      <td>21</td>\n",
       "    </tr>\n",
       "    <tr>\n",
       "      <th>1</th>\n",
       "      <td>5.1</td>\n",
       "      <td>47</td>\n",
       "    </tr>\n",
       "    <tr>\n",
       "      <th>2</th>\n",
       "      <td>3.2</td>\n",
       "      <td>27</td>\n",
       "    </tr>\n",
       "    <tr>\n",
       "      <th>3</th>\n",
       "      <td>8.5</td>\n",
       "      <td>75</td>\n",
       "    </tr>\n",
       "    <tr>\n",
       "      <th>4</th>\n",
       "      <td>3.5</td>\n",
       "      <td>30</td>\n",
       "    </tr>\n",
       "  </tbody>\n",
       "</table>\n",
       "</div>"
      ],
      "text/plain": [
       "   Hours  Scores\n",
       "0    2.5      21\n",
       "1    5.1      47\n",
       "2    3.2      27\n",
       "3    8.5      75\n",
       "4    3.5      30"
      ]
     },
     "execution_count": 3,
     "metadata": {},
     "output_type": "execute_result"
    }
   ],
=======
   "outputs": [],
>>>>>>> 125518d54b4c7f37fd1c8b4fde032a96caf23bae
   "source": [
    "from sqlalchemy import create_engine, text\n",
    "\n",
    "session_engine = create_engine('sqlite:///ml-regression.db')\n",
    "\n",
    "with session_engine.connect() as conn: \n",
    "    student_scores_df = pd.read_sql_query(text('SELECT * FROM student_scores'), conn) \n",
    "\n",
    "student_scores_df.drop(columns=['index'], inplace=True)\n",
    "student_scores_df.head()"
   ]
  },
  {
   "cell_type": "markdown",
   "id": "republican-globe",
   "metadata": {
    "pycharm": {
     "name": "#%% md\n"
    }
   },
   "source": [
    "### 1.3.1 Data profile and Statistics \n",
    "\n",
    "<span style=\"color:red\">Task : Get data profile and save it as `.html`</span>"
   ]
  },
  {
   "cell_type": "code",
<<<<<<< HEAD
   "execution_count": 4,
=======
   "execution_count": null,
>>>>>>> 125518d54b4c7f37fd1c8b4fde032a96caf23bae
   "id": "analyzed-transcript",
   "metadata": {
    "pycharm": {
     "name": "#%%\n"
    }
   },
<<<<<<< HEAD
   "outputs": [
    {
     "name": "stderr",
     "output_type": "stream",
     "text": [
      "/Library/Frameworks/Python.framework/Versions/3.12/lib/python3.12/site-packages/tqdm/auto.py:21: TqdmWarning: IProgress not found. Please update jupyter and ipywidgets. See https://ipywidgets.readthedocs.io/en/stable/user_install.html\n",
      "  from .autonotebook import tqdm as notebook_tqdm\n"
     ]
    },
    {
     "data": {
      "text/html": [
       "<div>\n",
       "<style scoped>\n",
       "    .dataframe tbody tr th:only-of-type {\n",
       "        vertical-align: middle;\n",
       "    }\n",
       "\n",
       "    .dataframe tbody tr th {\n",
       "        vertical-align: top;\n",
       "    }\n",
       "\n",
       "    .dataframe thead th {\n",
       "        text-align: right;\n",
       "    }\n",
       "</style>\n",
       "<table border=\"1\" class=\"dataframe\">\n",
       "  <thead>\n",
       "    <tr style=\"text-align: right;\">\n",
       "      <th></th>\n",
       "      <th>Hours</th>\n",
       "      <th>Scores</th>\n",
       "    </tr>\n",
       "  </thead>\n",
       "  <tbody>\n",
       "    <tr>\n",
       "      <th>count</th>\n",
       "      <td>25.000000</td>\n",
       "      <td>25.000000</td>\n",
       "    </tr>\n",
       "    <tr>\n",
       "      <th>mean</th>\n",
       "      <td>5.012000</td>\n",
       "      <td>51.480000</td>\n",
       "    </tr>\n",
       "    <tr>\n",
       "      <th>std</th>\n",
       "      <td>2.525094</td>\n",
       "      <td>25.286887</td>\n",
       "    </tr>\n",
       "    <tr>\n",
       "      <th>min</th>\n",
       "      <td>1.100000</td>\n",
       "      <td>17.000000</td>\n",
       "    </tr>\n",
       "    <tr>\n",
       "      <th>25%</th>\n",
       "      <td>2.700000</td>\n",
       "      <td>30.000000</td>\n",
       "    </tr>\n",
       "    <tr>\n",
       "      <th>50%</th>\n",
       "      <td>4.800000</td>\n",
       "      <td>47.000000</td>\n",
       "    </tr>\n",
       "    <tr>\n",
       "      <th>75%</th>\n",
       "      <td>7.400000</td>\n",
       "      <td>75.000000</td>\n",
       "    </tr>\n",
       "    <tr>\n",
       "      <th>max</th>\n",
       "      <td>9.200000</td>\n",
       "      <td>95.000000</td>\n",
       "    </tr>\n",
       "  </tbody>\n",
       "</table>\n",
       "</div>"
      ],
      "text/plain": [
       "           Hours     Scores\n",
       "count  25.000000  25.000000\n",
       "mean    5.012000  51.480000\n",
       "std     2.525094  25.286887\n",
       "min     1.100000  17.000000\n",
       "25%     2.700000  30.000000\n",
       "50%     4.800000  47.000000\n",
       "75%     7.400000  75.000000\n",
       "max     9.200000  95.000000"
      ]
     },
     "execution_count": 4,
     "metadata": {},
     "output_type": "execute_result"
    }
   ],
=======
   "outputs": [],
>>>>>>> 125518d54b4c7f37fd1c8b4fde032a96caf23bae
   "source": [
    "from ydata_profiling import ProfileReport\n",
    "\n",
    "# TODO: Task\n",
    "student_scores_df.describe()"
   ]
  },
  {
   "cell_type": "markdown",
   "id": "portuguese-favor",
   "metadata": {
    "pycharm": {
     "name": "#%% md\n"
    }
   },
   "source": [
    "### 1.3.1 Visualization\n",
    "\n",
    "Plot the data points on 2-D graph to eyeball our dataset and see if we can manually find any relationship between the data points. Usually Matplotlib is used but some other libraries exist i.e [Plotly](https://github.com/plotly/plotly.py), [Seaborn](https://seaborn.pydata.org/),[Geoplotlib](https://github.com/andrea-cuttone/geoplotlib/wiki/User-Guide), [Gleam](https://github.com/dgrtwo/gleam), [ggplot](https://github.com/tidyverse/ggplot2)\n",
    "\n",
    "**Remember :** Plot should have a title, axis labels, and legend for easy interpretation"
   ]
  },
  {
   "cell_type": "code",
<<<<<<< HEAD
   "execution_count": 5,
=======
   "execution_count": null,
>>>>>>> 125518d54b4c7f37fd1c8b4fde032a96caf23bae
   "id": "undefined-belfast",
   "metadata": {
    "pycharm": {
     "name": "#%%\n"
    }
   },
<<<<<<< HEAD
   "outputs": [
    {
     "data": {
      "image/png": "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",
      "text/plain": [
       "<Figure size 640x480 with 1 Axes>"
      ]
     },
     "metadata": {},
     "output_type": "display_data"
    }
   ],
=======
   "outputs": [],
>>>>>>> 125518d54b4c7f37fd1c8b4fde032a96caf23bae
   "source": [
    "student_scores_df.plot(x='Hours', y='Scores', style='o')\n",
    "plt.title('Hours vs Percentage')\n",
    "plt.xlabel('Hours Studied')\n",
    "plt.ylabel('Percentage Score')\n",
    "plt.show()"
   ]
  },
  {
   "cell_type": "markdown",
   "id": "focused-island",
   "metadata": {
    "pycharm": {
     "name": "#%% md\n"
    }
   },
   "source": [
    "### 1.4 Preprocess the Data & split to train set and test set\n",
    "\n",
    "<span style=\"color:red\">Task : split the data into train (80%) and test (20%)</span>"
   ]
  },
  {
   "cell_type": "code",
<<<<<<< HEAD
   "execution_count": 6,
=======
   "execution_count": null,
>>>>>>> 125518d54b4c7f37fd1c8b4fde032a96caf23bae
   "id": "plastic-bronze",
   "metadata": {
    "pycharm": {
     "name": "#%%\n"
    }
   },
   "outputs": [],
   "source": [
    "X = student_scores_df.iloc[:, :-1].values\n",
<<<<<<< HEAD
    "y = student_scores_df.iloc[:,1].values\n",
    "\n",
    "X_train, X_test, y_train, y_test = train_test_split(X,y,test_size=.2)"
=======
    "y = student_scores_df.iloc[:, 1].values\n",
    "\n",
    "X_train, X_test, y_train, y_test = None"
>>>>>>> 125518d54b4c7f37fd1c8b4fde032a96caf23bae
   ]
  },
  {
   "cell_type": "markdown",
   "id": "sitting-territory",
   "metadata": {
    "pycharm": {
     "name": "#%% md\n"
    }
   },
   "source": [
    "### 1.5 Build, Train and Test ModelLinear Regression Model"
   ]
  },
  {
   "cell_type": "code",
<<<<<<< HEAD
   "execution_count": 7,
=======
   "execution_count": null,
>>>>>>> 125518d54b4c7f37fd1c8b4fde032a96caf23bae
   "id": "accepting-likelihood",
   "metadata": {
    "pycharm": {
     "name": "#%%\n"
    }
   },
<<<<<<< HEAD
   "outputs": [
    {
     "name": "stdout",
     "output_type": "stream",
     "text": [
      "Model intercept : 1.0155962170488806\n",
      "Model coefficient : [10.03894483]\n"
     ]
    }
   ],
=======
   "outputs": [],
>>>>>>> 125518d54b4c7f37fd1c8b4fde032a96caf23bae
   "source": [
    "regressor = LinearRegression()\n",
    "regressor.fit(X_train, y_train)\n",
    "print(f\"Model intercept : {regressor.intercept_}\")\n",
    "print(f\"Model coefficient : {regressor.coef_}\")\n",
    "\n",
    "y_pred = regressor.predict(X_test)\n",
    "eval_df = pd.DataFrame({'Actual': y_test, 'Predicted': y_pred})"
   ]
  },
  {
   "cell_type": "code",
<<<<<<< HEAD
   "execution_count": 8,
=======
   "execution_count": null,
>>>>>>> 125518d54b4c7f37fd1c8b4fde032a96caf23bae
   "id": "spatial-underwear",
   "metadata": {
    "pycharm": {
     "name": "#%%\n"
    }
   },
<<<<<<< HEAD
   "outputs": [
    {
     "data": {
      "text/html": [
       "<div>\n",
       "<style scoped>\n",
       "    .dataframe tbody tr th:only-of-type {\n",
       "        vertical-align: middle;\n",
       "    }\n",
       "\n",
       "    .dataframe tbody tr th {\n",
       "        vertical-align: top;\n",
       "    }\n",
       "\n",
       "    .dataframe thead th {\n",
       "        text-align: right;\n",
       "    }\n",
       "</style>\n",
       "<table border=\"1\" class=\"dataframe\">\n",
       "  <thead>\n",
       "    <tr style=\"text-align: right;\">\n",
       "      <th></th>\n",
       "      <th>Actual</th>\n",
       "      <th>Predicted</th>\n",
       "    </tr>\n",
       "  </thead>\n",
       "  <tbody>\n",
       "    <tr>\n",
       "      <th>0</th>\n",
       "      <td>67</td>\n",
       "      <td>62.253160</td>\n",
       "    </tr>\n",
       "    <tr>\n",
       "      <th>1</th>\n",
       "      <td>60</td>\n",
       "      <td>56.229793</td>\n",
       "    </tr>\n",
       "    <tr>\n",
       "      <th>2</th>\n",
       "      <td>88</td>\n",
       "      <td>93.373889</td>\n",
       "    </tr>\n",
       "    <tr>\n",
       "      <th>3</th>\n",
       "      <td>20</td>\n",
       "      <td>16.074013</td>\n",
       "    </tr>\n",
       "    <tr>\n",
       "      <th>4</th>\n",
       "      <td>81</td>\n",
       "      <td>84.338838</td>\n",
       "    </tr>\n",
       "  </tbody>\n",
       "</table>\n",
       "</div>"
      ],
      "text/plain": [
       "   Actual  Predicted\n",
       "0      67  62.253160\n",
       "1      60  56.229793\n",
       "2      88  93.373889\n",
       "3      20  16.074013\n",
       "4      81  84.338838"
      ]
     },
     "execution_count": 8,
     "metadata": {},
     "output_type": "execute_result"
    }
   ],
=======
   "outputs": [],
>>>>>>> 125518d54b4c7f37fd1c8b4fde032a96caf23bae
   "source": [
    "eval_df"
   ]
  },
  {
   "cell_type": "markdown",
   "id": "driven-comparison",
   "metadata": {
    "pycharm": {
     "name": "#%% md\n"
    }
   },
   "source": [
    "### 1.5 Evaluate model using appropiate evaluation metrics"
   ]
  },
  {
   "cell_type": "code",
<<<<<<< HEAD
   "execution_count": 9,
=======
   "execution_count": null,
>>>>>>> 125518d54b4c7f37fd1c8b4fde032a96caf23bae
   "id": "behind-florida",
   "metadata": {
    "pycharm": {
     "name": "#%%\n"
    }
   },
<<<<<<< HEAD
   "outputs": [
    {
     "name": "stdout",
     "output_type": "stream",
     "text": [
      "Mean Absolute Error: 4.231152209387899\n",
      "Mean Squared Error: 18.437369278486443\n",
      "Root Mean Squared Error: 4.293875787500896\n"
     ]
    }
   ],
=======
   "outputs": [],
>>>>>>> 125518d54b4c7f37fd1c8b4fde032a96caf23bae
   "source": [
    "print('Mean Absolute Error:', metrics.mean_absolute_error(y_test, y_pred))\n",
    "print('Mean Squared Error:', metrics.mean_squared_error(y_test, y_pred))\n",
    "print('Root Mean Squared Error:', np.sqrt(metrics.mean_squared_error(y_test, y_pred)))"
   ]
  },
  {
   "cell_type": "markdown",
   "id": "legal-bhutan",
   "metadata": {
    "pycharm": {
     "name": "#%% md\n"
    }
   },
   "source": [
    "## 2. Multiple Linear Regression\n",
    "\n",
    "Linear regression involving multiple variables is called \"multiple linear regression\"\n",
    "We will use multiple linear regression to predict the gas consumptions (in millions of gallons) in 48 US states based upon gas taxes (in cents), per capita income (dollars), paved highways (in miles) and the proportion of population that has a drivers license.\n",
    "We seek a model of the form:\n",
    "\n",
    "$$\\hat{y} = \\beta_0 + \\beta_1 x_1 + \\beta_2 x_2 + ... + \\beta_n x_n.$$"
   ]
  },
  {
   "cell_type": "markdown",
   "id": "dominican-belly",
   "metadata": {
    "pycharm": {
     "name": "#%% md\n"
    }
   },
   "source": [
    "### 2.3  Load and Explore the dataset"
   ]
  },
  {
   "cell_type": "code",
<<<<<<< HEAD
   "execution_count": 10,
=======
   "execution_count": null,
>>>>>>> 125518d54b4c7f37fd1c8b4fde032a96caf23bae
   "id": "consolidated-navigation",
   "metadata": {
    "pycharm": {
     "name": "#%%\n"
    }
   },
<<<<<<< HEAD
   "outputs": [
    {
     "data": {
      "text/html": [
       "<div>\n",
       "<style scoped>\n",
       "    .dataframe tbody tr th:only-of-type {\n",
       "        vertical-align: middle;\n",
       "    }\n",
       "\n",
       "    .dataframe tbody tr th {\n",
       "        vertical-align: top;\n",
       "    }\n",
       "\n",
       "    .dataframe thead th {\n",
       "        text-align: right;\n",
       "    }\n",
       "</style>\n",
       "<table border=\"1\" class=\"dataframe\">\n",
       "  <thead>\n",
       "    <tr style=\"text-align: right;\">\n",
       "      <th></th>\n",
       "      <th>Petrol_tax</th>\n",
       "      <th>Average_income</th>\n",
       "      <th>Paved_Highways</th>\n",
       "      <th>Population_Driver_licence(%)</th>\n",
       "      <th>Petrol_Consumption</th>\n",
       "    </tr>\n",
       "  </thead>\n",
       "  <tbody>\n",
       "    <tr>\n",
       "      <th>0</th>\n",
       "      <td>9.0</td>\n",
       "      <td>3571</td>\n",
       "      <td>1976</td>\n",
       "      <td>0.525</td>\n",
       "      <td>541</td>\n",
       "    </tr>\n",
       "    <tr>\n",
       "      <th>1</th>\n",
       "      <td>9.0</td>\n",
       "      <td>4092</td>\n",
       "      <td>1250</td>\n",
       "      <td>0.572</td>\n",
       "      <td>524</td>\n",
       "    </tr>\n",
       "    <tr>\n",
       "      <th>2</th>\n",
       "      <td>9.0</td>\n",
       "      <td>3865</td>\n",
       "      <td>1586</td>\n",
       "      <td>0.580</td>\n",
       "      <td>561</td>\n",
       "    </tr>\n",
       "    <tr>\n",
       "      <th>3</th>\n",
       "      <td>7.5</td>\n",
       "      <td>4870</td>\n",
       "      <td>2351</td>\n",
       "      <td>0.529</td>\n",
       "      <td>414</td>\n",
       "    </tr>\n",
       "    <tr>\n",
       "      <th>4</th>\n",
       "      <td>8.0</td>\n",
       "      <td>4399</td>\n",
       "      <td>431</td>\n",
       "      <td>0.544</td>\n",
       "      <td>410</td>\n",
       "    </tr>\n",
       "  </tbody>\n",
       "</table>\n",
       "</div>"
      ],
      "text/plain": [
       "   Petrol_tax  Average_income  Paved_Highways  Population_Driver_licence(%)  \\\n",
       "0         9.0            3571            1976                         0.525   \n",
       "1         9.0            4092            1250                         0.572   \n",
       "2         9.0            3865            1586                         0.580   \n",
       "3         7.5            4870            2351                         0.529   \n",
       "4         8.0            4399             431                         0.544   \n",
       "\n",
       "   Petrol_Consumption  \n",
       "0                 541  \n",
       "1                 524  \n",
       "2                 561  \n",
       "3                 414  \n",
       "4                 410  "
      ]
     },
     "execution_count": 10,
     "metadata": {},
     "output_type": "execute_result"
    }
   ],
=======
   "outputs": [],
>>>>>>> 125518d54b4c7f37fd1c8b4fde032a96caf23bae
   "source": [
    "with session_engine.connect() as conn:\n",
    "    petrol_consumption_df = pd.read_sql_query(text('SELECT * FROM petrol_consumption'), conn)\n",
    "\n",
    "petrol_consumption_df.drop('index', axis=1, inplace=True)\n",
    "petrol_consumption_df.head()"
   ]
  },
  {
   "cell_type": "code",
<<<<<<< HEAD
   "execution_count": 11,
=======
   "execution_count": null,
>>>>>>> 125518d54b4c7f37fd1c8b4fde032a96caf23bae
   "id": "moving-third",
   "metadata": {
    "pycharm": {
     "name": "#%%\n"
    },
    "scrolled": true
   },
<<<<<<< HEAD
   "outputs": [
    {
     "data": {
      "text/html": [
       "<div>\n",
       "<style scoped>\n",
       "    .dataframe tbody tr th:only-of-type {\n",
       "        vertical-align: middle;\n",
       "    }\n",
       "\n",
       "    .dataframe tbody tr th {\n",
       "        vertical-align: top;\n",
       "    }\n",
       "\n",
       "    .dataframe thead th {\n",
       "        text-align: right;\n",
       "    }\n",
       "</style>\n",
       "<table border=\"1\" class=\"dataframe\">\n",
       "  <thead>\n",
       "    <tr style=\"text-align: right;\">\n",
       "      <th></th>\n",
       "      <th>count</th>\n",
       "      <th>mean</th>\n",
       "      <th>std</th>\n",
       "      <th>min</th>\n",
       "      <th>25%</th>\n",
       "      <th>50%</th>\n",
       "      <th>75%</th>\n",
       "      <th>max</th>\n",
       "    </tr>\n",
       "  </thead>\n",
       "  <tbody>\n",
       "    <tr>\n",
       "      <th>Petrol_tax</th>\n",
       "      <td>48.0</td>\n",
       "      <td>7.668333</td>\n",
       "      <td>0.950770</td>\n",
       "      <td>5.000</td>\n",
       "      <td>7.00000</td>\n",
       "      <td>7.5000</td>\n",
       "      <td>8.12500</td>\n",
       "      <td>10.000</td>\n",
       "    </tr>\n",
       "    <tr>\n",
       "      <th>Average_income</th>\n",
       "      <td>48.0</td>\n",
       "      <td>4241.833333</td>\n",
       "      <td>573.623768</td>\n",
       "      <td>3063.000</td>\n",
       "      <td>3739.00000</td>\n",
       "      <td>4298.0000</td>\n",
       "      <td>4578.75000</td>\n",
       "      <td>5342.000</td>\n",
       "    </tr>\n",
       "    <tr>\n",
       "      <th>Paved_Highways</th>\n",
       "      <td>48.0</td>\n",
       "      <td>5565.416667</td>\n",
       "      <td>3491.507166</td>\n",
       "      <td>431.000</td>\n",
       "      <td>3110.25000</td>\n",
       "      <td>4735.5000</td>\n",
       "      <td>7156.00000</td>\n",
       "      <td>17782.000</td>\n",
       "    </tr>\n",
       "    <tr>\n",
       "      <th>Population_Driver_licence(%)</th>\n",
       "      <td>48.0</td>\n",
       "      <td>0.570333</td>\n",
       "      <td>0.055470</td>\n",
       "      <td>0.451</td>\n",
       "      <td>0.52975</td>\n",
       "      <td>0.5645</td>\n",
       "      <td>0.59525</td>\n",
       "      <td>0.724</td>\n",
       "    </tr>\n",
       "    <tr>\n",
       "      <th>Petrol_Consumption</th>\n",
       "      <td>48.0</td>\n",
       "      <td>576.770833</td>\n",
       "      <td>111.885816</td>\n",
       "      <td>344.000</td>\n",
       "      <td>509.50000</td>\n",
       "      <td>568.5000</td>\n",
       "      <td>632.75000</td>\n",
       "      <td>968.000</td>\n",
       "    </tr>\n",
       "  </tbody>\n",
       "</table>\n",
       "</div>"
      ],
      "text/plain": [
       "                              count         mean          std       min  \\\n",
       "Petrol_tax                     48.0     7.668333     0.950770     5.000   \n",
       "Average_income                 48.0  4241.833333   573.623768  3063.000   \n",
       "Paved_Highways                 48.0  5565.416667  3491.507166   431.000   \n",
       "Population_Driver_licence(%)   48.0     0.570333     0.055470     0.451   \n",
       "Petrol_Consumption             48.0   576.770833   111.885816   344.000   \n",
       "\n",
       "                                     25%        50%         75%        max  \n",
       "Petrol_tax                       7.00000     7.5000     8.12500     10.000  \n",
       "Average_income                3739.00000  4298.0000  4578.75000   5342.000  \n",
       "Paved_Highways                3110.25000  4735.5000  7156.00000  17782.000  \n",
       "Population_Driver_licence(%)     0.52975     0.5645     0.59525      0.724  \n",
       "Petrol_Consumption             509.50000   568.5000   632.75000    968.000  "
      ]
     },
     "execution_count": 11,
     "metadata": {},
     "output_type": "execute_result"
    }
   ],
=======
   "outputs": [],
>>>>>>> 125518d54b4c7f37fd1c8b4fde032a96caf23bae
   "source": [
    "petrol_consumption_df.describe().T"
   ]
  },
  {
   "cell_type": "markdown",
   "id": "representative-command",
   "metadata": {
    "pycharm": {
     "name": "#%% md\n"
    }
   },
   "source": [
    "### 2.4 Preprocess the Data & split to train set and test set"
   ]
  },
  {
   "cell_type": "code",
<<<<<<< HEAD
   "execution_count": 12,
=======
   "execution_count": null,
>>>>>>> 125518d54b4c7f37fd1c8b4fde032a96caf23bae
   "id": "noble-bones",
   "metadata": {
    "pycharm": {
     "name": "#%%\n"
    }
   },
   "outputs": [],
   "source": [
    "X = petrol_consumption_df.drop('Petrol_Consumption', axis=1)\n",
    "y = petrol_consumption_df['Petrol_Consumption']\n",
    "\n",
    "X_train, X_test, y_train, y_test = train_test_split(X, y, test_size=0.2, random_state=0)"
   ]
  },
  {
   "cell_type": "markdown",
   "id": "located-rebound",
   "metadata": {
    "pycharm": {
     "name": "#%% md\n"
    }
   },
   "source": [
    "### 2.5 Build, Train and Test Model Regression Model"
   ]
  },
  {
   "cell_type": "code",
<<<<<<< HEAD
   "execution_count": 13,
=======
   "execution_count": null,
>>>>>>> 125518d54b4c7f37fd1c8b4fde032a96caf23bae
   "id": "ideal-profit",
   "metadata": {
    "pycharm": {
     "name": "#%%\n"
    }
   },
<<<<<<< HEAD
   "outputs": [
    {
     "name": "stdout",
     "output_type": "stream",
     "text": [
      "Model intercept : 425.59933220324194\n",
      "Model coefficients : [-4.00166602e+01 -6.54126674e-02 -4.74073380e-03  1.34186212e+03]\n"
     ]
    }
   ],
=======
   "outputs": [],
>>>>>>> 125518d54b4c7f37fd1c8b4fde032a96caf23bae
   "source": [
    "regressor = LinearRegression()\n",
    "regressor.fit(X_train, y_train)\n",
    "print(f\"Model intercept : {regressor.intercept_}\")\n",
    "print(f\"Model coefficients : {regressor.coef_}\")"
   ]
  },
  {
   "cell_type": "markdown",
   "id": "fabulous-catch",
   "metadata": {
    "pycharm": {
     "name": "#%% md\n"
    }
   },
   "source": [
    "### 2.6 Evaluate model using appropiate evaluation metrics\n",
    "\n",
    "<span style=\"color:red\">Task 1 : Use the predict function in the model(`regressor`) to predict the output of the testset(`X_test`) and  print it. </span>\n",
    "\n",
    "<span style=\"color:red\">Task  2 : Measure the performance of the model using: <br>     </span>\n",
    "1. root mean squared error \n",
    "1. mean absolute error \n",
    "1. coefficient of determination $R^2$. See [`sklearn.metrics.r2_score`](https://scikit-learn.org/stable/modules/generated/sklearn.metrics.r2_score.html) for $R^2$."
   ]
  },
  {
   "cell_type": "code",
<<<<<<< HEAD
   "execution_count": 14,
=======
   "execution_count": null,
>>>>>>> 125518d54b4c7f37fd1c8b4fde032a96caf23bae
   "id": "municipal-cornell",
   "metadata": {
    "pycharm": {
     "name": "#%%\n"
    }
   },
<<<<<<< HEAD
   "outputs": [
    {
     "name": "stdout",
     "output_type": "stream",
     "text": [
      "Root Mean Squared Error: 68.3106491521517\n",
      "Mean Absolute Error: 56.82224747896471\n",
      "R2: 0.2036193241012172\n"
     ]
    }
   ],
   "source": [
    "# TODO: Task 1\n",
    "from sklearn.metrics import r2_score\n",
    "\n",
    "new_y_pred = regressor.predict(X_test)\n",
    "# TODO: Task 2\n",
    "print('Root Mean Squared Error:',np.sqrt(metrics.mean_squared_error(y_test, new_y_pred)))\n",
    "print('Mean Absolute Error:', metrics.mean_absolute_error(y_test, new_y_pred))\n",
    "print('R2:', r2_score(y_test, new_y_pred))\n"
=======
   "outputs": [],
   "source": [
    "# TODO: Task 1"
   ]
  },
  {
   "cell_type": "code",
   "execution_count": null,
   "id": "saving-crowd",
   "metadata": {
    "pycharm": {
     "name": "#%%\n"
    }
   },
   "outputs": [],
   "source": [
    "# TODO: Task 2"
>>>>>>> 125518d54b4c7f37fd1c8b4fde032a96caf23bae
   ]
  },
  {
   "cell_type": "markdown",
   "id": "vulnerable-population",
   "metadata": {
    "pycharm": {
     "name": "#%% md\n"
    }
   },
   "source": [
    "## 3. Polynomial Regression, Underfitting & Overfitting\n",
    "\n",
    "Polynomial Regression, is simply a transformation for the explanatory variables to higher polynomial orders with interactive variables.\n",
    "\n",
    "1. Why do we need it?\n",
    "1. Which order of the polynomial should we choose? \n",
    "2. should we always pick the most complex model? \n",
    "\n"
   ]
  },
  {
   "cell_type": "markdown",
   "id": "respected-circulation",
   "metadata": {
    "pycharm": {
     "name": "#%% md\n"
    }
   },
   "source": [
    "### 3.2 Import libraries"
   ]
  },
  {
   "cell_type": "code",
<<<<<<< HEAD
   "execution_count": 15,
=======
   "execution_count": null,
>>>>>>> 125518d54b4c7f37fd1c8b4fde032a96caf23bae
   "id": "impossible-bradley",
   "metadata": {
    "pycharm": {
     "name": "#%%\n"
    }
   },
   "outputs": [],
   "source": [
    "from sklearn.pipeline import Pipeline\n",
    "from sklearn.preprocessing import PolynomialFeatures #to convert the original features into their higher order terms \n",
    "from sklearn.linear_model import LinearRegression\n",
    "from sklearn.model_selection import cross_val_score"
   ]
  },
  {
   "cell_type": "code",
<<<<<<< HEAD
   "execution_count": 16,
   "id": "4e3b13f0",
   "metadata": {},
   "outputs": [
    {
     "name": "stdout",
     "output_type": "stream",
     "text": [
      "Help on class PolynomialFeatures in module sklearn.preprocessing._polynomial:\n",
      "\n",
      "class PolynomialFeatures(sklearn.base.TransformerMixin, sklearn.base.BaseEstimator)\n",
      " |  PolynomialFeatures(degree=2, *, interaction_only=False, include_bias=True, order='C')\n",
      " |\n",
      " |  Generate polynomial and interaction features.\n",
      " |\n",
      " |  Generate a new feature matrix consisting of all polynomial combinations\n",
      " |  of the features with degree less than or equal to the specified degree.\n",
      " |  For example, if an input sample is two dimensional and of the form\n",
      " |  [a, b], the degree-2 polynomial features are [1, a, b, a^2, ab, b^2].\n",
      " |\n",
      " |  Read more in the :ref:`User Guide <polynomial_features>`.\n",
      " |\n",
      " |  Parameters\n",
      " |  ----------\n",
      " |  degree : int or tuple (min_degree, max_degree), default=2\n",
      " |      If a single int is given, it specifies the maximal degree of the\n",
      " |      polynomial features. If a tuple `(min_degree, max_degree)` is passed,\n",
      " |      then `min_degree` is the minimum and `max_degree` is the maximum\n",
      " |      polynomial degree of the generated features. Note that `min_degree=0`\n",
      " |      and `min_degree=1` are equivalent as outputting the degree zero term is\n",
      " |      determined by `include_bias`.\n",
      " |\n",
      " |  interaction_only : bool, default=False\n",
      " |      If `True`, only interaction features are produced: features that are\n",
      " |      products of at most `degree` *distinct* input features, i.e. terms with\n",
      " |      power of 2 or higher of the same input feature are excluded:\n",
      " |\n",
      " |          - included: `x[0]`, `x[1]`, `x[0] * x[1]`, etc.\n",
      " |          - excluded: `x[0] ** 2`, `x[0] ** 2 * x[1]`, etc.\n",
      " |\n",
      " |  include_bias : bool, default=True\n",
      " |      If `True` (default), then include a bias column, the feature in which\n",
      " |      all polynomial powers are zero (i.e. a column of ones - acts as an\n",
      " |      intercept term in a linear model).\n",
      " |\n",
      " |  order : {'C', 'F'}, default='C'\n",
      " |      Order of output array in the dense case. `'F'` order is faster to\n",
      " |      compute, but may slow down subsequent estimators.\n",
      " |\n",
      " |      .. versionadded:: 0.21\n",
      " |\n",
      " |  Attributes\n",
      " |  ----------\n",
      " |  powers_ : ndarray of shape (`n_output_features_`, `n_features_in_`)\n",
      " |      `powers_[i, j]` is the exponent of the jth input in the ith output.\n",
      " |\n",
      " |  n_features_in_ : int\n",
      " |      Number of features seen during :term:`fit`.\n",
      " |\n",
      " |      .. versionadded:: 0.24\n",
      " |\n",
      " |  feature_names_in_ : ndarray of shape (`n_features_in_`,)\n",
      " |      Names of features seen during :term:`fit`. Defined only when `X`\n",
      " |      has feature names that are all strings.\n",
      " |\n",
      " |      .. versionadded:: 1.0\n",
      " |\n",
      " |  n_output_features_ : int\n",
      " |      The total number of polynomial output features. The number of output\n",
      " |      features is computed by iterating over all suitably sized combinations\n",
      " |      of input features.\n",
      " |\n",
      " |  See Also\n",
      " |  --------\n",
      " |  SplineTransformer : Transformer that generates univariate B-spline bases\n",
      " |      for features.\n",
      " |\n",
      " |  Notes\n",
      " |  -----\n",
      " |  Be aware that the number of features in the output array scales\n",
      " |  polynomially in the number of features of the input array, and\n",
      " |  exponentially in the degree. High degrees can cause overfitting.\n",
      " |\n",
      " |  See :ref:`examples/linear_model/plot_polynomial_interpolation.py\n",
      " |  <sphx_glr_auto_examples_linear_model_plot_polynomial_interpolation.py>`\n",
      " |\n",
      " |  Examples\n",
      " |  --------\n",
      " |  >>> import numpy as np\n",
      " |  >>> from sklearn.preprocessing import PolynomialFeatures\n",
      " |  >>> X = np.arange(6).reshape(3, 2)\n",
      " |  >>> X\n",
      " |  array([[0, 1],\n",
      " |         [2, 3],\n",
      " |         [4, 5]])\n",
      " |  >>> poly = PolynomialFeatures(2)\n",
      " |  >>> poly.fit_transform(X)\n",
      " |  array([[ 1.,  0.,  1.,  0.,  0.,  1.],\n",
      " |         [ 1.,  2.,  3.,  4.,  6.,  9.],\n",
      " |         [ 1.,  4.,  5., 16., 20., 25.]])\n",
      " |  >>> poly = PolynomialFeatures(interaction_only=True)\n",
      " |  >>> poly.fit_transform(X)\n",
      " |  array([[ 1.,  0.,  1.,  0.],\n",
      " |         [ 1.,  2.,  3.,  6.],\n",
      " |         [ 1.,  4.,  5., 20.]])\n",
      " |\n",
      " |  Method resolution order:\n",
      " |      PolynomialFeatures\n",
      " |      sklearn.base.TransformerMixin\n",
      " |      sklearn.utils._set_output._SetOutputMixin\n",
      " |      sklearn.base.BaseEstimator\n",
      " |      sklearn.utils._estimator_html_repr._HTMLDocumentationLinkMixin\n",
      " |      sklearn.utils._metadata_requests._MetadataRequester\n",
      " |      builtins.object\n",
      " |\n",
      " |  Methods defined here:\n",
      " |\n",
      " |  __init__(self, degree=2, *, interaction_only=False, include_bias=True, order='C')\n",
      " |      Initialize self.  See help(type(self)) for accurate signature.\n",
      " |\n",
      " |  fit(self, X, y=None)\n",
      " |      Compute number of output features.\n",
      " |\n",
      " |      Parameters\n",
      " |      ----------\n",
      " |      X : {array-like, sparse matrix} of shape (n_samples, n_features)\n",
      " |          The data.\n",
      " |\n",
      " |      y : Ignored\n",
      " |          Not used, present here for API consistency by convention.\n",
      " |\n",
      " |      Returns\n",
      " |      -------\n",
      " |      self : object\n",
      " |          Fitted transformer.\n",
      " |\n",
      " |  get_feature_names_out(self, input_features=None)\n",
      " |      Get output feature names for transformation.\n",
      " |\n",
      " |      Parameters\n",
      " |      ----------\n",
      " |      input_features : array-like of str or None, default=None\n",
      " |          Input features.\n",
      " |\n",
      " |          - If `input_features is None`, then `feature_names_in_` is\n",
      " |            used as feature names in. If `feature_names_in_` is not defined,\n",
      " |            then the following input feature names are generated:\n",
      " |            `[\"x0\", \"x1\", ..., \"x(n_features_in_ - 1)\"]`.\n",
      " |          - If `input_features` is an array-like, then `input_features` must\n",
      " |            match `feature_names_in_` if `feature_names_in_` is defined.\n",
      " |\n",
      " |      Returns\n",
      " |      -------\n",
      " |      feature_names_out : ndarray of str objects\n",
      " |          Transformed feature names.\n",
      " |\n",
      " |  transform(self, X)\n",
      " |      Transform data to polynomial features.\n",
      " |\n",
      " |      Parameters\n",
      " |      ----------\n",
      " |      X : {array-like, sparse matrix} of shape (n_samples, n_features)\n",
      " |          The data to transform, row by row.\n",
      " |\n",
      " |          Prefer CSR over CSC for sparse input (for speed), but CSC is\n",
      " |          required if the degree is 4 or higher. If the degree is less than\n",
      " |          4 and the input format is CSC, it will be converted to CSR, have\n",
      " |          its polynomial features generated, then converted back to CSC.\n",
      " |\n",
      " |          If the degree is 2 or 3, the method described in \"Leveraging\n",
      " |          Sparsity to Speed Up Polynomial Feature Expansions of CSR Matrices\n",
      " |          Using K-Simplex Numbers\" by Andrew Nystrom and John Hughes is\n",
      " |          used, which is much faster than the method used on CSC input. For\n",
      " |          this reason, a CSC input will be converted to CSR, and the output\n",
      " |          will be converted back to CSC prior to being returned, hence the\n",
      " |          preference of CSR.\n",
      " |\n",
      " |      Returns\n",
      " |      -------\n",
      " |      XP : {ndarray, sparse matrix} of shape (n_samples, NP)\n",
      " |          The matrix of features, where `NP` is the number of polynomial\n",
      " |          features generated from the combination of inputs. If a sparse\n",
      " |          matrix is provided, it will be converted into a sparse\n",
      " |          `csr_matrix`.\n",
      " |\n",
      " |  ----------------------------------------------------------------------\n",
      " |  Readonly properties defined here:\n",
      " |\n",
      " |  powers_\n",
      " |      Exponent for each of the inputs in the output.\n",
      " |\n",
      " |  ----------------------------------------------------------------------\n",
      " |  Data and other attributes defined here:\n",
      " |\n",
      " |  __annotations__ = {'_parameter_constraints': <class 'dict'>}\n",
      " |\n",
      " |  ----------------------------------------------------------------------\n",
      " |  Methods inherited from sklearn.base.TransformerMixin:\n",
      " |\n",
      " |  fit_transform(self, X, y=None, **fit_params)\n",
      " |      Fit to data, then transform it.\n",
      " |\n",
      " |      Fits transformer to `X` and `y` with optional parameters `fit_params`\n",
      " |      and returns a transformed version of `X`.\n",
      " |\n",
      " |      Parameters\n",
      " |      ----------\n",
      " |      X : array-like of shape (n_samples, n_features)\n",
      " |          Input samples.\n",
      " |\n",
      " |      y :  array-like of shape (n_samples,) or (n_samples, n_outputs),                 default=None\n",
      " |          Target values (None for unsupervised transformations).\n",
      " |\n",
      " |      **fit_params : dict\n",
      " |          Additional fit parameters.\n",
      " |\n",
      " |      Returns\n",
      " |      -------\n",
      " |      X_new : ndarray array of shape (n_samples, n_features_new)\n",
      " |          Transformed array.\n",
      " |\n",
      " |  ----------------------------------------------------------------------\n",
      " |  Methods inherited from sklearn.utils._set_output._SetOutputMixin:\n",
      " |\n",
      " |  set_output(self, *, transform=None)\n",
      " |      Set output container.\n",
      " |\n",
      " |      See :ref:`sphx_glr_auto_examples_miscellaneous_plot_set_output.py`\n",
      " |      for an example on how to use the API.\n",
      " |\n",
      " |      Parameters\n",
      " |      ----------\n",
      " |      transform : {\"default\", \"pandas\", \"polars\"}, default=None\n",
      " |          Configure output of `transform` and `fit_transform`.\n",
      " |\n",
      " |          - `\"default\"`: Default output format of a transformer\n",
      " |          - `\"pandas\"`: DataFrame output\n",
      " |          - `\"polars\"`: Polars output\n",
      " |          - `None`: Transform configuration is unchanged\n",
      " |\n",
      " |          .. versionadded:: 1.4\n",
      " |              `\"polars\"` option was added.\n",
      " |\n",
      " |      Returns\n",
      " |      -------\n",
      " |      self : estimator instance\n",
      " |          Estimator instance.\n",
      " |\n",
      " |  ----------------------------------------------------------------------\n",
      " |  Class methods inherited from sklearn.utils._set_output._SetOutputMixin:\n",
      " |\n",
      " |  __init_subclass__(auto_wrap_output_keys=('transform',), **kwargs) from builtins.type\n",
      " |      Set the ``set_{method}_request`` methods.\n",
      " |\n",
      " |      This uses PEP-487 [1]_ to set the ``set_{method}_request`` methods. It\n",
      " |      looks for the information available in the set default values which are\n",
      " |      set using ``__metadata_request__*`` class attributes, or inferred\n",
      " |      from method signatures.\n",
      " |\n",
      " |      The ``__metadata_request__*`` class attributes are used when a method\n",
      " |      does not explicitly accept a metadata through its arguments or if the\n",
      " |      developer would like to specify a request value for those metadata\n",
      " |      which are different from the default ``None``.\n",
      " |\n",
      " |      References\n",
      " |      ----------\n",
      " |      .. [1] https://www.python.org/dev/peps/pep-0487\n",
      " |\n",
      " |  ----------------------------------------------------------------------\n",
      " |  Data descriptors inherited from sklearn.utils._set_output._SetOutputMixin:\n",
      " |\n",
      " |  __dict__\n",
      " |      dictionary for instance variables\n",
      " |\n",
      " |  __weakref__\n",
      " |      list of weak references to the object\n",
      " |\n",
      " |  ----------------------------------------------------------------------\n",
      " |  Methods inherited from sklearn.base.BaseEstimator:\n",
      " |\n",
      " |  __getstate__(self)\n",
      " |      Helper for pickle.\n",
      " |\n",
      " |  __repr__(self, N_CHAR_MAX=700)\n",
      " |      Return repr(self).\n",
      " |\n",
      " |  __setstate__(self, state)\n",
      " |\n",
      " |  __sklearn_clone__(self)\n",
      " |\n",
      " |  get_params(self, deep=True)\n",
      " |      Get parameters for this estimator.\n",
      " |\n",
      " |      Parameters\n",
      " |      ----------\n",
      " |      deep : bool, default=True\n",
      " |          If True, will return the parameters for this estimator and\n",
      " |          contained subobjects that are estimators.\n",
      " |\n",
      " |      Returns\n",
      " |      -------\n",
      " |      params : dict\n",
      " |          Parameter names mapped to their values.\n",
      " |\n",
      " |  set_params(self, **params)\n",
      " |      Set the parameters of this estimator.\n",
      " |\n",
      " |      The method works on simple estimators as well as on nested objects\n",
      " |      (such as :class:`~sklearn.pipeline.Pipeline`). The latter have\n",
      " |      parameters of the form ``<component>__<parameter>`` so that it's\n",
      " |      possible to update each component of a nested object.\n",
      " |\n",
      " |      Parameters\n",
      " |      ----------\n",
      " |      **params : dict\n",
      " |          Estimator parameters.\n",
      " |\n",
      " |      Returns\n",
      " |      -------\n",
      " |      self : estimator instance\n",
      " |          Estimator instance.\n",
      " |\n",
      " |  ----------------------------------------------------------------------\n",
      " |  Methods inherited from sklearn.utils._metadata_requests._MetadataRequester:\n",
      " |\n",
      " |  get_metadata_routing(self)\n",
      " |      Get metadata routing of this object.\n",
      " |\n",
      " |      Please check :ref:`User Guide <metadata_routing>` on how the routing\n",
      " |      mechanism works.\n",
      " |\n",
      " |      Returns\n",
      " |      -------\n",
      " |      routing : MetadataRequest\n",
      " |          A :class:`~sklearn.utils.metadata_routing.MetadataRequest` encapsulating\n",
      " |          routing information.\n",
      "\n"
     ]
    }
   ],
   "source": [
    "help(PolynomialFeatures)"
=======
   "execution_count": null,
   "id": "4e3b13f0",
   "metadata": {},
   "outputs": [],
   "source": [
    "# help(PolynomialFeatures)"
>>>>>>> 125518d54b4c7f37fd1c8b4fde032a96caf23bae
   ]
  },
  {
   "cell_type": "markdown",
   "id": "brave-currency",
   "metadata": {
    "pycharm": {
     "name": "#%% md\n"
    }
   },
   "source": [
    "### 3.3 Load and Explore the dataset\n",
    "<span style=\"color:red\">Task : generate synthetic dataset by adding some random gaussian noise to a cosine function.</span>"
   ]
  },
  {
   "cell_type": "code",
<<<<<<< HEAD
   "execution_count": 17,
=======
   "execution_count": null,
>>>>>>> 125518d54b4c7f37fd1c8b4fde032a96caf23bae
   "id": "technical-barrier",
   "metadata": {
    "pycharm": {
     "name": "#%%\n"
    }
   },
<<<<<<< HEAD
   "outputs": [
    {
     "data": {
      "image/png": "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",
      "text/plain": [
       "<Figure size 640x480 with 1 Axes>"
      ]
     },
     "metadata": {},
     "output_type": "display_data"
    }
   ],
=======
   "outputs": [],
>>>>>>> 125518d54b4c7f37fd1c8b4fde032a96caf23bae
   "source": [
    "#  function\n",
    "def fn(X):\n",
    "    #Task : one line of code\n",
<<<<<<< HEAD
    "    #np.cos(1.5 * np.pi * X)\n",
    "    return  np.cos(1.5 * np.pi * X)\n",
=======
    "    return None\n",
>>>>>>> 125518d54b4c7f37fd1c8b4fde032a96caf23bae
    "\n",
    "np.random.seed(0)\n",
    "\n",
    "n_samples = 30\n",
    "X = np.sort(np.random.rand(n_samples))\n",
    "y = fn(X) + np.random.randn(n_samples) * 0.1\n",
    "\n",
    "plt.scatter(X,y,label=\"Samples\")\n",
    "plt.title('synthetic dataset')\n",
    "plt.xlabel('X')\n",
    "plt.ylabel('Y')\n",
    "plt.legend(loc=\"best\")\n",
    "plt.show()"
   ]
  },
  {
   "cell_type": "markdown",
   "id": "weird-monday",
   "metadata": {
    "pycharm": {
     "name": "#%% md\n"
    }
   },
   "source": [
    "### 3.4 Preprocess the Data, build model and evaluate model \n",
    "\n",
    "* We will build three polynomial models with degrees [1, 4, 15] and observe the effect of increasing the degree of complixity of the model on how well it suits the data.\n",
    "* We will evaluate our model using cross validation"
   ]
  },
  {
   "cell_type": "code",
<<<<<<< HEAD
   "execution_count": 18,
=======
   "execution_count": null,
>>>>>>> 125518d54b4c7f37fd1c8b4fde032a96caf23bae
   "id": "central-obligation",
   "metadata": {
    "pycharm": {
     "name": "#%%\n"
    }
   },
<<<<<<< HEAD
   "outputs": [
    {
     "data": {
      "image/png": "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",
      "text/plain": [
       "<Figure size 1400x500 with 3 Axes>"
      ]
     },
     "metadata": {},
     "output_type": "display_data"
    }
   ],
=======
   "outputs": [],
>>>>>>> 125518d54b4c7f37fd1c8b4fde032a96caf23bae
   "source": [
    "degrees = [1, 4, 15]\n",
    "\n",
    "plt.figure(figsize=(14, 5))\n",
    "for i in range(len(degrees)):\n",
    "    ax = plt.subplot(1, len(degrees), i + 1)\n",
    "    plt.setp(ax, xticks=(), yticks=())\n",
    "\n",
    "    polynomial_features = PolynomialFeatures(degree=degrees[i])\n",
    "    linear_regression = LinearRegression()\n",
    "    pipeline = Pipeline([(\"polynomial_features\", polynomial_features),\n",
    "                         \n",
    "                         (\"linear_regression\", linear_regression)])\n",
<<<<<<< HEAD
    "\n",
=======
>>>>>>> 125518d54b4c7f37fd1c8b4fde032a96caf23bae
    "    pipeline.fit(X[:, np.newaxis], y)\n",
    "\n",
    "    # Evaluate the models using crossvalidation\n",
    "    scores = cross_val_score(pipeline, X[:, np.newaxis], y,\n",
    "                             scoring=\"neg_mean_squared_error\", cv=10)\n",
    "\n",
    "    X_test = np.linspace(0, 1, 100)\n",
    "    plt.plot(X_test, pipeline.predict(X_test[:, np.newaxis]), label=\"Model\")\n",
    "    plt.plot(X_test, fn(X_test), label=\"True function\")\n",
    "    plt.scatter(X, y, edgecolor='b', s=20, label=\"Samples\")\n",
    "    plt.xlabel(\"x\")\n",
    "    plt.ylabel(\"y\")\n",
    "    plt.xlim((0, 1))\n",
    "    plt.ylim((-2, 2))\n",
    "    plt.legend(loc=\"best\")\n",
    "    plt.title(\"Degree {}\\nMSE = {:.2e}(+/- {:.2e})\".format(\n",
    "        degrees[i], -scores.mean(), scores.std()))\n",
    "plt.show()"
   ]
  },
  {
   "cell_type": "markdown",
   "id": "resistant-cameroon",
   "metadata": {
    "pycharm": {
     "name": "#%% md\n"
    }
   },
   "source": [
    "## <center>Self practice</center>\n",
    "\n",
    "* Using steel industry energy consumption dataset from ([Link](https://archive.ics.uci.edu/dataset/851/steel+industry+energy+consumption)) or `ml-regression.db`.\n",
    "    1. Split the data to train and test set (80% training). Use [`sklearn.model_selection.train_test_split`](https://scikit-learn.org/stable/modules/generated/sklearn.model_selection.train_test_split.html)\n",
    "    1. Train a multiple linear regression model that will predict the energy consumption `(Usage_kWh)`.\n",
    "    1. Print the model `Mean Absolute Error`, `Mean Squared Error` and `Root Mean Squared Error`\n",
    "\n",
    "\n",
<<<<<<< HEAD
    "* Select one independent and select `Usage_kWh` as dependent variable \n",
=======
    "* Select one indipendent and select `Usage_kWh` as dependent variable \n",
>>>>>>> 125518d54b4c7f37fd1c8b4fde032a96caf23bae
    "    1. Visualise the data (using `matplotlib`)\n",
    "    1. Create a Polynomial Regression model using `[1,5,24]` as degrees\n",
    "    1. Explain your observations in terms of Over-fitting, Under-fitting, Bias-Variance trade-offs.\n",
    "\n",
    "* Write a brief explanation of the insights that you got from the datasets  "
   ]
  },
  {
<<<<<<< HEAD
   "cell_type": "markdown",
   "id": "e3b8be40",
   "metadata": {},
   "source": [
    "## PreProcessing"
   ]
  },
  {
   "cell_type": "code",
   "execution_count": 19,
   "id": "72ab79f6-3683-40c8-80c1-7b07a6aa8bff",
   "metadata": {},
   "outputs": [
    {
     "data": {
      "text/html": [
       "<div>\n",
       "<style scoped>\n",
       "    .dataframe tbody tr th:only-of-type {\n",
       "        vertical-align: middle;\n",
       "    }\n",
       "\n",
       "    .dataframe tbody tr th {\n",
       "        vertical-align: top;\n",
       "    }\n",
       "\n",
       "    .dataframe thead th {\n",
       "        text-align: right;\n",
       "    }\n",
       "</style>\n",
       "<table border=\"1\" class=\"dataframe\">\n",
       "  <thead>\n",
       "    <tr style=\"text-align: right;\">\n",
       "      <th></th>\n",
       "      <th>date</th>\n",
       "      <th>Usage_kWh</th>\n",
       "      <th>Lagging_Current_Reactive.Power_kVarh</th>\n",
       "      <th>Leading_Current_Reactive_Power_kVarh</th>\n",
       "      <th>CO2(tCO2)</th>\n",
       "      <th>Lagging_Current_Power_Factor</th>\n",
       "      <th>Leading_Current_Power_Factor</th>\n",
       "      <th>NSM</th>\n",
       "      <th>WeekStatus</th>\n",
       "      <th>Day_of_week</th>\n",
       "      <th>Load_Type</th>\n",
       "    </tr>\n",
       "  </thead>\n",
       "  <tbody>\n",
       "    <tr>\n",
       "      <th>0</th>\n",
       "      <td>2018-01-01 00:15:00.000000</td>\n",
       "      <td>3.17</td>\n",
       "      <td>2.95</td>\n",
       "      <td>0.0</td>\n",
       "      <td>0.0</td>\n",
       "      <td>73.21</td>\n",
       "      <td>100.0</td>\n",
       "      <td>900</td>\n",
       "      <td>Weekday</td>\n",
       "      <td>Monday</td>\n",
       "      <td>Light_Load</td>\n",
       "    </tr>\n",
       "    <tr>\n",
       "      <th>1</th>\n",
       "      <td>2018-01-01 00:30:00.000000</td>\n",
       "      <td>4.00</td>\n",
       "      <td>4.46</td>\n",
       "      <td>0.0</td>\n",
       "      <td>0.0</td>\n",
       "      <td>66.77</td>\n",
       "      <td>100.0</td>\n",
       "      <td>1800</td>\n",
       "      <td>Weekday</td>\n",
       "      <td>Monday</td>\n",
       "      <td>Light_Load</td>\n",
       "    </tr>\n",
       "    <tr>\n",
       "      <th>2</th>\n",
       "      <td>2018-01-01 00:45:00.000000</td>\n",
       "      <td>3.24</td>\n",
       "      <td>3.28</td>\n",
       "      <td>0.0</td>\n",
       "      <td>0.0</td>\n",
       "      <td>70.28</td>\n",
       "      <td>100.0</td>\n",
       "      <td>2700</td>\n",
       "      <td>Weekday</td>\n",
       "      <td>Monday</td>\n",
       "      <td>Light_Load</td>\n",
       "    </tr>\n",
       "    <tr>\n",
       "      <th>3</th>\n",
       "      <td>2018-01-01 01:00:00.000000</td>\n",
       "      <td>3.31</td>\n",
       "      <td>3.56</td>\n",
       "      <td>0.0</td>\n",
       "      <td>0.0</td>\n",
       "      <td>68.09</td>\n",
       "      <td>100.0</td>\n",
       "      <td>3600</td>\n",
       "      <td>Weekday</td>\n",
       "      <td>Monday</td>\n",
       "      <td>Light_Load</td>\n",
       "    </tr>\n",
       "    <tr>\n",
       "      <th>4</th>\n",
       "      <td>2018-01-01 01:15:00.000000</td>\n",
       "      <td>3.82</td>\n",
       "      <td>4.50</td>\n",
       "      <td>0.0</td>\n",
       "      <td>0.0</td>\n",
       "      <td>64.72</td>\n",
       "      <td>100.0</td>\n",
       "      <td>4500</td>\n",
       "      <td>Weekday</td>\n",
       "      <td>Monday</td>\n",
       "      <td>Light_Load</td>\n",
       "    </tr>\n",
       "  </tbody>\n",
       "</table>\n",
       "</div>"
      ],
      "text/plain": [
       "                         date  Usage_kWh  \\\n",
       "0  2018-01-01 00:15:00.000000       3.17   \n",
       "1  2018-01-01 00:30:00.000000       4.00   \n",
       "2  2018-01-01 00:45:00.000000       3.24   \n",
       "3  2018-01-01 01:00:00.000000       3.31   \n",
       "4  2018-01-01 01:15:00.000000       3.82   \n",
       "\n",
       "   Lagging_Current_Reactive.Power_kVarh  Leading_Current_Reactive_Power_kVarh  \\\n",
       "0                                  2.95                                   0.0   \n",
       "1                                  4.46                                   0.0   \n",
       "2                                  3.28                                   0.0   \n",
       "3                                  3.56                                   0.0   \n",
       "4                                  4.50                                   0.0   \n",
       "\n",
       "   CO2(tCO2)  Lagging_Current_Power_Factor  Leading_Current_Power_Factor  \\\n",
       "0        0.0                         73.21                         100.0   \n",
       "1        0.0                         66.77                         100.0   \n",
       "2        0.0                         70.28                         100.0   \n",
       "3        0.0                         68.09                         100.0   \n",
       "4        0.0                         64.72                         100.0   \n",
       "\n",
       "    NSM WeekStatus Day_of_week   Load_Type  \n",
       "0   900    Weekday      Monday  Light_Load  \n",
       "1  1800    Weekday      Monday  Light_Load  \n",
       "2  2700    Weekday      Monday  Light_Load  \n",
       "3  3600    Weekday      Monday  Light_Load  \n",
       "4  4500    Weekday      Monday  Light_Load  "
      ]
     },
     "execution_count": 19,
     "metadata": {},
     "output_type": "execute_result"
    }
   ],
   "source": [
    "with session_engine.connect() as conn: \n",
    "    steel_df = pd.read_sql_query(text('SELECT * FROM steel_industry_data'), conn)\n",
    "\n",
    "steel_df.drop(columns=['index'],inplace=True)\n",
    "steel_df.head()\n",
    "\n",
    "# from ydata_profiling import ProfileReport\n",
    "# report = ProfileReport(steel_df)\n",
    "# report.to_file('data_profile_report.html')\n",
    "\n",
    "#steel_df.select_dtypes(include=['object']).columns.tolist()"
   ]
  },
  {
   "cell_type": "markdown",
   "id": "ae2b4da5",
   "metadata": {},
   "source": [
    "#### Feature Engineering\n",
    "Extract features from date"
   ]
  },
  {
   "cell_type": "code",
   "execution_count": 20,
   "id": "9d9f5edb",
   "metadata": {},
   "outputs": [
    {
     "data": {
      "text/plain": [
       "35035   2018-12-31 23:00:00\n",
       "35036   2018-12-31 23:15:00\n",
       "35037   2018-12-31 23:30:00\n",
       "35038   2018-12-31 23:45:00\n",
       "35039   2018-12-31 00:00:00\n",
       "Name: date, dtype: datetime64[ns]"
      ]
     },
     "execution_count": 20,
     "metadata": {},
     "output_type": "execute_result"
    }
   ],
   "source": [
    "\n",
    "date_series  = pd.to_datetime(steel_df.date)\n",
    "date_series.tail()"
   ]
  },
  {
   "cell_type": "code",
   "execution_count": 21,
   "id": "faaecf3f",
   "metadata": {},
   "outputs": [],
   "source": [
    "'''secs are all zeros , years are all unique'''\n",
    "steel_df['dateMonth'] = date_series.dt.month\n",
    "steel_df['dateDay'] = date_series.dt.day\n",
    "steel_df['timeHour'] = date_series.dt.hour\n",
    "steel_df['timeMin'] = date_series.dt.minute\n",
    "\n",
    "steel_df.drop(columns=['date'],inplace=True)"
   ]
  },
  {
   "cell_type": "code",
   "execution_count": 22,
   "id": "f7b70b6c",
   "metadata": {},
   "outputs": [
    {
     "data": {
      "text/html": [
       "<div>\n",
       "<style scoped>\n",
       "    .dataframe tbody tr th:only-of-type {\n",
       "        vertical-align: middle;\n",
       "    }\n",
       "\n",
       "    .dataframe tbody tr th {\n",
       "        vertical-align: top;\n",
       "    }\n",
       "\n",
       "    .dataframe thead th {\n",
       "        text-align: right;\n",
       "    }\n",
       "</style>\n",
       "<table border=\"1\" class=\"dataframe\">\n",
       "  <thead>\n",
       "    <tr style=\"text-align: right;\">\n",
       "      <th></th>\n",
       "      <th>Usage_kWh</th>\n",
       "      <th>Lagging_Current_Reactive.Power_kVarh</th>\n",
       "      <th>Leading_Current_Reactive_Power_kVarh</th>\n",
       "      <th>CO2(tCO2)</th>\n",
       "      <th>Lagging_Current_Power_Factor</th>\n",
       "      <th>Leading_Current_Power_Factor</th>\n",
       "      <th>NSM</th>\n",
       "      <th>WeekStatus</th>\n",
       "      <th>Day_of_week</th>\n",
       "      <th>Load_Type</th>\n",
       "      <th>dateMonth</th>\n",
       "      <th>dateDay</th>\n",
       "      <th>timeHour</th>\n",
       "      <th>timeMin</th>\n",
       "    </tr>\n",
       "  </thead>\n",
       "  <tbody>\n",
       "    <tr>\n",
       "      <th>0</th>\n",
       "      <td>3.17</td>\n",
       "      <td>2.95</td>\n",
       "      <td>0.0</td>\n",
       "      <td>0.0</td>\n",
       "      <td>73.21</td>\n",
       "      <td>100.0</td>\n",
       "      <td>900</td>\n",
       "      <td>Weekday</td>\n",
       "      <td>Monday</td>\n",
       "      <td>Light_Load</td>\n",
       "      <td>1</td>\n",
       "      <td>1</td>\n",
       "      <td>0</td>\n",
       "      <td>15</td>\n",
       "    </tr>\n",
       "    <tr>\n",
       "      <th>1</th>\n",
       "      <td>4.00</td>\n",
       "      <td>4.46</td>\n",
       "      <td>0.0</td>\n",
       "      <td>0.0</td>\n",
       "      <td>66.77</td>\n",
       "      <td>100.0</td>\n",
       "      <td>1800</td>\n",
       "      <td>Weekday</td>\n",
       "      <td>Monday</td>\n",
       "      <td>Light_Load</td>\n",
       "      <td>1</td>\n",
       "      <td>1</td>\n",
       "      <td>0</td>\n",
       "      <td>30</td>\n",
       "    </tr>\n",
       "    <tr>\n",
       "      <th>2</th>\n",
       "      <td>3.24</td>\n",
       "      <td>3.28</td>\n",
       "      <td>0.0</td>\n",
       "      <td>0.0</td>\n",
       "      <td>70.28</td>\n",
       "      <td>100.0</td>\n",
       "      <td>2700</td>\n",
       "      <td>Weekday</td>\n",
       "      <td>Monday</td>\n",
       "      <td>Light_Load</td>\n",
       "      <td>1</td>\n",
       "      <td>1</td>\n",
       "      <td>0</td>\n",
       "      <td>45</td>\n",
       "    </tr>\n",
       "    <tr>\n",
       "      <th>3</th>\n",
       "      <td>3.31</td>\n",
       "      <td>3.56</td>\n",
       "      <td>0.0</td>\n",
       "      <td>0.0</td>\n",
       "      <td>68.09</td>\n",
       "      <td>100.0</td>\n",
       "      <td>3600</td>\n",
       "      <td>Weekday</td>\n",
       "      <td>Monday</td>\n",
       "      <td>Light_Load</td>\n",
       "      <td>1</td>\n",
       "      <td>1</td>\n",
       "      <td>1</td>\n",
       "      <td>0</td>\n",
       "    </tr>\n",
       "    <tr>\n",
       "      <th>4</th>\n",
       "      <td>3.82</td>\n",
       "      <td>4.50</td>\n",
       "      <td>0.0</td>\n",
       "      <td>0.0</td>\n",
       "      <td>64.72</td>\n",
       "      <td>100.0</td>\n",
       "      <td>4500</td>\n",
       "      <td>Weekday</td>\n",
       "      <td>Monday</td>\n",
       "      <td>Light_Load</td>\n",
       "      <td>1</td>\n",
       "      <td>1</td>\n",
       "      <td>1</td>\n",
       "      <td>15</td>\n",
       "    </tr>\n",
       "  </tbody>\n",
       "</table>\n",
       "</div>"
      ],
      "text/plain": [
       "   Usage_kWh  Lagging_Current_Reactive.Power_kVarh  \\\n",
       "0       3.17                                  2.95   \n",
       "1       4.00                                  4.46   \n",
       "2       3.24                                  3.28   \n",
       "3       3.31                                  3.56   \n",
       "4       3.82                                  4.50   \n",
       "\n",
       "   Leading_Current_Reactive_Power_kVarh  CO2(tCO2)  \\\n",
       "0                                   0.0        0.0   \n",
       "1                                   0.0        0.0   \n",
       "2                                   0.0        0.0   \n",
       "3                                   0.0        0.0   \n",
       "4                                   0.0        0.0   \n",
       "\n",
       "   Lagging_Current_Power_Factor  Leading_Current_Power_Factor   NSM  \\\n",
       "0                         73.21                         100.0   900   \n",
       "1                         66.77                         100.0  1800   \n",
       "2                         70.28                         100.0  2700   \n",
       "3                         68.09                         100.0  3600   \n",
       "4                         64.72                         100.0  4500   \n",
       "\n",
       "  WeekStatus Day_of_week   Load_Type  dateMonth  dateDay  timeHour  timeMin  \n",
       "0    Weekday      Monday  Light_Load          1        1         0       15  \n",
       "1    Weekday      Monday  Light_Load          1        1         0       30  \n",
       "2    Weekday      Monday  Light_Load          1        1         0       45  \n",
       "3    Weekday      Monday  Light_Load          1        1         1        0  \n",
       "4    Weekday      Monday  Light_Load          1        1         1       15  "
      ]
     },
     "execution_count": 22,
     "metadata": {},
     "output_type": "execute_result"
    }
   ],
   "source": [
    "steel_df.head()"
   ]
  },
  {
   "cell_type": "markdown",
   "id": "a8be997b",
   "metadata": {},
   "source": [
    "Use Ordinal encoder for `Load_Type` and OHE for `WeekStatus` and `Day_of_week`"
   ]
  },
  {
   "cell_type": "code",
   "execution_count": 23,
   "id": "e40a1dd9",
   "metadata": {},
   "outputs": [
    {
     "data": {
      "text/html": [
       "<div>\n",
       "<style scoped>\n",
       "    .dataframe tbody tr th:only-of-type {\n",
       "        vertical-align: middle;\n",
       "    }\n",
       "\n",
       "    .dataframe tbody tr th {\n",
       "        vertical-align: top;\n",
       "    }\n",
       "\n",
       "    .dataframe thead th {\n",
       "        text-align: right;\n",
       "    }\n",
       "</style>\n",
       "<table border=\"1\" class=\"dataframe\">\n",
       "  <thead>\n",
       "    <tr style=\"text-align: right;\">\n",
       "      <th></th>\n",
       "      <th>Usage_kWh</th>\n",
       "      <th>Lagging_Current_Reactive.Power_kVarh</th>\n",
       "      <th>Leading_Current_Reactive_Power_kVarh</th>\n",
       "      <th>CO2(tCO2)</th>\n",
       "      <th>Lagging_Current_Power_Factor</th>\n",
       "      <th>Leading_Current_Power_Factor</th>\n",
       "      <th>NSM</th>\n",
       "      <th>WeekStatus_1</th>\n",
       "      <th>WeekStatus_2</th>\n",
       "      <th>Day_of_week_1</th>\n",
       "      <th>...</th>\n",
       "      <th>Day_of_week_3</th>\n",
       "      <th>Day_of_week_4</th>\n",
       "      <th>Day_of_week_5</th>\n",
       "      <th>Day_of_week_6</th>\n",
       "      <th>Day_of_week_7</th>\n",
       "      <th>Load_Type</th>\n",
       "      <th>dateMonth</th>\n",
       "      <th>dateDay</th>\n",
       "      <th>timeHour</th>\n",
       "      <th>timeMin</th>\n",
       "    </tr>\n",
       "  </thead>\n",
       "  <tbody>\n",
       "    <tr>\n",
       "      <th>0</th>\n",
       "      <td>3.17</td>\n",
       "      <td>2.95</td>\n",
       "      <td>0.0</td>\n",
       "      <td>0.0</td>\n",
       "      <td>73.21</td>\n",
       "      <td>100.0</td>\n",
       "      <td>900</td>\n",
       "      <td>1</td>\n",
       "      <td>0</td>\n",
       "      <td>1</td>\n",
       "      <td>...</td>\n",
       "      <td>0</td>\n",
       "      <td>0</td>\n",
       "      <td>0</td>\n",
       "      <td>0</td>\n",
       "      <td>0</td>\n",
       "      <td>0</td>\n",
       "      <td>1</td>\n",
       "      <td>1</td>\n",
       "      <td>0</td>\n",
       "      <td>15</td>\n",
       "    </tr>\n",
       "    <tr>\n",
       "      <th>1</th>\n",
       "      <td>4.00</td>\n",
       "      <td>4.46</td>\n",
       "      <td>0.0</td>\n",
       "      <td>0.0</td>\n",
       "      <td>66.77</td>\n",
       "      <td>100.0</td>\n",
       "      <td>1800</td>\n",
       "      <td>1</td>\n",
       "      <td>0</td>\n",
       "      <td>1</td>\n",
       "      <td>...</td>\n",
       "      <td>0</td>\n",
       "      <td>0</td>\n",
       "      <td>0</td>\n",
       "      <td>0</td>\n",
       "      <td>0</td>\n",
       "      <td>0</td>\n",
       "      <td>1</td>\n",
       "      <td>1</td>\n",
       "      <td>0</td>\n",
       "      <td>30</td>\n",
       "    </tr>\n",
       "    <tr>\n",
       "      <th>2</th>\n",
       "      <td>3.24</td>\n",
       "      <td>3.28</td>\n",
       "      <td>0.0</td>\n",
       "      <td>0.0</td>\n",
       "      <td>70.28</td>\n",
       "      <td>100.0</td>\n",
       "      <td>2700</td>\n",
       "      <td>1</td>\n",
       "      <td>0</td>\n",
       "      <td>1</td>\n",
       "      <td>...</td>\n",
       "      <td>0</td>\n",
       "      <td>0</td>\n",
       "      <td>0</td>\n",
       "      <td>0</td>\n",
       "      <td>0</td>\n",
       "      <td>0</td>\n",
       "      <td>1</td>\n",
       "      <td>1</td>\n",
       "      <td>0</td>\n",
       "      <td>45</td>\n",
       "    </tr>\n",
       "    <tr>\n",
       "      <th>3</th>\n",
       "      <td>3.31</td>\n",
       "      <td>3.56</td>\n",
       "      <td>0.0</td>\n",
       "      <td>0.0</td>\n",
       "      <td>68.09</td>\n",
       "      <td>100.0</td>\n",
       "      <td>3600</td>\n",
       "      <td>1</td>\n",
       "      <td>0</td>\n",
       "      <td>1</td>\n",
       "      <td>...</td>\n",
       "      <td>0</td>\n",
       "      <td>0</td>\n",
       "      <td>0</td>\n",
       "      <td>0</td>\n",
       "      <td>0</td>\n",
       "      <td>0</td>\n",
       "      <td>1</td>\n",
       "      <td>1</td>\n",
       "      <td>1</td>\n",
       "      <td>0</td>\n",
       "    </tr>\n",
       "    <tr>\n",
       "      <th>4</th>\n",
       "      <td>3.82</td>\n",
       "      <td>4.50</td>\n",
       "      <td>0.0</td>\n",
       "      <td>0.0</td>\n",
       "      <td>64.72</td>\n",
       "      <td>100.0</td>\n",
       "      <td>4500</td>\n",
       "      <td>1</td>\n",
       "      <td>0</td>\n",
       "      <td>1</td>\n",
       "      <td>...</td>\n",
       "      <td>0</td>\n",
       "      <td>0</td>\n",
       "      <td>0</td>\n",
       "      <td>0</td>\n",
       "      <td>0</td>\n",
       "      <td>0</td>\n",
       "      <td>1</td>\n",
       "      <td>1</td>\n",
       "      <td>1</td>\n",
       "      <td>15</td>\n",
       "    </tr>\n",
       "  </tbody>\n",
       "</table>\n",
       "<p>5 rows × 21 columns</p>\n",
       "</div>"
      ],
      "text/plain": [
       "   Usage_kWh  Lagging_Current_Reactive.Power_kVarh  \\\n",
       "0       3.17                                  2.95   \n",
       "1       4.00                                  4.46   \n",
       "2       3.24                                  3.28   \n",
       "3       3.31                                  3.56   \n",
       "4       3.82                                  4.50   \n",
       "\n",
       "   Leading_Current_Reactive_Power_kVarh  CO2(tCO2)  \\\n",
       "0                                   0.0        0.0   \n",
       "1                                   0.0        0.0   \n",
       "2                                   0.0        0.0   \n",
       "3                                   0.0        0.0   \n",
       "4                                   0.0        0.0   \n",
       "\n",
       "   Lagging_Current_Power_Factor  Leading_Current_Power_Factor   NSM  \\\n",
       "0                         73.21                         100.0   900   \n",
       "1                         66.77                         100.0  1800   \n",
       "2                         70.28                         100.0  2700   \n",
       "3                         68.09                         100.0  3600   \n",
       "4                         64.72                         100.0  4500   \n",
       "\n",
       "   WeekStatus_1  WeekStatus_2  Day_of_week_1  ...  Day_of_week_3  \\\n",
       "0             1             0              1  ...              0   \n",
       "1             1             0              1  ...              0   \n",
       "2             1             0              1  ...              0   \n",
       "3             1             0              1  ...              0   \n",
       "4             1             0              1  ...              0   \n",
       "\n",
       "   Day_of_week_4  Day_of_week_5  Day_of_week_6  Day_of_week_7  Load_Type  \\\n",
       "0              0              0              0              0          0   \n",
       "1              0              0              0              0          0   \n",
       "2              0              0              0              0          0   \n",
       "3              0              0              0              0          0   \n",
       "4              0              0              0              0          0   \n",
       "\n",
       "   dateMonth  dateDay  timeHour  timeMin  \n",
       "0          1        1         0       15  \n",
       "1          1        1         0       30  \n",
       "2          1        1         0       45  \n",
       "3          1        1         1        0  \n",
       "4          1        1         1       15  \n",
       "\n",
       "[5 rows x 21 columns]"
      ]
     },
     "execution_count": 23,
     "metadata": {},
     "output_type": "execute_result"
    }
   ],
   "source": [
    "from category_encoders import OneHotEncoder,OrdinalEncoder\n",
    "\n",
    "steel_df = OneHotEncoder(cols=['WeekStatus','Day_of_week']).fit_transform(steel_df)\n",
    "steel_df = OrdinalEncoder(cols=['Load_Type'],mapping= [ {'col': 'Load_Type', 'mapping': {'Light_Load': 0, 'Medium_Load': 1, 'Maximum_Load': 2}}]).fit_transform(steel_df)\n",
    "steel_df.head()"
   ]
  },
  {
   "cell_type": "markdown",
   "id": "924b7a65",
   "metadata": {},
   "source": [
    "## Tasks"
   ]
  },
  {
   "cell_type": "markdown",
   "id": "89335893",
   "metadata": {},
   "source": [
    "1. Split the data to train and test set (80% training). Use [`sklearn.model_selection.train_test_split`](https://scikit-learn.org/stable/modules/generated/sklearn.model_selection.train_test_split.html)"
   ]
  },
  {
   "cell_type": "code",
   "execution_count": 24,
   "id": "1a68b6a5",
   "metadata": {},
   "outputs": [],
   "source": [
    "X = steel_df.drop(columns=['Usage_kWh'])\n",
    "y = steel_df.Usage_kWh\n",
    "\n",
    "# dont shuffle because data is time based (I think) \n",
    "# NOTE: Error is higher when shuffled (tested)\n",
    "X_train, X_test, y_train, y_test = train_test_split(X,y,test_size=.2,shuffle=False)"
   ]
  },
  {
   "cell_type": "markdown",
   "id": "a8f03a53",
   "metadata": {},
   "source": [
    "1. Train a multiple linear regression model that will predict the energy consumption `(Usage_kWh)`."
   ]
  },
  {
   "cell_type": "code",
   "execution_count": 25,
   "id": "49929715",
   "metadata": {},
   "outputs": [
    {
     "name": "stdout",
     "output_type": "stream",
     "text": [
      "[ 3.07058324e-01  4.56373725e-02  1.66484290e+03  1.13668873e-01\n",
      "  5.19939802e-02  6.72363147e-06  9.18961714e-02 -9.18961714e-02\n",
      " -8.11935142e-02  6.26436251e-01 -1.15569435e-01 -2.14313136e-01\n",
      " -1.23463994e-01 -1.37689285e-01  4.57931136e-02  6.90312967e-01\n",
      " -2.00590794e-01 -4.11256003e-02  3.86378260e-05 -2.31814349e-03]\n",
      "-8.51827598292132\n"
     ]
    },
    {
     "data": {
      "text/html": [
       "<div>\n",
       "<style scoped>\n",
       "    .dataframe tbody tr th:only-of-type {\n",
       "        vertical-align: middle;\n",
       "    }\n",
       "\n",
       "    .dataframe tbody tr th {\n",
       "        vertical-align: top;\n",
       "    }\n",
       "\n",
       "    .dataframe thead th {\n",
       "        text-align: right;\n",
       "    }\n",
       "</style>\n",
       "<table border=\"1\" class=\"dataframe\">\n",
       "  <thead>\n",
       "    <tr style=\"text-align: right;\">\n",
       "      <th></th>\n",
       "      <th>Actual</th>\n",
       "      <th>Predicted</th>\n",
       "    </tr>\n",
       "  </thead>\n",
       "  <tbody>\n",
       "    <tr>\n",
       "      <th>28032</th>\n",
       "      <td>64.33</td>\n",
       "      <td>66.853548</td>\n",
       "    </tr>\n",
       "    <tr>\n",
       "      <th>28033</th>\n",
       "      <td>45.22</td>\n",
       "      <td>45.696120</td>\n",
       "    </tr>\n",
       "    <tr>\n",
       "      <th>28034</th>\n",
       "      <td>19.84</td>\n",
       "      <td>24.042172</td>\n",
       "    </tr>\n",
       "    <tr>\n",
       "      <th>28035</th>\n",
       "      <td>7.09</td>\n",
       "      <td>3.718341</td>\n",
       "    </tr>\n",
       "    <tr>\n",
       "      <th>28036</th>\n",
       "      <td>5.72</td>\n",
       "      <td>2.941927</td>\n",
       "    </tr>\n",
       "    <tr>\n",
       "      <th>...</th>\n",
       "      <td>...</td>\n",
       "      <td>...</td>\n",
       "    </tr>\n",
       "    <tr>\n",
       "      <th>35035</th>\n",
       "      <td>3.85</td>\n",
       "      <td>2.118587</td>\n",
       "    </tr>\n",
       "    <tr>\n",
       "      <th>35036</th>\n",
       "      <td>3.74</td>\n",
       "      <td>2.724650</td>\n",
       "    </tr>\n",
       "    <tr>\n",
       "      <th>35037</th>\n",
       "      <td>3.78</td>\n",
       "      <td>3.194844</td>\n",
       "    </tr>\n",
       "    <tr>\n",
       "      <th>35038</th>\n",
       "      <td>3.78</td>\n",
       "      <td>3.258168</td>\n",
       "    </tr>\n",
       "    <tr>\n",
       "      <th>35039</th>\n",
       "      <td>3.67</td>\n",
       "      <td>2.716823</td>\n",
       "    </tr>\n",
       "  </tbody>\n",
       "</table>\n",
       "<p>7008 rows × 2 columns</p>\n",
       "</div>"
      ],
      "text/plain": [
       "       Actual  Predicted\n",
       "28032   64.33  66.853548\n",
       "28033   45.22  45.696120\n",
       "28034   19.84  24.042172\n",
       "28035    7.09   3.718341\n",
       "28036    5.72   2.941927\n",
       "...       ...        ...\n",
       "35035    3.85   2.118587\n",
       "35036    3.74   2.724650\n",
       "35037    3.78   3.194844\n",
       "35038    3.78   3.258168\n",
       "35039    3.67   2.716823\n",
       "\n",
       "[7008 rows x 2 columns]"
      ]
     },
     "execution_count": 25,
     "metadata": {},
     "output_type": "execute_result"
    }
   ],
   "source": [
    "regressor = LinearRegression().fit(X_train,y_train)\n",
    "print(regressor.coef_)\n",
    "print(regressor.intercept_)\n",
    "\n",
    "y_pred = regressor.predict(X_test)\n",
    "\n",
    "ev_df = pd.DataFrame({'Actual': y_test, 'Predicted': y_pred})\n",
    "ev_df"
   ]
  },
  {
   "cell_type": "markdown",
   "id": "4f62375c",
   "metadata": {},
   "source": [
    "3. Print the model `Mean Absolute Error`, `Mean Squared Error` and `Root Mean Squared Error`"
   ]
  },
  {
   "cell_type": "code",
   "execution_count": 26,
   "id": "51ab9285",
   "metadata": {},
   "outputs": [
    {
     "name": "stdout",
     "output_type": "stream",
     "text": [
      "Root Mean Squared Error: 3.640265056595164\n",
      "Mean Absolute Error: 2.576380495070597\n",
      "Mean Squared Error: 13.251529682267794\n"
     ]
    }
   ],
   "source": [
    "print('Root Mean Squared Error:',np.sqrt(metrics.mean_squared_error(y_test, y_pred)))\n",
    "print('Mean Absolute Error:', metrics.mean_absolute_error(y_test, y_pred))\n",
    "print('Mean Squared Error:',metrics.mean_squared_error(y_test, y_pred))\n",
    "#print('R2:', r2_score(y_test, y_pred))"
   ]
  },
  {
   "cell_type": "markdown",
   "id": "3a35532d",
   "metadata": {},
   "source": [
    "* Select one independent and select `Usage_kWh` as dependent variable \n",
    "    1. Visualise the data (using `matplotlib`)\n",
    "    1. Create a Polynomial Regression model using `[1,5,24]` as degrees\n",
    "    1. Explain your observations in terms of Over-fitting, Under-fitting, Bias-Variance trade-offs."
   ]
  },
  {
   "cell_type": "code",
   "execution_count": 27,
   "id": "ccd8c888",
   "metadata": {},
   "outputs": [
    {
     "data": {
      "image/png": "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",
      "text/plain": [
       "<Figure size 640x480 with 1 Axes>"
      ]
     },
     "metadata": {},
     "output_type": "display_data"
    }
   ],
   "source": [
    "y = steel_df['Usage_kWh']\n",
    "X = steel_df['Lagging_Current_Reactive.Power_kVarh']\n",
    "\n",
    "plt.scatter(X,y,label=\"Samples\")\n",
    "plt.xlabel('NSM')\n",
    "plt.ylabel('Usage_kWh')\n",
    "plt.legend(loc=\"best\")\n",
    "plt.show()"
   ]
  },
  {
   "cell_type": "code",
   "execution_count": 28,
   "id": "31fa9be4",
   "metadata": {},
   "outputs": [
    {
     "data": {
      "image/png": "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",
      "text/plain": [
       "<Figure size 1400x500 with 3 Axes>"
      ]
     },
     "metadata": {},
     "output_type": "display_data"
    }
   ],
   "source": [
    "X_train, X_test, y_train, y_test = train_test_split(X,y,test_size=.2,shuffle=False)\n",
    "\n",
    "degrees = [1, 5, 15]\n",
    "\n",
    "plt.figure(figsize=(14, 5))\n",
    "for i in range(len(degrees)):\n",
    "    ax = plt.subplot(1, len(degrees), i + 1)\n",
    "    plt.setp(ax, xticks=(), yticks=())\n",
    "\n",
    "    polynomial_features = PolynomialFeatures(degree=degrees[i])\n",
    "    linear_regression = LinearRegression()\n",
    "    pipeline = Pipeline([(\"polynomial_features\", polynomial_features),\n",
    "                         \n",
    "                         (\"linear_regression\", linear_regression)])\n",
    "\n",
    "    pipeline.fit(X.values[:, np.newaxis], y)\n",
    "\n",
    "    # Evaluate the models using crossvalidation\n",
    "    scores = cross_val_score(pipeline, X.values[:, np.newaxis], y,\n",
    "                             scoring=\"neg_mean_squared_error\", cv=10)\n",
    "\n",
    "\n",
    "    plt.plot(X_test.values[:, np.newaxis], pipeline.predict(X_test.values[:, np.newaxis]), label=\"Model\")\n",
    "    plt.scatter(X, y, edgecolor='b', s=20, label=\"Samples\")\n",
    "    plt.xlabel(\"x\")\n",
    "    plt.ylabel(\"y\")\n",
    "    # plt.xlim((0, 1))\n",
    "    # plt.ylim((-2, 2))\n",
    "    plt.legend(loc=\"best\")\n",
    "    plt.title(\"Degree {}\\nMSE = {:.2e}(+/- {:.2e})\".format(\n",
    "        degrees[i], -scores.mean(), scores.std()))\n",
    "plt.show()"
   ]
  },
  {
   "cell_type": "markdown",
   "id": "59000a5a",
   "metadata": {},
   "source": [
    "#### Explain your observations in terms of Over-fitting, Under-fitting, Bias-Variance trade-offs.\n",
    "\n",
    "As the data is complex we can notice that the linear model doesnt model the relationship in the data. The polynomial model of degree 5 have a better MSE, but is still generally bad \n",
    "An intermediate polynomial degree (around 2-5) seems to offer a reasonable trade-off between bias and variance, indicating a moderate level of complexity in the data."
   ]
  },
  {
   "cell_type": "markdown",
   "id": "6369d198",
   "metadata": {},
   "source": [
    "#### Write a brief explanation of the insights that you got from the datasets  \n",
    "\n",
    "The model is unable to achieve very low error rates, this could mean there is noise in the dataset, also the polynomial of degree 5 performs has the least MSE. \n",
    "\n",
    "The dataset shows non-linear characteristics, as the polynomial model of degree 5 perfromed perform better than the linear model. A higher-degree polynomial captures this non-linearity, but there's a risk of overfitting when the degree is too high.\n"
   ]
=======
   "cell_type": "code",
   "execution_count": null,
   "id": "72ab79f6-3683-40c8-80c1-7b07a6aa8bff",
   "metadata": {},
   "outputs": [],
   "source": []
>>>>>>> 125518d54b4c7f37fd1c8b4fde032a96caf23bae
  }
 ],
 "metadata": {
  "kernelspec": {
<<<<<<< HEAD
   "display_name": "Python 3",
=======
   "display_name": "Python 3 (ipykernel)",
>>>>>>> 125518d54b4c7f37fd1c8b4fde032a96caf23bae
   "language": "python",
   "name": "python3"
  },
  "language_info": {
   "codemirror_mode": {
    "name": "ipython",
    "version": 3
   },
   "file_extension": ".py",
   "mimetype": "text/x-python",
   "name": "python",
   "nbconvert_exporter": "python",
   "pygments_lexer": "ipython3",
<<<<<<< HEAD
   "version": "3.12.1"
=======
   "version": "3.9.17"
>>>>>>> 125518d54b4c7f37fd1c8b4fde032a96caf23bae
  }
 },
 "nbformat": 4,
 "nbformat_minor": 5
}
